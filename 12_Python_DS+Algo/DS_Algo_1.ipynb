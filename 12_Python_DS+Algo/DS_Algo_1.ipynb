{
 "cells": [
  {
   "cell_type": "code",
   "execution_count": 7,
   "metadata": {
    "collapsed": false
   },
   "outputs": [
    {
     "name": "stdout",
     "output_type": "stream",
     "text": [
      "[1, 2, 3, 5, 34, 67, 98]\n"
     ]
    },
    {
     "data": {
      "text/plain": [
       "' Time Complexity is O( n log n) because at every stage the input is split into half i.e. log n splits and total n comparisons for all stages'"
      ]
     },
     "execution_count": 7,
     "metadata": {},
     "output_type": "execute_result"
    }
   ],
   "source": [
    "# Merge sort + merge two sorted arrays\n",
    "\n",
    "def merge_sort(A):\n",
    "    if len(A) > 1:    # Stopping condition for recursion\n",
    "        mid = len(A)/2\n",
    "        lefthalf = A[:mid]\n",
    "        righthalf = A[mid:]\n",
    "        merge_sort(lefthalf)\n",
    "        merge_sort(righthalf)\n",
    "    \n",
    "        i=0\n",
    "        j=0\n",
    "        k=0\n",
    "    \n",
    "        while i<len(lefthalf) and j<len(righthalf):\n",
    "            if lefthalf[i] < righthalf[j]:\n",
    "                A[k] = lefthalf[i]\n",
    "                i = i+1\n",
    "                k= k+1\n",
    "            else:\n",
    "                A[k] = righthalf[j]\n",
    "                j= j+1\n",
    "                k=k+1\n",
    "    \n",
    "        while i<len(lefthalf):\n",
    "            A[k] = lefthalf[i]\n",
    "            i=i+1\n",
    "            k=k+1\n",
    "        \n",
    "        while j<len(righthalf):\n",
    "            A[k] = righthalf[j]\n",
    "            j=j+1\n",
    "            k=k+1\n",
    "        \n",
    "        \n",
    "\n",
    "A = [2,5,3,98,67,34,1]\n",
    "merge_sort(A)\n",
    "\n",
    "print A\n",
    "        \n",
    "        \n",
    "# Time Complexity: Best Case, Average Case and Worst Case: O(n log n)\n",
    "# Space Complexity: O(n) Auxillary space\n",
    "\n",
    "\"\"\" Time Complexity is O( n log n) because at every stage the input is split into half i.e. log n splits and total n comparisons for all stages\"\"\""
   ]
  },
  {
   "cell_type": "code",
   "execution_count": 65,
   "metadata": {
    "collapsed": false,
    "scrolled": true
   },
   "outputs": [
    {
     "name": "stdout",
     "output_type": "stream",
     "text": [
      "[2, 3, 5, 6, 8]\n"
     ]
    },
    {
     "data": {
      "text/plain": [
       "'For Best Case and Average Case time complexity, if partition happens always at the middle of list, log n divisions/partitions will happen.\\nIn order to find the split point, each of the n items needs to be checked against the pivot value. The result is n log n. For the\\nWorst Case,the split points may not be in the middle and can be very skewed to the left or the right, leaving a very uneven division.\\nHence, n divisions/partitions each requiring n comparisons resulting in worst case complexity = O(n square)'"
      ]
     },
     "execution_count": 65,
     "metadata": {},
     "output_type": "execute_result"
    }
   ],
   "source": [
    "# Quick Sort \n",
    "\n",
    "def quick_sort(A,low,high):\n",
    "    if low < high:\n",
    "        pivot = partition(A,low,high)\n",
    "        quick_sort(A,low,pivot-1)\n",
    "        quick_sort(A,pivot+1,high)\n",
    "    \n",
    "def partition(A,low,high):\n",
    "    pivot = high\n",
    "    for i in range(low,high):\n",
    "        if A[i] <= A[pivot]:\n",
    "            A[i],A[low] = A[low],A[i]\n",
    "            low = low + 1\n",
    "            \n",
    "    A[low], A[pivot] = A[pivot], A[low]\n",
    "    return low\n",
    "\n",
    "\n",
    "\n",
    "A = [2,5,8,3,6]\n",
    "quick_sort(A,0,len(A)-1)\n",
    "print A\n",
    "    \n",
    "            \n",
    "        \n",
    "# Time complexity - O(n log n), worst case - O(n square) when pivot is highest or lowest element in array\n",
    "# Space complexity - O(1)\n",
    "\n",
    "\"\"\"For Best Case and Average Case time complexity, if partition happens always at the middle of list, log n divisions/partitions will happen.\n",
    "In order to find the split point, each of the n items needs to be checked against the pivot value. The result is n log n. For the\n",
    "Worst Case,the split points may not be in the middle and can be very skewed to the left or the right, leaving a very uneven division.\n",
    "Hence, n divisions/partitions each requiring n comparisons resulting in worst case complexity = O(n square)\"\"\""
   ]
  },
  {
   "cell_type": "code",
   "execution_count": 11,
   "metadata": {
    "collapsed": false
   },
   "outputs": [
    {
     "data": {
      "text/plain": [
       "2"
      ]
     },
     "execution_count": 11,
     "metadata": {},
     "output_type": "execute_result"
    }
   ],
   "source": [
    "# Binary search\n",
    "\n",
    "def binary_search(l,n):\n",
    "    low = 0\n",
    "    high = len(l)-1\n",
    "    \n",
    "    while low <= high:\n",
    "        mid = (low+high)/2\n",
    "        \n",
    "        if n == l[mid]:\n",
    "            return mid\n",
    "            \n",
    "        if n < l[mid]:\n",
    "            high = mid - 1\n",
    "            \n",
    "        if n > l[mid]:\n",
    "            low = mid + 1\n",
    "            \n",
    "\n",
    "l = [10,20,30,40,50]\n",
    "binary_search(l,30)\n",
    "        \n",
    "    \n",
    "#Pre-requisite : Sorted List\n",
    "#Time Complexity - O(log n) \n",
    "#Space Complexity - O(1)\n",
    "        "
   ]
  },
  {
   "cell_type": "code",
   "execution_count": 4,
   "metadata": {
    "collapsed": false
   },
   "outputs": [
    {
     "name": "stdout",
     "output_type": "stream",
     "text": [
      "[1, 2, 3, 4, 5]\n",
      "[1, 2, 3, 4, 5]\n",
      "5\n"
     ]
    }
   ],
   "source": [
    "# Remove duplicates from a list + remove duplicates from a sorted array\n",
    "\n",
    "l = [1,2,3,3,4,5,5]\n",
    "\n",
    "# Method 1\n",
    "s = set(l)\n",
    "ll = list(s)\n",
    "print ll\n",
    "\n",
    "# Method 2\n",
    "from collections import defaultdict\n",
    "d = defaultdict(int)\n",
    "for element in l:\n",
    "\n",
    "    if d[element] == 0:\n",
    "        d[element] = 1\n",
    "    else:\n",
    "        continue\n",
    "\n",
    "new_l = []\n",
    "for key in d.keys():\n",
    "    new_l.append(key)\n",
    "    \n",
    "print new_l        \n",
    "\n",
    "# Time complexity - O(n)\n",
    "# Space complexity - O(n)\n",
    "\n",
    "# Return number of unique entries in O(n) time complexity and O(1) space complexity\n",
    "\n",
    "prev_index = 0\n",
    "for i in range(1, len(l)):\n",
    "    if l[prev_index] != l[i]:\n",
    "        l[prev_index] = l[i]\n",
    "        prev_index = prev_index + 1\n",
    "print prev_index\n",
    "        \n",
    "    "
   ]
  },
  {
   "cell_type": "code",
   "execution_count": 26,
   "metadata": {
    "collapsed": false
   },
   "outputs": [
    {
     "name": "stdout",
     "output_type": "stream",
     "text": [
      "[5, 5, 4, 3, 2, 1]\n"
     ]
    }
   ],
   "source": [
    "# Sort in descending order\n",
    "\n",
    "l = [1,2,3,4,5,5]\n",
    "\n",
    "# Method 1\n",
    "l.sort(reverse=True)\n",
    "print l\n",
    "\n",
    "# Method 2 - Merge sort"
   ]
  },
  {
   "cell_type": "code",
   "execution_count": 22,
   "metadata": {
    "collapsed": false
   },
   "outputs": [
    {
     "name": "stdout",
     "output_type": "stream",
     "text": [
      "olleh\n",
      "olleh\n"
     ]
    }
   ],
   "source": [
    "# Reverse a string\n",
    "\n",
    "s = \"hello\"\n",
    "\n",
    "# Method 1\n",
    "print s[::-1]\n",
    "\n",
    "# Method 2\n",
    "l=[]\n",
    "for i in range(len(s)-1,-1,-1):\n",
    "    l.append(s[i])\n",
    "print \"\".join(l)   "
   ]
  },
  {
   "cell_type": "code",
   "execution_count": 36,
   "metadata": {
    "collapsed": false
   },
   "outputs": [
    {
     "name": "stdout",
     "output_type": "stream",
     "text": [
      "12.0\n",
      "5\n",
      "[1, 2, 2.4, 4, 5]\n"
     ]
    }
   ],
   "source": [
    "# Impute missing value with mean\n",
    "\n",
    "l = [1,2,'NaN',4,5]\n",
    "\n",
    "som = 0\n",
    "\n",
    "for index,value in enumerate(l):\n",
    "    if value != 'NaN':\n",
    "        som = float(som + value)\n",
    "    else:\n",
    "        mv_index = index\n",
    "\n",
    "print som\n",
    "print len(l)\n",
    "l[mv_index] = som/len(l)\n",
    "\n",
    "print l\n",
    "\n",
    "    "
   ]
  },
  {
   "cell_type": "code",
   "execution_count": 42,
   "metadata": {
    "collapsed": false
   },
   "outputs": [
    {
     "name": "stdout",
     "output_type": "stream",
     "text": [
      "[0, 0, 1, 1, 1, 1, 1, 1, 1, 1]\n",
      "[2, 3, 5, 7]\n"
     ]
    }
   ],
   "source": [
    "# Enumerate all primes upto n\n",
    "\n",
    "n = 10\n",
    "bool_list = [0,0]\n",
    "bool_list = bool_list + [1] * (n-2)\n",
    "\n",
    "\n",
    "print bool_list\n",
    "\n",
    "\n",
    "primes = []\n",
    "\n",
    "for index in range(2, n):\n",
    "    if index >= 2:\n",
    "        if bool_list[index] == 1:\n",
    "            primes.append(index)\n",
    "            for i in range(index,n,index):\n",
    "                bool_list[i] = 0\n",
    "            \n",
    "\n",
    "print primes\n",
    "\n",
    "# Time complexity - Outer loop: O(n), Inner loop: n/2 + n/3 + n/5 + n/7 + n/11 +   = log log n\n",
    "# Hence total time complexity = n log log n\n",
    "# Space Complexity - O(n)"
   ]
  },
  {
   "cell_type": "code",
   "execution_count": 7,
   "metadata": {
    "collapsed": false
   },
   "outputs": [
    {
     "name": "stdout",
     "output_type": "stream",
     "text": [
      "ABC\n",
      "ACB\n",
      "BAC\n",
      "BCA\n",
      "CBA\n",
      "CAB\n"
     ]
    }
   ],
   "source": [
    "# Permutation of a string - https://www.youtube.com/watch?v=iFafKAUGqrY\n",
    "\n",
    "# Function to print permutations of string\n",
    "# This function takes three parameters: String, Starting index of the string, Ending index of the string\n",
    "\n",
    "def toString(List):\n",
    "    return ''.join(List)\n",
    "\n",
    "def permute(a, l, r):\n",
    "    if l==r:\n",
    "        print toString(a)\n",
    "    else:\n",
    "        for i in range(l,r+1):\n",
    "            a[l], a[i] = a[i], a[l]\n",
    "            permute(a, l+1, r)\n",
    "            a[l], a[i] = a[i], a[l] # backtrack\n",
    "            \n",
    "string = \"ABC\"\n",
    "a = list(string)\n",
    "\n",
    "permute(a, 0, len(string)-1)\n",
    "\n",
    "# Time Complexity: O(n*n!) Note that there are n! permutations and it requires O(n) time to print a permutation."
   ]
  },
  {
   "cell_type": "code",
   "execution_count": 2,
   "metadata": {
    "collapsed": false
   },
   "outputs": [
    {
     "name": "stdout",
     "output_type": "stream",
     "text": [
      "a\n",
      "ab\n",
      "abc\n",
      "ac\n",
      "b\n",
      "bc\n",
      "c\n"
     ]
    }
   ],
   "source": [
    "# Combination - all combinations/subsets of string - https://www.youtube.com/watch?v=DYpIenS6aUI\n",
    "\n",
    "def combination(s,comb=\"\",idx=0,buf=[]):\n",
    "    for i in range (idx,len(s)):\n",
    "        comb = comb+s[i]\n",
    "        buf.append(comb)\n",
    "        print comb\n",
    "        combination(s,comb,i+1,buf)\n",
    "        comb = comb[0:-1]\n",
    "\n",
    "\n",
    "combination(\"abc\")\n",
    "\n",
    "# Time Complexity - 2 to power of n  (2 to power n - 1 subsets)"
   ]
  },
  {
   "cell_type": "code",
   "execution_count": 65,
   "metadata": {
    "collapsed": false
   },
   "outputs": [
    {
     "name": "stdout",
     "output_type": "stream",
     "text": [
      "5\n",
      "Geeks\n"
     ]
    }
   ],
   "source": [
    "# Longest common substring between 2 strings\n",
    "\n",
    "def lcsub(s1, s2):\n",
    "    T = [[0] * len(s2)] * len(s1) # Initialize 2D array [[element] * no_of_cols] * no_of_rows]\n",
    "    maximum = 0\n",
    "    for i in range(1,len(s1)):\n",
    "        for j in range(1, len(s2)):\n",
    "            if s1[i-1] == s2[j-1]:\n",
    "                T[i][j] = T[i-1][j-1] + 1\n",
    "\n",
    "            if maximum < T[i][j]:\n",
    "                maximum = T[i][j]\n",
    "                row = i\n",
    "                col = j\n",
    "    print maximum\n",
    "\n",
    "    \n",
    "    \n",
    "    s =\"\"\n",
    "    while T[row][col] != 0:\n",
    "        s = s1[row -1] + s\n",
    "        row = row - 1\n",
    "        col = col - 1\n",
    "    print s\n",
    "        \n",
    "   \n",
    "\n",
    "            \n",
    "lcsub(\"GeeksforGeeks\", \"GeeksQuiz\")\n",
    "\n",
    "# Time complexity - O(n*m) where n = length of first string and m = length of second string"
   ]
  },
  {
   "cell_type": "raw",
   "metadata": {},
   "source": [
    "* True random numbers - can only be generated by natural processes e.g. radioactive decay, coin flip, dice roll, etc.  \n",
    "* Pseudo random numbers \n",
    "- no predictable relationship between current and next random number,  \n",
    "- require a seed to start off e.g. current time (has to be unique for every sequence) - If the seed is known, the sequence is reproducible\n",
    "- are periodic, meaning after a certain number of iterations, the sequence repeats - if the periodicity is large then for practical purposes it can be ignored. However, it should be sufficiently large for statistical and cryptography purposes"
   ]
  },
  {
   "cell_type": "code",
   "execution_count": 34,
   "metadata": {
    "collapsed": false
   },
   "outputs": [
    {
     "name": "stdout",
     "output_type": "stream",
     "text": [
      "1966.70001221\n"
     ]
    }
   ],
   "source": [
    "# Pseudo Random Number generator - Linear congruential generator\n",
    "# a,b, mod - large numbers\n",
    "# periodicity = mod - 1, max number of pseudo random numbers the formula can produce\n",
    "\n",
    "import time\n",
    "def pseudo_random(seed,a,b,mod):\n",
    "    seed = (a * seed + b) % mod\n",
    "    yield seed\n",
    "    \n",
    "seed = time.time()    # Time in seconds since epoch, not milliseconds (most systems have at max 1 second precision)\n",
    "print next(pseudo_random(seed,100,5000,7000))\n",
    "    \n"
   ]
  },
  {
   "cell_type": "code",
   "execution_count": 10,
   "metadata": {
    "collapsed": false
   },
   "outputs": [
    {
     "name": "stdout",
     "output_type": "stream",
     "text": [
      "3\n",
      "1\n",
      "[4, 2]\n"
     ]
    }
   ],
   "source": [
    "# Random subset/combination of size k + sampling offline data  (without replacement)\n",
    "\n",
    "from random import randint\n",
    "\n",
    "def random_subset(k,A):\n",
    "    for i in range(k):\n",
    "        r = randint(i,len(A)-1)\n",
    "        print r\n",
    "        A[i], A[r] = A[r], A[i]\n",
    "    print A[:k]\n",
    "    \n",
    "random_subset(2, [1,2,3,4])\n",
    "   \n",
    "# Time complexity - O(k)\n",
    "# Space complexity - O(1)"
   ]
  },
  {
   "cell_type": "code",
   "execution_count": 11,
   "metadata": {
    "collapsed": false
   },
   "outputs": [
    {
     "name": "stdout",
     "output_type": "stream",
     "text": [
      "[3, 1, 4, 2]\n"
     ]
    }
   ],
   "source": [
    "# Random permutation (of same size as original set) + shuffle a deck of cards (without replacement)\n",
    "\n",
    "from random import randint\n",
    "\n",
    "def random_perm(A):\n",
    "    for i in range(len(A)):\n",
    "        r = randint(i,len(A)-1) # both boundaries inclusive\n",
    "        A[i], A[r] = A[r], A[i]\n",
    "    print A\n",
    "    \n",
    "random_perm([1,2,3,4])\n",
    "    \n",
    "\n",
    "# Time complexity - O(n)\n",
    "# Space complexity - O(1)"
   ]
  },
  {
   "cell_type": "raw",
   "metadata": {},
   "source": [
    "# Sample online data + select a random subset of size k from a sample of size n when n is unknown\n",
    "\n",
    "Fixed size k uniform sample from arbitrary size N stream in one pass\n",
    "No need to know stream size in advance\n",
    "\n",
    "Include first k items \n",
    "Include item n > k  with probability p(n) = k/n, n > k\n",
    "Pick j uniformly from {1,2,…,n}\n",
    "If j ≤ k, swap item n into location j in reservoir, discard replaced item\n",
    "\n",
    "\n",
    "Explanation: \n",
    "For example, imagine we are to sample 5 lines randomly from a 6-line file. Call i the line number of the input, and N the size of sample desired. For the first 5 lines (where i < = N), our sample fills entirely. \n",
    "\n",
    "It's at successive lines of input that the probabilistic sampling starts: the 6th line has a 5/6th (N/i) chance of being sampled, and if chosen, it will replace one of the previously 5 chosen lines with a 1/5 chance: leaving them a 1 - (5/6 * 1/5) = 5/6 chance of being sampled. Thus all 6 lines have an equal chance of being sampled.\n",
    "\n",
    "In general, as more lines are seen, the chance that any additional line is chosen for the sample falls; but the chance that any previously chosen line could be replaced grows. These two balance such that the probability for any given line of input to be sampled is identical."
   ]
  },
  {
   "cell_type": "code",
   "execution_count": 47,
   "metadata": {
    "collapsed": false
   },
   "outputs": [
    {
     "name": "stdout",
     "output_type": "stream",
     "text": [
      "\n",
      "5\n",
      "3\n",
      "3\n",
      "\n",
      "6\n",
      "4\n",
      "0\n",
      "[6, 3, 4]\n",
      "\n",
      "7\n",
      "5\n",
      "3\n",
      "[6, 3, 4]\n"
     ]
    }
   ],
   "source": [
    "# Sample online data + select a random subset of size k from a sample of size n when n is unknown\n",
    "# Reservoir sampling \n",
    "\n",
    "from random import randint\n",
    "\n",
    "def sample_online(k,A):\n",
    "    \n",
    "    sample = []\n",
    "    for i in range(k):\n",
    "        sample.append(A[i])\n",
    "    \n",
    "    \n",
    "    last_element = k-1\n",
    "    for x in A[k:]:\n",
    "        print \"\"\n",
    "        print x\n",
    "        last_element = last_element + 1\n",
    "        print last_element\n",
    "        r = random.randint(0,last_element)\n",
    "        print r \n",
    "        if r < k:\n",
    "            sample[r] = x\n",
    "            print sample\n",
    "           \n",
    "    return sample\n",
    "\n",
    "A = [2,3,4,5,6,7]\n",
    "k = 3\n",
    "\n",
    "print sample_online(k,A)\n",
    "\n",
    "# Time complexity - proportional to total number of elements in stream since we are spending O(1) time per element\n",
    "# Space Complexity - using k elements : O(k)"
   ]
  },
  {
   "cell_type": "code",
   "execution_count": 29,
   "metadata": {
    "collapsed": false
   },
   "outputs": [
    {
     "name": "stdout",
     "output_type": "stream",
     "text": [
      "1 4\n",
      "2 3\n"
     ]
    }
   ],
   "source": [
    "# Find all pairs whose sum equal to a given number\n",
    "\n",
    "from collections import defaultdict\n",
    "\n",
    "def pair_sum(A,n):\n",
    "    d = defaultdict(int)\n",
    "    for index,value in enumerate(A):   # key is element and value is index\n",
    "        d[value] = index+1\n",
    "    \n",
    "    \n",
    "    for key1 in d.keys():\n",
    "        \n",
    "        key2 = n-key1\n",
    "\n",
    "        if d[key2] and d[key1] != 0:\n",
    "            print key1,key2\n",
    "            d[key1] = 0  # set to zero and add to if condition so as to not repeat\n",
    "\n",
    "\n",
    "A = [1,2,3,4,5,6]\n",
    "n = 5\n",
    "pair_sum(A,n)\n",
    "        \n",
    "        "
   ]
  },
  {
   "cell_type": "code",
   "execution_count": 6,
   "metadata": {
    "collapsed": false
   },
   "outputs": [
    {
     "name": "stdout",
     "output_type": "stream",
     "text": [
      "5\n"
     ]
    }
   ],
   "source": [
    "# Median of a sorted array\n",
    "\n",
    "def find_median(l):\n",
    "    if len(l)%2:\n",
    "        return (l[(len(l)/2) + (1/2)])\n",
    "    else:\n",
    "        return (l[(len(l)/2) - 1] + l[(len(l)/2)])/2\n",
    "    \n",
    "    \n",
    "print find_median([1,3,5,7,9])\n",
    "    \n",
    "    \n"
   ]
  },
  {
   "cell_type": "code",
   "execution_count": 50,
   "metadata": {
    "collapsed": false
   },
   "outputs": [
    {
     "name": "stdout",
     "output_type": "stream",
     "text": [
      "5\n",
      "6\n",
      "here\n",
      "[5, 7, 9]\n",
      "[2, 4, 6]\n",
      "3\n",
      "7\n",
      "4\n",
      "there\n",
      "[5, 7]\n",
      "[4, 6]\n",
      "2\n",
      "5.5\n"
     ]
    }
   ],
   "source": [
    "# Median of two sorted arrays (of same size) - http://geeks.i-pupil.com/index.php?option=com_content&view=article&id=158&catid=95\n",
    "\n",
    "def median(A,B,n):\n",
    "    if n == 1:\n",
    "        return (A[0]+B[0])/2\n",
    "    if n == 2:\n",
    "        return float (max(A[0],B[0]) + min(A[1],B[1]))/2\n",
    "    \n",
    "    \n",
    "    m1 = find_median(A)\n",
    "    print m1\n",
    "    m2 = find_median(B)\n",
    "    print m2\n",
    "    \n",
    "    if m1 == m2:\n",
    "        return m1\n",
    "    \n",
    "    if m1 < m2:\n",
    "        print \"here\"\n",
    "        if n%2:\n",
    "            print A[(n-1)/2:]\n",
    "            print B[:(n+1)/2]\n",
    "            print (n+1)/2\n",
    "            return median(A[(n/2)-(1/2):], B[:(n+1)/2], ((n+1)/2))\n",
    "        \n",
    "        else:\n",
    "            print\"else\"\n",
    "            print A[(n/2):]\n",
    "            print B[:(n/2)]\n",
    "            print n/2\n",
    "            return median(A[(n/2):], B[:(n/2)], n/2)\n",
    "            \n",
    "    if m1 > m2:\n",
    "        print \"there\"\n",
    "        if n%2:\n",
    "            print A[:(n/2)+1]\n",
    "            print B[(n/2):]\n",
    "            print (n/2)+1\n",
    "            return median(A[:(n/2)+1], B[(n/2):], (n/2)+1)\n",
    "        \n",
    "        else:\n",
    "            print \"else\"\n",
    "            return median(A[n/2:], B[:n/2], n/2)\n",
    "\n",
    "B = [2,4,6,8,10]\n",
    "A = [1,3,5,7,9]\n",
    "n = len(A)\n",
    "print median(A,B,n)\n"
   ]
  },
  {
   "cell_type": "code",
   "execution_count": 1,
   "metadata": {
    "collapsed": false
   },
   "outputs": [
    {
     "name": "stdout",
     "output_type": "stream",
     "text": [
      "30\n"
     ]
    }
   ],
   "source": [
    "# Buy and sell stock to maximize profit\n",
    "\n",
    "def buy_and_sell(prices):\n",
    "    min_price = float('inf')\n",
    "    max_profit = 0\n",
    "    for price in prices:\n",
    "        min_price = min(price,min_price)\n",
    "        profit = price - min_price\n",
    "        max_profit = max(max_profit,profit)\n",
    "    return max_profit\n",
    "\n",
    "prices =[310,315,275,295,260,270,290,230,255,250]\n",
    "print buy_and_sell(prices)\n",
    "    \n",
    "# Time Complexity - O(n)\n",
    "# Space Complexity - O(1)"
   ]
  },
  {
   "cell_type": "code",
   "execution_count": 8,
   "metadata": {
    "collapsed": false
   },
   "outputs": [
    {
     "name": "stdout",
     "output_type": "stream",
     "text": [
      "15\n"
     ]
    }
   ],
   "source": [
    "# Maximum continguous subarray - Find the contiguous subarray within an array (containing at least one number) which has the largest sum\n",
    "\n",
    "def max_subarray(A):\n",
    "    maxsum = cursum = A[0]\n",
    "    for num in A[1:]:\n",
    "        cursum = max(num,cursum+num)\n",
    "        maxsum = max(maxsum,cursum)\n",
    "    return maxsum\n",
    "\n",
    "A = [1,3,-4,7,8,-9]\n",
    "print max_subarray(A)"
   ]
  },
  {
   "cell_type": "code",
   "execution_count": null,
   "metadata": {
    "collapsed": true
   },
   "outputs": [],
   "source": []
  }
 ],
 "metadata": {
  "anaconda-cloud": {},
  "kernelspec": {
   "display_name": "Python [conda root]",
   "language": "python",
   "name": "conda-root-py"
  },
  "language_info": {
   "codemirror_mode": {
    "name": "ipython",
    "version": 2
   },
   "file_extension": ".py",
   "mimetype": "text/x-python",
   "name": "python",
   "nbconvert_exporter": "python",
   "pygments_lexer": "ipython2",
   "version": "2.7.12"
  }
 },
 "nbformat": 4,
 "nbformat_minor": 1
}
