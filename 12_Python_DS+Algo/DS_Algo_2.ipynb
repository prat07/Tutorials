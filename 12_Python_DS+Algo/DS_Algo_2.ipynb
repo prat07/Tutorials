{
 "cells": [
  {
   "cell_type": "markdown",
   "metadata": {},
   "source": [
    "#### Linked List"
   ]
  },
  {
   "cell_type": "code",
   "execution_count": 2,
   "metadata": {
    "collapsed": false
   },
   "outputs": [
    {
     "name": "stdout",
     "output_type": "stream",
     "text": [
      "20\n",
      "30\n",
      "40\n",
      "50\n"
     ]
    }
   ],
   "source": [
    "class Node:\n",
    "    def __init__(self):\n",
    "        self.data = None\n",
    "        self.next = None\n",
    "        \n",
    "    def getData(self):\n",
    "        return self.data\n",
    "    \n",
    "    def setData(self,x):\n",
    "        self.data = x\n",
    "        \n",
    "    def getNext(self):\n",
    "        return self.next\n",
    "    \n",
    "    def setNext(self,x):\n",
    "        self.next = x\n",
    "        \n",
    "class SLL(object):\n",
    "    def __init__(self):\n",
    "        self.length = 0\n",
    "        self.head = None\n",
    "        \n",
    "    def insertAtBeg(self,x):\n",
    "        if self.head == None:\n",
    "            node = Node()\n",
    "            node.setData(x)\n",
    "            self.head = node\n",
    "        else:\n",
    "            node = Node()\n",
    "            node.setData(x)\n",
    "            node.setNext(self.head)\n",
    "            self.head = node\n",
    "            \n",
    "        self.length = self.length + 1\n",
    "        \n",
    "    def insertAtEnd(self,x):\n",
    "        if self.head == None:\n",
    "            self.insertAtBeg(x)\n",
    "        else:\n",
    "            current = self.head\n",
    "            while current.getNext() != None:\n",
    "                current = current.getNext()\n",
    "            node = Node()\n",
    "            node.setData(x)\n",
    "            current.setNext(node)\n",
    "            node.setNext(None)\n",
    "            \n",
    "            self.length = self.length + 1\n",
    "        \n",
    "    def insertAtPos(self,pos,x):\n",
    "        if pos < 0 or pos > self.length:\n",
    "            return\n",
    "        if pos == 0:\n",
    "            self.insertAtBeg(x)\n",
    "            \n",
    "        elif pos == self.length:\n",
    "            self.insertAtEnd(x)\n",
    "        \n",
    "        else:\n",
    "            count = 1\n",
    "            current = self.head\n",
    "            while count < pos-1:\n",
    "                current = current.getNext()\n",
    "                count = count + 1\n",
    "            node = Node()\n",
    "            node.setData(x)\n",
    "            node.setNext(current.getNext())\n",
    "            current.setNext(node)\n",
    "            \n",
    "            self.length = self.length + 1\n",
    "            \n",
    "    def deleteAtBeg(self):\n",
    "        if self.head == None:\n",
    "            return\n",
    "        else:  # Covers both cases when only one element is there or multiple\n",
    "            self.head = self.head.getNext()\n",
    "            self.length = self.length - 1\n",
    "    \n",
    "    def deleteAtEnd(self):\n",
    "        if self.head == None:\n",
    "            return\n",
    "        else:\n",
    "            current = self.head\n",
    "            while current.getNext() != None:\n",
    "                prev = current\n",
    "                current = current.getNext()\n",
    "            prev.setNext(None)\n",
    "            self.length = self.length - 1\n",
    "            \n",
    "    def deleteAtPos(self,pos):\n",
    "        if self.head == None:\n",
    "            return\n",
    "        if pos < 0 or pos > self.length:\n",
    "            return\n",
    "        if pos == 0:\n",
    "            self.deleteAtBeg()\n",
    "            \n",
    "        if pos == self.length:\n",
    "            self.deleteAtEnd()\n",
    "            \n",
    "        else:\n",
    "            current = self.head\n",
    "            prev = self.head\n",
    "            count = 1\n",
    "            \n",
    "            while count <= pos:\n",
    "                prev = current\n",
    "                current = current.getNext()\n",
    "                count = count + 1\n",
    "            prev.setNext(current.getNext())\n",
    "            self.length = self.length - 1\n",
    "            \n",
    "            \n",
    "    def print_sll(self):\n",
    "        temp = self.head\n",
    "        while temp != None:\n",
    "            print temp.getData()\n",
    "            temp = temp.getNext()\n",
    "                \n",
    "                \n",
    "        \n",
    "        \n",
    "        \n",
    "        \n",
    "sl = SLL()\n",
    "sl.insertAtPos(0,10)\n",
    "sl.insertAtPos(1,20)\n",
    "sl.insertAtPos(2,30)\n",
    "sl.insertAtPos(3,40)\n",
    "sl.insertAtPos(4,50)\n",
    "sl.deleteAtPos(0)            \n",
    "sl.print_sll()  \n",
    "        \n",
    "# Time Complexity - O(n) except insert/delete at begin - O(1)\n"
   ]
  },
  {
   "cell_type": "code",
   "execution_count": 3,
   "metadata": {
    "collapsed": false
   },
   "outputs": [],
   "source": [
    "# Infinite loop \n",
    "\n",
    "def create_loop():\n",
    "    sl = SLL()\n",
    "    sl.insertAtPos(0,10)\n",
    "    sl.insertAtPos(1,20)\n",
    "    sl.insertAtPos(2,30)\n",
    "    sl.insertAtPos(3,40)\n",
    "    sl.insertAtPos(4,50)\n",
    "    \n",
    "    sl.head.getNext().getNext().getNext().getNext().setNext(sl.head) #Pointing the last element to first element\n",
    "   \n",
    "    return sl\n",
    "    \n"
   ]
  },
  {
   "cell_type": "code",
   "execution_count": 6,
   "metadata": {
    "collapsed": false
   },
   "outputs": [
    {
     "name": "stdout",
     "output_type": "stream",
     "text": [
      "Found Loop\n",
      "5\n",
      "10\n"
     ]
    }
   ],
   "source": [
    "# Detect Loop, print starting point of loop and length of loop in a linked list\n",
    "\n",
    "def detectLoop():\n",
    "    sl = create_loop()\n",
    "    slow_p = sl.head\n",
    "    fast_p = sl.head\n",
    "    result = False\n",
    "    while(slow_p and fast_p and fast_p.getNext()):\n",
    "        slow_p = slow_p.getNext()\n",
    "        fast_p = fast_p.getNext().getNext()\n",
    "        if slow_p == fast_p:\n",
    "            print \"Found Loop\"\n",
    "            result = True\n",
    "            break\n",
    "            \n",
    "    # Print length of loop\n",
    "    if result == True:\n",
    "        count = 1\n",
    "        slow_p = slow_p.getNext()\n",
    "        while slow_p != fast_p:\n",
    "            slow_p = slow_p.getNext()\n",
    "            count = count + 1\n",
    "            \n",
    "        print count\n",
    "    \n",
    "    # Print the start of the loop\n",
    "    if result == True:\n",
    "        slow_p = sl.head\n",
    "        while slow_p != fast_p:\n",
    "            slow_p = slow.getNext()\n",
    "            fast_p = fast_p.getNext()\n",
    "        print slow_p.getData()\n",
    "        \n",
    "    \n",
    "        \n",
    "detectLoop()\n",
    "\n",
    "# Time Complexity - O(n) \n",
    "# Space Complexity - O(1)"
   ]
  },
  {
   "cell_type": "code",
   "execution_count": 7,
   "metadata": {
    "collapsed": true
   },
   "outputs": [],
   "source": [
    "def create_sll():\n",
    "    sl = SLL()\n",
    "    sl.insertAtPos(0,10)\n",
    "    sl.insertAtPos(1,20)\n",
    "    sl.insertAtPos(2,30)\n",
    "    sl.insertAtPos(3,40)\n",
    "    sl.insertAtPos(4,50)\n",
    "   \n",
    "    return sl\n",
    "\n",
    "def print_sll(sl):\n",
    "    temp = sl.head\n",
    "    while temp != None:\n",
    "        print temp.getData()\n",
    "        temp = temp.getNext()"
   ]
  },
  {
   "cell_type": "code",
   "execution_count": 10,
   "metadata": {
    "collapsed": false
   },
   "outputs": [
    {
     "name": "stdout",
     "output_type": "stream",
     "text": [
      "50\n",
      "40\n",
      "30\n",
      "20\n",
      "10\n"
     ]
    }
   ],
   "source": [
    "# Reverse linked list\n",
    "\n",
    "def reverse_sll():\n",
    "    sl = create_sll()\n",
    "    \n",
    "    last = None\n",
    "    current = sl.head\n",
    "    while current != None:\n",
    "        next = current.getNext()\n",
    "        current.setNext(last)\n",
    "        last = current\n",
    "        current = next\n",
    "    sl.head = last\n",
    "    \n",
    "    print_sll(sl)\n",
    "    \n",
    "reverse_sll()\n",
    "\n",
    "# Time Complexity - O(n) \n",
    "# Space Complexity - O(1)"
   ]
  },
  {
   "cell_type": "raw",
   "metadata": {},
   "source": [
    "# odd or even length linked list - take two pointers and make one pointer move 2 steps and other pointer 1 step\n",
    "# middle of linked list - similar to above\n",
    "# nth node from end of linked list - traverse the list and create hashmap of index and address of each node then search in O(1) time\n",
    "\n",
    "# Intersection of two linked list - Traverse one list and create a hashmap of address of each node in this list and then traverse other list by searching in this hashmap  - O(n) + O(m) ~ O(n+m)"
   ]
  },
  {
   "cell_type": "markdown",
   "metadata": {},
   "source": [
    "#### Stack"
   ]
  },
  {
   "cell_type": "code",
   "execution_count": 64,
   "metadata": {
    "collapsed": false
   },
   "outputs": [
    {
     "name": "stdout",
     "output_type": "stream",
     "text": [
      "False\n",
      "False\n",
      "True\n"
     ]
    }
   ],
   "source": [
    "def valid_parenthesis(s):\n",
    "    stack = []\n",
    "    d = {')': '(', '}': '{', ']': '['}\n",
    "    for element in s:\n",
    "        \n",
    "        if element =='[' or element =='{' or element =='(':\n",
    "            \n",
    "            stack.append(element)\n",
    "            \n",
    "        elif d[element]:\n",
    "            if len(stack) == 0:   # First element is closing parenthesis, case 1\n",
    "                return False\n",
    "            else:\n",
    "                if d[element] != stack.pop():\n",
    "                    return False\n",
    "        else:\n",
    "            return False\n",
    "            \n",
    "    if len(stack) == 0: # if all parenthesis are matched, not like case 2 \n",
    "        return True\n",
    "    else:\n",
    "        return False\n",
    "\n",
    "    \n",
    "print valid_parenthesis(\"}\")  # case1\n",
    "print valid_parenthesis(\"({}\") # case 2\n",
    "print valid_parenthesis(\"{([])}\")\n",
    "\n",
    "# Time Complexity - O(n)\n",
    "# Space Complexity - O(n)"
   ]
  },
  {
   "cell_type": "markdown",
   "metadata": {},
   "source": [
    "#### Binary Tree"
   ]
  },
  {
   "cell_type": "code",
   "execution_count": 3,
   "metadata": {
    "collapsed": false
   },
   "outputs": [
    {
     "name": "stdout",
     "output_type": "stream",
     "text": [
      "[10, 20, 40, 100, 50, 90, 30, 60, 70, 80]\n",
      "[100, 40, 20, 50, 90, 10, 60, 30, 70, 80]\n",
      "[100, 40, 90, 50, 20, 60, 80, 70, 30, 10]\n"
     ]
    }
   ],
   "source": [
    "# Binary Tree Traversal\n",
    "\n",
    "class BT(object):\n",
    "    def __init__(self, data):\n",
    "        self.left = None\n",
    "        self.right = None\n",
    "        self.data = data\n",
    "        \n",
    "def preord(root, l):\n",
    "    if root == None:\n",
    "        return -1\n",
    "    l.append(root.data)\n",
    "    if root.left != None:\n",
    "        preord(root.left,l)\n",
    "    if root.right != None:\n",
    "        preord(root.right,l)\n",
    "        \n",
    "def inord(root, l):\n",
    "    if root == None:\n",
    "        return -1\n",
    "    if root.left != None:\n",
    "        inord(root.left,l)\n",
    "    l.append(root.data)\n",
    "    if root.right != None:\n",
    "        inord(root.right, l)\n",
    "        \n",
    "def postord(root, l):\n",
    "    if root == None:\n",
    "        return -1\n",
    "    if root.left != None:\n",
    "        postord(root.left, l)\n",
    "    if root.right != None:\n",
    "        postord(root.right, l)\n",
    "    l.append(root.data)\n",
    "    \n",
    "root = BT(10)\n",
    "root.left = BT(20)\n",
    "root.left.left = BT(40)\n",
    "root.left.right = BT(50)\n",
    "root.left.right.right = BT(90)\n",
    "root.left.left.left = BT(100)\n",
    "\n",
    "root.right = BT(30)\n",
    "root.right.left = BT(60)\n",
    "root.right.right = BT(70)\n",
    "root.right.right.right = BT(80)\n",
    "\n",
    "l = []\n",
    "result = preord(root,l)\n",
    "if result != -1:\n",
    "    print l\n",
    "else:\n",
    "    print root.data\n",
    "     \n",
    "m = []\n",
    "result = inord(root,m)\n",
    "if result != -1:\n",
    "    print m\n",
    "else:\n",
    "    print root.data\n",
    "  \n",
    "n = []\n",
    "result = postord(root,n)\n",
    "if result != -1:\n",
    "    print n\n",
    "else:\n",
    "    print root.data\n",
    "    \n",
    "# Time Complexity - O(n)\n",
    "# Space Complexity - O(n)"
   ]
  },
  {
   "cell_type": "code",
   "execution_count": 4,
   "metadata": {
    "collapsed": false
   },
   "outputs": [
    {
     "name": "stdout",
     "output_type": "stream",
     "text": [
      "4\n"
     ]
    }
   ],
   "source": [
    "# Height of binary tree\n",
    "def maxdepth(root):\n",
    "    if root == None:\n",
    "        return 0\n",
    "    return max(maxdepth(root.left), maxdepth(root.right)) + 1\n",
    "\n",
    "print maxdepth(root)\n",
    "\n",
    "# Time Complexity - O(n)\n",
    "# Space Complexity - O(n) for recursive stack space else O(1)"
   ]
  },
  {
   "cell_type": "code",
   "execution_count": 9,
   "metadata": {
    "collapsed": false
   },
   "outputs": [
    {
     "name": "stdout",
     "output_type": "stream",
     "text": [
      "[10, 20, 30, 40, 50, 60, 70, 100, 90, 80]\n"
     ]
    }
   ],
   "source": [
    "# Level Order Traversal - BFS \n",
    "\n",
    "from Queue import Queue\n",
    "\n",
    "def level_order(root,result):\n",
    "    if root == None:\n",
    "        return -1\n",
    "    q = Queue()\n",
    "    q.put(root)\n",
    "    node = None\n",
    "    \n",
    "    while not q.empty():\n",
    "        node = q.get()\n",
    "        result.append(node.data)\n",
    "        if node.left != None:\n",
    "            q.put(node.left)\n",
    "        if node.right != None:\n",
    "            q.put(node.right)\n",
    "    return result\n",
    "\n",
    "        \n",
    "result = []       \n",
    "result = level_order(root,result)     \n",
    "print result \n",
    "\n",
    "# Time Complexity - O(n)\n",
    "# Space Complexity - O(n) in worst case as all elements might be there in queue"
   ]
  },
  {
   "cell_type": "markdown",
   "metadata": {},
   "source": [
    "#### Binary Search Tree \n"
   ]
  },
  {
   "cell_type": "code",
   "execution_count": 13,
   "metadata": {
    "collapsed": false
   },
   "outputs": [
    {
     "name": "stdout",
     "output_type": "stream",
     "text": [
      "60\n"
     ]
    }
   ],
   "source": [
    "# Lowest Common Ancestor in BST\n",
    "\n",
    "\n",
    "def findLCA(root,a,b):\n",
    "    if root == None:\n",
    "        return -1\n",
    "    while(root):\n",
    "        if (a <= root.data and b > root.data) or (a > root.data and b <= root.data):\n",
    "            return root.data\n",
    "        if a < root.data:\n",
    "            root = root.left\n",
    "        else:\n",
    "            root = root.right\n",
    "    \n",
    "\n",
    "root = BT(50)\n",
    "root.left = BT(40)\n",
    "root.left.left = BT(30)\n",
    "root.left.right = BT(45)\n",
    "\n",
    "root.right = BT(60)\n",
    "root.right.left = BT(55)\n",
    "root.right.right = BT(65)\n",
    "\n",
    "print findLCA(root,55,65)\n",
    "\n",
    "# Time Complexity - O(n)\n",
    "# Space Complexity - O(1)"
   ]
  },
  {
   "cell_type": "code",
   "execution_count": 33,
   "metadata": {
    "collapsed": false
   },
   "outputs": [
    {
     "name": "stdout",
     "output_type": "stream",
     "text": [
      "<__main__.NodeBST instance at 0x0000000006A77888>\n"
     ]
    }
   ],
   "source": [
    "# Build a BST from sorted array  ~ binary search\n",
    "# Note : Inorder traversal of BST = sorted array\n",
    "\n",
    "class NodeBST:\n",
    "    def __init__(self, data):\n",
    "        self.data = data\n",
    "        self.left = None\n",
    "        self.right = None\n",
    "\n",
    "def buildBST(A):\n",
    "    if len(A) == 0:\n",
    "        return -1\n",
    "    \n",
    "    if len(A) == 1:\n",
    "        root = NodeBST(A[0])\n",
    "    \n",
    "        \n",
    "    else:\n",
    "        mid = len(A)/2\n",
    "        root = NodeBST(A[mid])\n",
    "        root.left = buildBST(A[:mid])    # from begin upto mid-1\n",
    "        root.right = buildBST(A[mid+1:]) # from mid+1 to last\n",
    "        \n",
    "    return root\n",
    "\n",
    "A =[2,3,4,5,6,7]\n",
    "\n",
    "print buildBST(A)\n",
    "\n",
    "# Time Complexity - O(n)\n",
    "# Space Complexity - O(n) for recursive stack space else O(1)"
   ]
  },
  {
   "cell_type": "code",
   "execution_count": 44,
   "metadata": {
    "collapsed": false
   },
   "outputs": [
    {
     "name": "stdout",
     "output_type": "stream",
     "text": [
      "45\n",
      "[30, 40, 45, 50, 55, 60, 65]\n"
     ]
    }
   ],
   "source": [
    "# Kth smallest element in BST - perform an inorder traversal while noting down count, when count = k print data\n",
    "\n",
    " \n",
    "count = 0\n",
    "def inord(root,l,k):\n",
    "    global count\n",
    "    if root == None:\n",
    "        return -1\n",
    "    \n",
    "    if root.left != None:\n",
    "        inord(root.left,l,k)\n",
    "        \n",
    "    l.append(root.data)\n",
    "    count = count + 1\n",
    "    if count == k:\n",
    "        print root.data\n",
    "        \n",
    "    if root.right != None:\n",
    "        inord(root.right, l,k)\n",
    "\n",
    "root = BT(50)\n",
    "root.left = BT(40)\n",
    "root.left.left = BT(30)\n",
    "root.left.right = BT(45)\n",
    "\n",
    "root.right = BT(60)\n",
    "root.right.left = BT(55)\n",
    "root.right.right = BT(65)\n",
    "\n",
    "m = []\n",
    "result = inord(root,m, 3)\n",
    "if result != -1:\n",
    "    print m\n",
    "else:\n",
    "    print root.data\n",
    "    \n",
    "# Time Complexity - O(n)\n",
    "# Space Complexity - O(1)"
   ]
  }
 ],
 "metadata": {
  "anaconda-cloud": {},
  "kernelspec": {
   "display_name": "Python [conda root]",
   "language": "python",
   "name": "conda-root-py"
  },
  "language_info": {
   "codemirror_mode": {
    "name": "ipython",
    "version": 2
   },
   "file_extension": ".py",
   "mimetype": "text/x-python",
   "name": "python",
   "nbconvert_exporter": "python",
   "pygments_lexer": "ipython2",
   "version": "2.7.12"
  }
 },
 "nbformat": 4,
 "nbformat_minor": 1
}
