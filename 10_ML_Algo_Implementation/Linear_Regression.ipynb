{
 "cells": [
  {
   "cell_type": "code",
   "execution_count": 1,
   "metadata": {
    "collapsed": true
   },
   "outputs": [],
   "source": [
    "import numpy as np"
   ]
  },
  {
   "cell_type": "code",
   "execution_count": 12,
   "metadata": {
    "collapsed": true
   },
   "outputs": [],
   "source": [
    "from sklearn.datasets import load_iris\n",
    "from sklearn.model_selection import train_test_split\n",
    "\n",
    "iris = load_iris()\n",
    "X = iris.data\n",
    "Y = iris.target"
   ]
  },
  {
   "cell_type": "code",
   "execution_count": 14,
   "metadata": {
    "collapsed": false
   },
   "outputs": [
    {
     "name": "stdout",
     "output_type": "stream",
     "text": [
      "[-0.45205815  0.15792884  0.2162838   0.76396344  0.73475996  0.73475996]\n"
     ]
    }
   ],
   "source": [
    "# This is batch gradient descent\n",
    "def gradient_descent(X, Y, alpha, numIter):\n",
    "    n, m = np.shape(X)\n",
    "    theta = np.ones(m)\n",
    "    costs = []\n",
    "    for i in range(0, numIter):\n",
    "        hypothesis = np.dot(X, theta) \n",
    "        error = hypothesis - Y  \n",
    "        # avg cost per observation\n",
    "        cost = np.sum(error ** 2)/ (2*n)\n",
    "        costs.append(cost)\n",
    "        #print(\"Iteration %d, Cost %f\" %(i,cost))\n",
    "        # avg gradient per observation\n",
    "        gradient = np.dot(X.T, error) / n\n",
    "        # update\n",
    "        theta = theta - alpha * gradient\n",
    "        #print theta\n",
    "    return theta,costs\n",
    "        \n",
    "alpha = 0.005\n",
    "numIter = 100\n",
    "X = np.append(X,np.ones([len(X),1]),1)  # Add a bias column to the input feature space\n",
    "theta,costs = gradient_descent(X, Y, alpha, numIter)\n",
    "print theta\n"
   ]
  },
  {
   "cell_type": "code",
   "execution_count": 9,
   "metadata": {
    "collapsed": false
   },
   "outputs": [
    {
     "name": "stdout",
     "output_type": "stream",
     "text": [
      "0.279596166204\n",
      "0.882738975766\n"
     ]
    }
   ],
   "source": [
    "def rmse(Y, Y_pred):\n",
    "    rmse = np.sqrt(sum((Y - Y_pred) ** 2) / len(Y))\n",
    "    return rmse\n",
    "\n",
    "\n",
    "def r2_score(Y, Y_pred):\n",
    "    mean_y = np.mean(Y)\n",
    "    ss_tot = sum((Y - mean_y) ** 2)\n",
    "    ss_res = sum((Y - Y_pred) ** 2)\n",
    "    r2 = 1 - (ss_res / ss_tot)\n",
    "    return r2\n",
    "\n",
    "Y_pred = X.dot(theta)\n",
    "\n",
    "print(rmse(Y, Y_pred))\n",
    "print(r2_score(Y, Y_pred))"
   ]
  },
  {
   "cell_type": "code",
   "execution_count": 10,
   "metadata": {
    "collapsed": false
   },
   "outputs": [
    {
     "name": "stdout",
     "output_type": "stream",
     "text": [
      "0.192083994828\n",
      "[-0.10974146 -0.04424045  0.22700138  0.60989412  0.        ]\n"
     ]
    }
   ],
   "source": [
    "from sklearn.linear_model import LinearRegression\n",
    "\n",
    "\n",
    "reg = LinearRegression()\n",
    "\n",
    "reg = reg.fit(X, Y)\n",
    "\n",
    "Y_pred = reg.predict(X)\n",
    "\n",
    "print reg.intercept_\n",
    "print reg.coef_\n"
   ]
  },
  {
   "cell_type": "code",
   "execution_count": 11,
   "metadata": {
    "collapsed": false
   },
   "outputs": [
    {
     "name": "stdout",
     "output_type": "stream",
     "text": [
      "0.215371976615\n",
      "0.930422367533\n"
     ]
    }
   ],
   "source": [
    "from sklearn.metrics import mean_squared_error\n",
    "\n",
    "rmse = np.sqrt(mean_squared_error(Y, Y_pred))\n",
    "r2 = reg.score(X, Y)\n",
    "\n",
    "print(rmse)\n",
    "print(r2)"
   ]
  },
  {
   "cell_type": "code",
   "execution_count": null,
   "metadata": {
    "collapsed": true
   },
   "outputs": [],
   "source": []
  }
 ],
 "metadata": {
  "anaconda-cloud": {},
  "kernelspec": {
   "display_name": "Python [conda root]",
   "language": "python",
   "name": "conda-root-py"
  },
  "language_info": {
   "codemirror_mode": {
    "name": "ipython",
    "version": 2
   },
   "file_extension": ".py",
   "mimetype": "text/x-python",
   "name": "python",
   "nbconvert_exporter": "python",
   "pygments_lexer": "ipython2",
   "version": "2.7.12"
  }
 },
 "nbformat": 4,
 "nbformat_minor": 1
}
