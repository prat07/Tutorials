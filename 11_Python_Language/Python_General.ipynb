{
 "cells": [
  {
   "cell_type": "markdown",
   "metadata": {},
   "source": [
    "* Python is an interpreted language  \n",
    "That means that, unlike languages like C and its variants, Python does not need to be compiled before it is run.\n",
    "\n",
    "* Python is dynamically typed language  \n",
    "This means that you don't need to state the types of variables when you declare them or anything like that\n",
    "\n",
    "* Duck-typing : It is a term used in dynamic languages that do not have strong typing.\n",
    "The idea is that you don't need a type in order to invoke an existing method on an object - if a method is defined on it, you can invoke it."
   ]
  },
  {
   "cell_type": "markdown",
   "metadata": {},
   "source": [
    "#### Drawbacks of Python:\n",
    "    * GIL (Global interpreter Lock)  in some flavors of python e.g. CPython\n",
    "    * Execution speed - Python can be slower than compiled languages since it is interpreted"
   ]
  },
  {
   "cell_type": "markdown",
   "metadata": {},
   "source": [
    "#### Multi-threading issue in CPython : Only one thread can run at a time even though multiple cores are present\n",
    "* For IO bound tasks such as downloading files using multiple threads, \n",
    "The processor is hardly breaking a sweat while downloading these images, \n",
    "and the majority of the time is spent waiting for the network.\n",
    "The processor can switch between the threads whenever one of them is ready to do some work.\n",
    "Therefore, this code is concurrent but not parallel and leads to performance improvement than single thread application.\n",
    "\n",
    "* For CPU bound tasks such as decompressing gzip files using multiple threads, \n",
    "processor is continuously busy and only when one thread time quantum expires, another thread gets a chance to execute \n",
    "on processor hence because of no wait-time, it is not much better than single thread application.\n",
    "\n",
    "* For CPU bound tasks and truly parallel execution, we can use the multiprocessing module which runs \n",
    "different processes on different cores.\n"
   ]
  },
  {
   "cell_type": "markdown",
   "metadata": {},
   "source": [
    "* While the de facto reference Python implementation - CPython - has a GIL, this is not true of all Python implementations. \n",
    "For example, *IronPython*, a Python implementation using the .NET framework does not have a GIL, and neither does *Jython*, \n",
    "the Java based implementation."
   ]
  },
  {
   "cell_type": "markdown",
   "metadata": {},
   "source": [
    "#### Lifecycle tools in python\n",
    "Debug tool - pdb, PyCharm IDE  \n",
    "Unit testing - unittest  \n",
    "Static Code Analysis - pylint  \n",
    "Code Complexity - mcCabe  \n",
    "Profiler (Speed + memory profiler) - cProfile, memory_profiler  \n",
    "Memory Leak (runtime)- pympler  \n",
    "Code Coverage in testing - coverage.py, nose2"
   ]
  },
  {
   "cell_type": "markdown",
   "metadata": {},
   "source": [
    "#### Garbage Collection in Python\n",
    "* Reference count - Python maintains a count of the number of references to each object in memory. If a reference count goes to zero then the associated object is no longer live and the memory allocated to that object can be freed up. However, it does not detect cyclical references.\n",
    "* Tracing (Generational) - For deleting cyclical references (e.g. o1.x == o2 and o2.x == o1), python maintains a list of every object created as the program is run in form of generation. Only container objects with reference count > 0 are stored in generation list. Newly created objects are stored in generation 0. When the no. of objects in a generation reaches a threshold, python runs a garbage collector on that genartion and younger generation to detect \"cyclical references\" and removes them. The objects left are promoted to higher generation and are not deleted."
   ]
  },
  {
   "cell_type": "markdown",
   "metadata": {},
   "source": [
    "#### Some Difference between python 2.x and python 3.x\n",
    "\n",
    "In Python 3.x:\n",
    "\n",
    "* dict.keys(), dict.items() and dict.values() now return “views” instead of lists\n",
    "* dict.iterkeys(), dict.iteritems() and dict.itervalues() are no longer supported\n",
    "* xrange() no longer exists, range() now behaves like xrange (more memory efficient)"
   ]
  },
  {
   "cell_type": "markdown",
   "metadata": {},
   "source": [
    "#### Swapping variables in python\n",
    "- tuple packing and unpacking  \n",
    "x,y = y,x  \n"
   ]
  },
  {
   "cell_type": "markdown",
   "metadata": {},
   "source": [
    "#### Data Structures"
   ]
  },
  {
   "cell_type": "code",
   "execution_count": 63,
   "metadata": {
    "collapsed": false
   },
   "outputs": [
    {
     "name": "stdout",
     "output_type": "stream",
     "text": [
      "()\n",
      "(1,)\n",
      "(1, 'a', 3)\n",
      "(1, 'a', 3, 5)\n",
      "a\n",
      "(1, 'a', 3)\n",
      "5\n"
     ]
    }
   ],
   "source": [
    "# Tuple\n",
    "\n",
    "my_tuple = ()  # empty tuple\n",
    "print my_tuple\n",
    "\n",
    "my_tuple = (1,)  # Tuple with one element, add \",\" at last\n",
    "print my_tuple\n",
    "\n",
    "my_tuple = (1, 'a', 3) # heterogeneous elements\n",
    "print my_tuple\n",
    "\n",
    "value = 5  # Adding a new value to the end the tuple\n",
    "new_element = (value,)\n",
    "my_tuple = my_tuple + new_element\n",
    "print my_tuple\n",
    "\n",
    "print my_tuple[1] # Indexing and slicing is supported\n",
    "print my_tuple[:3]\n",
    "print my_tuple[-1]\n",
    "\n",
    "# my_tuple[1] = 10  # Update not possible as immutable data structure\n",
    "\n",
    "# Removing items from a tuple is not possible\n",
    "\n",
    "del my_tuple  # Deleting an entire tuple"
   ]
  },
  {
   "cell_type": "code",
   "execution_count": 19,
   "metadata": {
    "collapsed": false
   },
   "outputs": [
    {
     "name": "stdout",
     "output_type": "stream",
     "text": [
      "[]\n",
      "[1, 'a', 2, 'b']\n",
      "[1, 'a', 2, 'b', 'c']\n",
      "[10, 'a', 2, 'b', 'c']\n",
      "[100, 200, 2, 'b', 'c']\n",
      "[100]\n",
      "[200, 2, 'b', 'c']\n",
      "[200]\n",
      "[1, 2, 2.5, 3, 4]\n",
      "[1, 2, 3, 4]\n",
      "[4, 3, 2, 1]\n",
      "[1, 2, 3, 4]\n",
      "2\n",
      "4\n",
      "[1, 2, 3]\n"
     ]
    }
   ],
   "source": [
    "# List\n",
    "\n",
    "my_list = [] # empty list\n",
    "print my_list\n",
    "\n",
    "my_list = [1,'a', 2, 'b'] # heterogeneous elements\n",
    "print my_list\n",
    "\n",
    "my_list.append('c') # Add an element at the end of list\n",
    "print my_list\n",
    "\n",
    "my_list[0] = 10              # Update an element\n",
    "print my_list\n",
    "\n",
    "my_list[0:2] = [100, 200]    # Update several elements\n",
    "print my_list\n",
    "\n",
    "print my_list[:1]  # Slicing and indexing\n",
    "print my_list[1:]\n",
    "print my_list[1:2]\n",
    "\n",
    "del my_list[0] # Delete an element\n",
    "del my_list    # Delete entire list\n",
    "\n",
    "\n",
    "my_list = [1, 2, 3, 4]\n",
    "my_list.insert(2,2.5) # Insert an element after index i (first argument)\n",
    "print my_list\n",
    "\n",
    "my_list.remove(2.5) # Remove a particular element from list \n",
    "print my_list\n",
    "\n",
    "my_list.sort(reverse=True)  # Sort in-place\n",
    "print my_list\n",
    "\n",
    "my_list.reverse() # Reverse elements of list in-place\n",
    "print my_list\n",
    "\n",
    "print my_list.index(3)  # Return the index of the element in argument (first occurence of element)\n",
    "\n",
    "print my_list.pop()  # Return and remove last element of list\n",
    "print my_list\n",
    "\n"
   ]
  },
  {
   "cell_type": "code",
   "execution_count": 38,
   "metadata": {
    "collapsed": false
   },
   "outputs": [
    {
     "name": "stdout",
     "output_type": "stream",
     "text": [
      "0\n",
      "Prateek\n",
      "rate\n",
      "Hello\n",
      "['H', 'e', 'l', 'l', 'o']\n",
      "['Crunchy', 'Frog']\n",
      "Crunchy*Frog\n",
      "abc\n",
      "ABC\n",
      "1\n",
      "Abc\n"
     ]
    }
   ],
   "source": [
    "# String - split & join\n",
    "\n",
    "my_str = \"\"  # empty string\n",
    "print len(my_str)\n",
    "\n",
    "# Strings are immutable -This means that elements of a string cannot be changed once it has been assigned (no update or delete)\n",
    "\n",
    "my_str = my_str + \"Prateek\" # Concatenating strings\n",
    "print my_str\n",
    "\n",
    "print my_str[1:5]  # Slicing and Indexing \n",
    "\n",
    "my_str = \"Hello\"\n",
    "print my_str\n",
    "print list(my_str)  # Converting a string to list\n",
    "\n",
    "\n",
    "my_str = \"Crunchy Frog\"  # Split a string into list using delimiter\n",
    "my_list = my_str.split()  # Default delimiter : space\n",
    "print my_list\n",
    "\n",
    "my_str = \"*\".join(my_list) # joins list elements using delimiter into string\n",
    "print my_str\n",
    "\n",
    "\n",
    "my_str = \"ABC\"\n",
    "print my_str.lower()\n",
    "\n",
    "my_str = \"abc\"\n",
    "print my_str.upper()\n",
    "\n",
    "print my_str.find(\"bc\") # Returns the index where substring begins in string\n",
    "\n",
    "print my_str.replace(\"a\",\"A\") # Replace a substring with another substring in the main string"
   ]
  },
  {
   "cell_type": "code",
   "execution_count": 74,
   "metadata": {
    "collapsed": false
   },
   "outputs": [
    {
     "name": "stdout",
     "output_type": "stream",
     "text": [
      "{}\n",
      "{'a': 1, 'c': 3, 'b': 2}\n",
      "['a', 'c', 'b']\n",
      "[1, 3, 2]\n",
      "{'a': 1, 'c': 3, 'b': 2, 'd': 4}\n",
      "{'a': 1, 'c': 10, 'b': 2, 'd': 4}\n",
      "2\n",
      "['d']\n"
     ]
    }
   ],
   "source": [
    "# Dictionary\n",
    "\n",
    "my_dict = {} # empty dictionary\n",
    "print my_dict\n",
    "\n",
    "my_dict = {'a': 1, 'b': 2, 'c': 3}\n",
    "print my_dict  # Unordered \n",
    "\n",
    "print my_dict.keys()    # Accessing all keys\n",
    "print my_dict.values()  # Accessing all values\n",
    "\n",
    "my_dict['d'] = 4 # Adding a key, value pair\n",
    "print my_dict\n",
    "\n",
    "my_dict['c'] = 10 # Updating a value corresponding to a key already present\n",
    "print my_dict\n",
    "\n",
    "print my_dict['b'] # Access value corresponding to a key\n",
    "\n",
    "print [key for key,value in my_dict.iteritems() if value == 4] # Access key corresponding to a value\n",
    "\n",
    "del my_dict['a'] # Delete an item with a specific key\n",
    "del my_dict      # Delete entire dictionary\n"
   ]
  },
  {
   "cell_type": "code",
   "execution_count": 68,
   "metadata": {
    "collapsed": false
   },
   "outputs": [
    {
     "name": "stdout",
     "output_type": "stream",
     "text": [
      "set(['a', 1.0, 'hello'])\n",
      "set([1, 2, 3])\n",
      "set([1, 2, 3, 4])\n",
      "set([1, 2, 3, 4, 5, 6, 7])\n",
      "set([1, 2, 3, 4, 6, 7])\n",
      "1\n",
      "2\n",
      "3\n",
      "4\n",
      "6\n",
      "7\n"
     ]
    }
   ],
   "source": [
    "# Set - unique elements\n",
    "\n",
    "my_set = () # empty set\n",
    "\n",
    "my_set = {'a', 1.0, \"hello\"} # Heterogeneous elements\n",
    "print my_set\n",
    "\n",
    "l = [1,2,3]  # Creating a set from list\n",
    "my_set = set(l)\n",
    "print my_set\n",
    "\n",
    "# Sets are mutable. But since they are unordered, indexing have no meaning.\n",
    "# We cannot access or change an element of set using indexing or slicing\n",
    "\n",
    "my_set.add(4) # Adding an element to set\n",
    "print my_set\n",
    "\n",
    "my_set.update([5,6,7]) # Adding a number of items(list) to set\n",
    "print my_set\n",
    "\n",
    "my_set.discard(5) # Deleting an element from set\n",
    "print my_set\n"
   ]
  },
  {
   "cell_type": "markdown",
   "metadata": {},
   "source": [
    "#### Lambda Function\n",
    "Syntax:  \n",
    "lambda argument_list: expression  \n",
    "\n",
    "The argument list consists of a comma separated list of arguments and the expression is an arithmetic expression using these arguments. You can assign the function to a variable to give it a name."
   ]
  },
  {
   "cell_type": "code",
   "execution_count": 1,
   "metadata": {
    "collapsed": false
   },
   "outputs": [
    {
     "data": {
      "text/plain": [
       "16"
      ]
     },
     "execution_count": 1,
     "metadata": {},
     "output_type": "execute_result"
    }
   ],
   "source": [
    "f = lambda x : x**2\n",
    "f(4)"
   ]
  },
  {
   "cell_type": "code",
   "execution_count": 2,
   "metadata": {
    "collapsed": false
   },
   "outputs": [
    {
     "data": {
      "text/plain": [
       "11"
      ]
     },
     "execution_count": 2,
     "metadata": {},
     "output_type": "execute_result"
    }
   ],
   "source": [
    "f = lambda x,y : x+y\n",
    "f(9,2)"
   ]
  },
  {
   "cell_type": "markdown",
   "metadata": {},
   "source": [
    "#### Map Function  \n",
    "Syntax:  \n",
    "seq = map(func, seq)  \n",
    "The first argument func is the name of a function and the second a sequence (e.g. a list)  \n",
    "map() applies the function func to all the elements of the sequence seq and returns a new list with the elements changed by func\n"
   ]
  },
  {
   "cell_type": "code",
   "execution_count": 5,
   "metadata": {
    "collapsed": false
   },
   "outputs": [
    {
     "name": "stdout",
     "output_type": "stream",
     "text": [
      "[42.0, 52.0, 62.0]\n"
     ]
    }
   ],
   "source": [
    "C = [10,20,30]\n",
    "F = map(lambda x: float(9/5)*x + 32, C)\n",
    "print F"
   ]
  },
  {
   "cell_type": "markdown",
   "metadata": {},
   "source": [
    "#### Filter Function\n",
    "Syntax:  \n",
    "seq = filter(func,seq)  \n",
    "The function filter(f,l) needs a function f as its first argument. f returns a Boolean value, i.e. either True or False.  \n",
    "This function will be applied to every element of the list l. Only if f returns True will the element of the list be included in the result list.\n",
    "\n"
   ]
  },
  {
   "cell_type": "code",
   "execution_count": 10,
   "metadata": {
    "collapsed": false
   },
   "outputs": [
    {
     "name": "stdout",
     "output_type": "stream",
     "text": [
      "[1, 3, 5]\n",
      "[2, 4]\n"
     ]
    }
   ],
   "source": [
    "N = [1,2,3,4,5]\n",
    "O = filter(lambda x: x%2, N)\n",
    "print O\n",
    "E = filter(lambda x: x%2==0, N)\n",
    "print E"
   ]
  },
  {
   "cell_type": "markdown",
   "metadata": {},
   "source": [
    "#### Reduce Function\n",
    "Syntax:  \n",
    "value = reduce(func,seq)  \n",
    "The function reduce(func, seq) continually applies the function func() to the sequence seq. It returns a single value."
   ]
  },
  {
   "cell_type": "code",
   "execution_count": 12,
   "metadata": {
    "collapsed": false
   },
   "outputs": [
    {
     "name": "stdout",
     "output_type": "stream",
     "text": [
      "345\n"
     ]
    }
   ],
   "source": [
    "N = [1,56,98,345,87,90]\n",
    "v = reduce(lambda x,y: x if x>y else y, N)\n",
    "print v\n",
    "\n",
    "# Finding maximum of values"
   ]
  },
  {
   "cell_type": "code",
   "execution_count": 13,
   "metadata": {
    "collapsed": false
   },
   "outputs": [
    {
     "name": "stdout",
     "output_type": "stream",
     "text": [
      "5050\n"
     ]
    }
   ],
   "source": [
    "v = reduce(lambda x, y: x+y, range(1,101))\n",
    "print v\n",
    "# calculating sum of values from 1 to 100"
   ]
  },
  {
   "cell_type": "markdown",
   "metadata": {},
   "source": [
    "#### List Comprehensions\n"
   ]
  },
  {
   "cell_type": "code",
   "execution_count": 14,
   "metadata": {
    "collapsed": false
   },
   "outputs": [
    {
     "name": "stdout",
     "output_type": "stream",
     "text": [
      "[1, 4, 9, 16]\n"
     ]
    }
   ],
   "source": [
    "N = [1,2,3,4]\n",
    "squares = [x**2 for x in N]\n",
    "print squares\n"
   ]
  },
  {
   "cell_type": "code",
   "execution_count": 38,
   "metadata": {
    "collapsed": false
   },
   "outputs": [
    {
     "name": "stdout",
     "output_type": "stream",
     "text": [
      "[('a', 1), ('a', 2), ('a', 3), ('b', 1), ('b', 2), ('b', 3), ('c', 1), ('c', 2), ('c', 3)]\n",
      "[['a', 2], ['a', 3], ['b', 2], ['b', 3], ['c', 2], ['c', 3]]\n",
      "[[0, 0], ['a', 2], ['a', 3], [0, 0], ['b', 2], ['b', 3], [0, 0], ['c', 2], ['c', 3]]\n"
     ]
    }
   ],
   "source": [
    "# Nested List comprehension\n",
    "X = ['a', 'b', 'c']\n",
    "Y = [1,2,3]\n",
    "combine_tuple = [(x,y) for x in X for y in Y]\n",
    "print combine_tuple\n",
    "combine_list = [[x,y] for x in X for y in Y  if y > 1]\n",
    "print combine_list\n",
    "\n",
    "combine_list2 = [[x,y] if y > 1 else [0,0] for x in X for y in Y ]\n",
    "print combine_list2\n",
    "\n",
    "# Syntax to note is: x = true_value if condition else false_value\n",
    "# combine_list = [[x,y] for x in X for y in Y  if y > 1 else [0,0]] -> syntax error\n"
   ]
  },
  {
   "cell_type": "code",
   "execution_count": 20,
   "metadata": {
    "collapsed": false
   },
   "outputs": [
    {
     "name": "stdout",
     "output_type": "stream",
     "text": [
      "[1, 2, 3, 4, 5, 6, 7, 8, 9]\n"
     ]
    }
   ],
   "source": [
    "vec = [[1,2,3], [4,5,6], [7,8,9]]\n",
    "flatten = [num for element in vec for num in element]\n",
    "print flatten\n",
    "# Flatten a 2d array to 1d"
   ]
  },
  {
   "cell_type": "markdown",
   "metadata": {},
   "source": [
    "#### Dictionary comprehensions"
   ]
  },
  {
   "cell_type": "code",
   "execution_count": 34,
   "metadata": {
    "collapsed": false
   },
   "outputs": [
    {
     "name": "stdout",
     "output_type": "stream",
     "text": [
      "{2: 4, 4: 16, 6: 36}\n"
     ]
    }
   ],
   "source": [
    "d = {x: x**2 for x in (2, 4, 6)}\n",
    "print d"
   ]
  },
  {
   "cell_type": "markdown",
   "metadata": {},
   "source": [
    "#### Set Comprehension"
   ]
  },
  {
   "cell_type": "code",
   "execution_count": 35,
   "metadata": {
    "collapsed": false
   },
   "outputs": [
    {
     "name": "stdout",
     "output_type": "stream",
     "text": [
      "set([1, 4, 9])\n"
     ]
    }
   ],
   "source": [
    "N = [1,2,3,3]\n",
    "s = {n*n for n in N}\n",
    "print s\n",
    "# Notice no duplicates"
   ]
  },
  {
   "cell_type": "markdown",
   "metadata": {},
   "source": [
    "#### Generator comprehension\n",
    "A generator comprehension returns a generator instead of a list."
   ]
  },
  {
   "cell_type": "code",
   "execution_count": 50,
   "metadata": {
    "collapsed": false
   },
   "outputs": [
    {
     "name": "stdout",
     "output_type": "stream",
     "text": [
      "0\n",
      "1\n",
      "[4, 9, 16, 25, 36, 49, 64, 81]\n"
     ]
    }
   ],
   "source": [
    "g = (x **2 for x in range(10))\n",
    "\n",
    "print next(g)\n",
    "print next(g)\n",
    "g = list(g) # For remaining elements, can be done at beginning too for getting complete list\n",
    "print g"
   ]
  },
  {
   "cell_type": "markdown",
   "metadata": {},
   "source": [
    "#### Looping techniques"
   ]
  },
  {
   "cell_type": "code",
   "execution_count": 52,
   "metadata": {
    "collapsed": false
   },
   "outputs": [
    {
     "name": "stdout",
     "output_type": "stream",
     "text": [
      "a\n",
      "b\n",
      "c\n",
      "0 a\n",
      "1 b\n",
      "2 c\n"
     ]
    }
   ],
   "source": [
    "# List\n",
    "l = ['a','b','c']\n",
    "for element in l:\n",
    "    print element\n",
    "\n",
    "# enumerate\n",
    "for index, value in enumerate(l):\n",
    "    print index,value\n"
   ]
  },
  {
   "cell_type": "code",
   "execution_count": 43,
   "metadata": {
    "collapsed": false
   },
   "outputs": [
    {
     "name": "stdout",
     "output_type": "stream",
     "text": [
      "a 1\n",
      "c 3\n",
      "b 2\n",
      "a\n",
      "c\n",
      "b\n",
      "1\n",
      "3\n",
      "2\n"
     ]
    }
   ],
   "source": [
    "# Dictionary\n",
    "\n",
    "d = {'a': 1, 'b': 2, 'c' : 3}\n",
    "for key,value in d.iteritems():\n",
    "    print key,value\n",
    "    \n",
    "for key in d.keys():\n",
    "    print key\n",
    "\n",
    "for value in d.values():\n",
    "    print value"
   ]
  },
  {
   "cell_type": "code",
   "execution_count": 49,
   "metadata": {
    "collapsed": false
   },
   "outputs": [
    {
     "name": "stdout",
     "output_type": "stream",
     "text": [
      "('a', 1)\n",
      "a\n",
      "1\n",
      "('b', 2)\n",
      "b\n",
      "2\n",
      "('c', 3)\n",
      "c\n",
      "3\n"
     ]
    }
   ],
   "source": [
    "# zip two lists\n",
    "l1 = ['a','b','c']\n",
    "l2 = [1,2,3]\n",
    "\n",
    "for element in zip(l1,l2):\n",
    "    print element\n",
    "    print element[0]\n",
    "    print element[1]"
   ]
  },
  {
   "cell_type": "code",
   "execution_count": 50,
   "metadata": {
    "collapsed": false
   },
   "outputs": [
    {
     "name": "stdout",
     "output_type": "stream",
     "text": [
      "9\n",
      "7\n",
      "5\n",
      "3\n",
      "1\n"
     ]
    }
   ],
   "source": [
    "# Reversed\n",
    "# To loop over a sequence in reverse, first specify the sequence in a forward direction and then call the reversed() function.\n",
    "\n",
    "for i in reversed(xrange(1,10,2)):\n",
    "    print i"
   ]
  },
  {
   "cell_type": "code",
   "execution_count": 53,
   "metadata": {
    "collapsed": false
   },
   "outputs": [
    {
     "name": "stdout",
     "output_type": "stream",
     "text": [
      "apple\n",
      "apple\n",
      "banana\n",
      "orange\n",
      "orange\n",
      "pear\n"
     ]
    }
   ],
   "source": [
    "# Sorted\n",
    "# To loop over a sequence in sorted order, use the sorted() function which returns a new sorted list (not in-place)\n",
    "\n",
    "basket = ['apple', 'orange', 'apple', 'pear', 'orange', 'banana']\n",
    "for f in sorted(basket):\n",
    "    print f"
   ]
  },
  {
   "cell_type": "code",
   "execution_count": 69,
   "metadata": {
    "collapsed": false
   },
   "outputs": [
    {
     "name": "stdout",
     "output_type": "stream",
     "text": [
      "a\n",
      "1.0\n",
      "hello\n"
     ]
    }
   ],
   "source": [
    "# Set\n",
    "my_set = {'a', 1.0, \"hello\"}\n",
    "for element in my_set:\n",
    "    print element\n"
   ]
  },
  {
   "cell_type": "code",
   "execution_count": 71,
   "metadata": {
    "collapsed": false
   },
   "outputs": [
    {
     "name": "stdout",
     "output_type": "stream",
     "text": [
      "1\n",
      "a\n",
      "3\n"
     ]
    }
   ],
   "source": [
    "# Tuple\n",
    "my_tuple = (1,'a',3)\n",
    "for element in my_tuple:\n",
    "    print element"
   ]
  },
  {
   "cell_type": "code",
   "execution_count": 31,
   "metadata": {
    "collapsed": false
   },
   "outputs": [
    {
     "name": "stdout",
     "output_type": "stream",
     "text": [
      "H\n",
      "e\n",
      "l\n",
      "l\n",
      "o\n"
     ]
    }
   ],
   "source": [
    "# String\n",
    "my_str = \"Hello\"\n",
    "for element in my_str:\n",
    "    print element"
   ]
  },
  {
   "cell_type": "markdown",
   "metadata": {},
   "source": [
    "#### args and kwargs"
   ]
  },
  {
   "cell_type": "markdown",
   "metadata": {},
   "source": [
    "- *args - is used to pass a non-keyworded, variable-length argument list  \n",
    "- ** kwargs - is used to pass a keyworded, variable-length argument list"
   ]
  },
  {
   "cell_type": "code",
   "execution_count": 41,
   "metadata": {
    "collapsed": false
   },
   "outputs": [
    {
     "name": "stdout",
     "output_type": "stream",
     "text": [
      "a\n",
      "2\n",
      "hello\n"
     ]
    }
   ],
   "source": [
    "def args_demo(*args):\n",
    "    for arg in args:\n",
    "        print arg\n",
    "        \n",
    "args_demo('a', 2, \"hello\")"
   ]
  },
  {
   "cell_type": "code",
   "execution_count": 45,
   "metadata": {
    "collapsed": false
   },
   "outputs": [
    {
     "name": "stdout",
     "output_type": "stream",
     "text": [
      "a 1\n",
      "c c\n",
      "b 2\n"
     ]
    }
   ],
   "source": [
    "def kwargs_demo(**kwargs):\n",
    "    for key, value in kwargs.iteritems():\n",
    "        print key, value\n",
    "\n",
    "kwargs_demo(a=1, b=2, c='c')\n"
   ]
  },
  {
   "cell_type": "markdown",
   "metadata": {},
   "source": [
    "#### Iterators "
   ]
  },
  {
   "cell_type": "markdown",
   "metadata": {},
   "source": [
    "* Iterator is an object which allows a programmer to traverse through all the elements of a collection, \n",
    "regardless of its specific implementation.  \n",
    "* It has two methods: The __iter__() method, which must return the iterator object, and the __next__() method, which returns the next element from a sequence."
   ]
  },
  {
   "cell_type": "code",
   "execution_count": 54,
   "metadata": {
    "collapsed": false
   },
   "outputs": [
    {
     "name": "stdout",
     "output_type": "stream",
     "text": [
      "1\n",
      "2\n"
     ]
    }
   ],
   "source": [
    "# Most of built-in containers in Python like: list, tuple, string etc. are iterables\n",
    "# The iter() function (which in turn calls the __iter__() method) returns an iterator from them\n",
    "\n",
    "l = [1,2,3,4]\n",
    "list_iter = iter(l)\n",
    "print next(list_iter)\n",
    "print next(list_iter)\n",
    "\n",
    "# For loop actually takes advantage of this iterator and we can iterate over any object that can return an iterator"
   ]
  },
  {
   "cell_type": "markdown",
   "metadata": {},
   "source": [
    "#### Generators"
   ]
  },
  {
   "cell_type": "markdown",
   "metadata": {},
   "source": [
    "Generators in Python:\n",
    "\n",
    "* Generator function contains one or more yield statement.\n",
    "* When called, it returns an object (iterator) but does not start execution immediately.\n",
    "* Methods like __iter__() and __next__() are implemented automatically. So we can iterate through the items using next().\n",
    "* Once the function yields, the function is paused and the control is transferred to the caller.\n",
    "* Local variables and their states are remembered between successive calls.\n",
    "* Finally, when the function terminates, StopIteration is raised automatically on further calls.\n",
    "* In essence, generators are an easy way to implement iterators as __iter__() and __next__() method need not be explicitly defined"
   ]
  },
  {
   "cell_type": "code",
   "execution_count": 58,
   "metadata": {
    "collapsed": false
   },
   "outputs": [
    {
     "name": "stdout",
     "output_type": "stream",
     "text": [
      "1\n",
      "2\n",
      "3\n",
      "Iteration over\n",
      "Iteration over\n"
     ]
    }
   ],
   "source": [
    "def gen():\n",
    "    yield 1\n",
    "    yield 2\n",
    "    yield 3\n",
    "    \n",
    "g = gen()\n",
    "\n",
    "for i in range(5):\n",
    "    try:\n",
    "        print next(g)\n",
    "    except StopIteration:\n",
    "        print \"Iteration over\"\n",
    "    "
   ]
  },
  {
   "cell_type": "markdown",
   "metadata": {},
   "source": [
    "#### Closure\n",
    "\n",
    "* We must have a nested function (function inside a function).\n",
    "* The nested function must refer to a value defined in the enclosing function.\n",
    "* The enclosing function must return the nested function.\n",
    "* When there are few methods (one method in most cases) to be implemented in a class, closures can provide an alternate and more elegant solutions."
   ]
  },
  {
   "cell_type": "code",
   "execution_count": 65,
   "metadata": {
    "collapsed": false
   },
   "outputs": [
    {
     "name": "stdout",
     "output_type": "stream",
     "text": [
      "Hello\n"
     ]
    }
   ],
   "source": [
    "# A function defined inside another function is called a nested function.\n",
    "# Nested functions can access variables of the enclosing scope.\n",
    "\n",
    "def my_func(msg):\n",
    "    def func2():\n",
    "        print msg\n",
    "    func2()\n",
    "    \n",
    "my_func(\"Hello\")"
   ]
  },
  {
   "cell_type": "code",
   "execution_count": 66,
   "metadata": {
    "collapsed": false
   },
   "outputs": [
    {
     "name": "stdout",
     "output_type": "stream",
     "text": [
      "Hello\n"
     ]
    }
   ],
   "source": [
    "# This technique by which some data (\"Hello\") gets attached to the code is called closure \n",
    "def my_func(msg):\n",
    "    def func2():\n",
    "        print msg\n",
    "    return func2 # this got changed\n",
    "    \n",
    "another = my_func(\"Hello\")\n",
    "another()\n",
    "\n"
   ]
  },
  {
   "cell_type": "code",
   "execution_count": 67,
   "metadata": {
    "collapsed": false
   },
   "outputs": [
    {
     "name": "stdout",
     "output_type": "stream",
     "text": [
      "27\n"
     ]
    }
   ],
   "source": [
    "def make_multiplier_of(n):\n",
    "    def multiplier(x):\n",
    "        return x * n\n",
    "    return multiplier\n",
    "\n",
    "times3 = make_multiplier_of(3)\n",
    "print(times3(9))"
   ]
  },
  {
   "cell_type": "markdown",
   "metadata": {},
   "source": [
    "#### Decorators"
   ]
  },
  {
   "cell_type": "markdown",
   "metadata": {
    "collapsed": true
   },
   "source": [
    "A decorator takes in a function, adds some functionality and returns it"
   ]
  },
  {
   "cell_type": "code",
   "execution_count": 5,
   "metadata": {
    "collapsed": false
   },
   "outputs": [
    {
     "name": "stdout",
     "output_type": "stream",
     "text": [
      "4950\n",
      "Time to Execute 0.0\n"
     ]
    }
   ],
   "source": [
    "import time\n",
    "\n",
    "def timing_function(some_func):\n",
    "    def wrapper():\n",
    "        start_time = time.time()\n",
    "        some_func()\n",
    "        end_time = time.time()\n",
    "        print \"Time to Execute\", str(end_time - start_time)\n",
    "    return wrapper\n",
    "\n",
    "@timing_function   # Equivalent to my_func = timing_function(my_func)\n",
    "def my_func():\n",
    "    l = []\n",
    "    for i in range(100):\n",
    "        l.append(i)\n",
    "    print sum(l)\n",
    "\n",
    "my_func()  # Actual call is needed"
   ]
  },
  {
   "cell_type": "markdown",
   "metadata": {},
   "source": [
    "#### @property\n",
    "Python @property is one of the built-in decorator. The main purpose of any decorator is to change you class methods or attributes in such a way so that the user of your class no need to make any change in their code."
   ]
  },
  {
   "cell_type": "code",
   "execution_count": 31,
   "metadata": {
    "collapsed": false
   },
   "outputs": [
    {
     "name": "stdout",
     "output_type": "stream",
     "text": [
      "Jaki\n",
      "25\n",
      "Jaki obtained 25 marks\n"
     ]
    }
   ],
   "source": [
    "class Student:\n",
    "    def __init__(self, name, marks):\n",
    "        self.name = name\n",
    "        self.marks = marks\n",
    "        self.gotmarks = self.name + ' obtained ' + self.marks + ' marks'\n",
    "\n",
    "\n",
    "st = Student(\"Jaki\", \"25\")\n",
    "\n",
    "print(st.name)\n",
    "print(st.marks)\n",
    "print(st.gotmarks)"
   ]
  },
  {
   "cell_type": "code",
   "execution_count": 32,
   "metadata": {
    "collapsed": false
   },
   "outputs": [
    {
     "name": "stdout",
     "output_type": "stream",
     "text": [
      "Anusha\n",
      "Jaki obtained 25 marks\n"
     ]
    }
   ],
   "source": [
    "# Changing name attribute will not be reflected in gotmarks\n",
    "st.name = \"Anusha\"\n",
    "print(st.name)\n",
    "print(st.gotmarks)"
   ]
  },
  {
   "cell_type": "code",
   "execution_count": 33,
   "metadata": {
    "collapsed": false
   },
   "outputs": [
    {
     "name": "stdout",
     "output_type": "stream",
     "text": [
      "Jaki\n",
      "25\n",
      "Jaki obtained 25 marks\n",
      "Anusha\n",
      "Anusha obtained 25 marks\n"
     ]
    }
   ],
   "source": [
    "# We can create a function for gotmarks, but at the time of calling it will require ()\n",
    "class Student:\n",
    "    def __init__(self, name, marks):\n",
    "        self.name = name\n",
    "        self.marks = marks\n",
    "        # self.gotmarks = self.name + ' obtained ' + self.marks + ' marks'\n",
    "\n",
    "    def gotmarks(self):\n",
    "        return self.name + ' obtained ' + self.marks + ' marks'\n",
    "\n",
    "\n",
    "st = Student(\"Jaki\", \"25\")\n",
    "print(st.name)\n",
    "print(st.marks)\n",
    "print(st.gotmarks())\n",
    "\n",
    "st.name = \"Anusha\"\n",
    "print(st.name)\n",
    "print(st.gotmarks()) # Extra () in interface"
   ]
  },
  {
   "cell_type": "code",
   "execution_count": 35,
   "metadata": {
    "collapsed": false
   },
   "outputs": [
    {
     "name": "stdout",
     "output_type": "stream",
     "text": [
      "Jaki\n",
      "25\n",
      "Jaki obtained 25 marks\n",
      "Anusha\n",
      "Anusha obtained 25 marks\n"
     ]
    }
   ],
   "source": [
    "# Using @property, we can avoid adding () while calling gotmarks\n",
    "class Student:\n",
    "    def __init__(self, name, marks):\n",
    "        self.name = name\n",
    "        self.marks = marks\n",
    "        # self.gotmarks = self.name + ' obtained ' + self.marks + ' marks'\n",
    "    @property\n",
    "    def gotmarks(self):\n",
    "        return self.name + ' obtained ' + self.marks + ' marks'\n",
    "\n",
    "\n",
    "st = Student(\"Jaki\", \"25\")\n",
    "print(st.name)\n",
    "print(st.marks)\n",
    "print(st.gotmarks)\n",
    "\n",
    "st.name = \"Anusha\"\n",
    "print(st.name)\n",
    "print(st.gotmarks) # No Extra () in interface because of @property getter - makes function call like an attribute"
   ]
  },
  {
   "cell_type": "code",
   "execution_count": 62,
   "metadata": {
    "collapsed": false
   },
   "outputs": [
    {
     "name": "stdout",
     "output_type": "stream",
     "text": [
      "5\n",
      "6\n"
     ]
    }
   ],
   "source": [
    "class Square(object):\n",
    "    def __init__(self, length):\n",
    "        self.length = length\n",
    "\n",
    "    @property\n",
    "    def length(self):\n",
    "        return self._length\n",
    "\n",
    "    @length.setter\n",
    "    def length(self, value):\n",
    "        self._length = value\n",
    "\n",
    "    @length.deleter\n",
    "    def length(self):\n",
    "        del self._length\n",
    "\n",
    "r = Square(5)\n",
    "print r.length  # automatically calls getter\n",
    "r.length = 6  # automatically calls setter\n",
    "print r.length"
   ]
  },
  {
   "cell_type": "markdown",
   "metadata": {},
   "source": [
    "#### Itertools\n",
    "* module for creating your own iterators\n",
    "* The tools provided by itertools are fast and memory efficient\n",
    "* Using these tools as building blocks, we can create outr own iterator"
   ]
  },
  {
   "cell_type": "code",
   "execution_count": 64,
   "metadata": {
    "collapsed": false
   },
   "outputs": [
    {
     "name": "stdout",
     "output_type": "stream",
     "text": [
      "10\n",
      "11\n",
      "12\n",
      "13\n",
      "14\n",
      "15\n",
      "16\n",
      "17\n",
      "18\n",
      "19\n",
      "20\n"
     ]
    }
   ],
   "source": [
    "# count - creates an infinite iterator, count(start,step)\n",
    "\n",
    "from itertools import count\n",
    "\n",
    "for i in count(10):\n",
    "    if i > 20: \n",
    "        break\n",
    "    else:\n",
    "        print(i)\n",
    "        \n",
    "        \n",
    "\n",
    "\n"
   ]
  },
  {
   "cell_type": "code",
   "execution_count": 67,
   "metadata": {
    "collapsed": false
   },
   "outputs": [
    {
     "name": "stdout",
     "output_type": "stream",
     "text": [
      "X\n",
      "Y\n",
      "Z\n",
      "X\n",
      "Y\n",
      "Z\n",
      "X\n",
      "Y\n"
     ]
    }
   ],
   "source": [
    "# cycle - creates an infinite iterator, cycle(iterable)\n",
    "\n",
    "from itertools import cycle\n",
    "counter = 0\n",
    "for item in cycle('XYZ'):\n",
    "    if counter > 7:\n",
    "        break\n",
    "    print item\n",
    "    counter = counter+1"
   ]
  },
  {
   "cell_type": "markdown",
   "metadata": {},
   "source": [
    "#### @classmethod and @staticmethod\n",
    "* A class method is a method which is bound to the class and not the object of the class.\n",
    "* A static method is also a method which is bound to the class and not the object of the class.  \n",
    "\n",
    "\n",
    "* Class methods have the access to the state of the class as it takes a class parameter that points to the class  and can modify state of class across all instances. Also, if class variable is defined, they can modify it.\n",
    "* Static methods do not have access to the state of class and therefore cannot modify state of class. They are present in a class because it makes sense for the method to be present in class.\n"
   ]
  },
  {
   "cell_type": "code",
   "execution_count": 76,
   "metadata": {
    "collapsed": false
   },
   "outputs": [
    {
     "name": "stdout",
     "output_type": "stream",
     "text": [
      "9\n",
      "11 9 2012\n",
      "True\n"
     ]
    }
   ],
   "source": [
    "class Date(object):\n",
    "\n",
    "    def __init__(self, day=0, month=0, year=0):\n",
    "        self.day = day\n",
    "        self.month = month\n",
    "        self.year = year\n",
    "\n",
    "    @classmethod\n",
    "    def from_string(cls, date_as_string):\n",
    "        day, month, year = date_as_string.split('-')\n",
    "        date = cls(day, month, year)\n",
    "        return date\n",
    "\n",
    "    @staticmethod\n",
    "    def is_date_valid(date_as_string):\n",
    "        day, month, year = map(int, date_as_string.split('-'))\n",
    "        print day, month, year\n",
    "        return day <= 31 and month <= 12 and year <= 3999\n",
    "\n",
    "date1 = Date.from_string('11-09-2012')\n",
    "print date.month\n",
    "is_date = Date.is_date_valid('11-09-2012')\n",
    "print is_date"
   ]
  },
  {
   "cell_type": "markdown",
   "metadata": {},
   "source": [
    "#### Common programs"
   ]
  },
  {
   "cell_type": "code",
   "execution_count": 83,
   "metadata": {
    "collapsed": false
   },
   "outputs": [
    {
     "name": "stdout",
     "output_type": "stream",
     "text": [
      "120\n"
     ]
    }
   ],
   "source": [
    "def factorial(n):\n",
    "    if n == 1:\n",
    "        return 1\n",
    "    else:\n",
    "        return n * factorial (n-1)\n",
    "    \n",
    "print factorial(5)"
   ]
  },
  {
   "cell_type": "code",
   "execution_count": 85,
   "metadata": {
    "collapsed": false
   },
   "outputs": [
    {
     "name": "stdout",
     "output_type": "stream",
     "text": [
      "1\n",
      "1\n",
      "2\n",
      "3\n",
      "5\n"
     ]
    }
   ],
   "source": [
    "def fibonacci(n):\n",
    "    if n == 0 or n == 1:\n",
    "        return 1\n",
    "    else:\n",
    "        return fibonacci(n-1) + fibonacci(n-2)\n",
    "    \n",
    "no_of_terms = 5\n",
    "for i in range(no_of_terms):\n",
    "    print fibonacci(i)\n",
    "    \n",
    "        "
   ]
  },
  {
   "cell_type": "code",
   "execution_count": 87,
   "metadata": {
    "collapsed": false
   },
   "outputs": [
    {
     "name": "stdout",
     "output_type": "stream",
     "text": [
      "True\n"
     ]
    }
   ],
   "source": [
    "def palindrome(s):\n",
    "    s_reverse = s[::-1]\n",
    "    if s == s_reverse:\n",
    "        return True\n",
    "    else:\n",
    "        return False\n",
    "        \n",
    "print palindrome('malayalam')"
   ]
  },
  {
   "cell_type": "markdown",
   "metadata": {},
   "source": [
    "Good resources:  \n",
    "https://www.programiz.com/python-programming  \n",
    "http://anandology.com/python-practice-book/index.html  \n",
    "https://www.codementor.io/sheena/essential-python-interview-questions-du107ozr6  \n",
    "https://www.toptal.com/python#hiring-guide  \n",
    "https://www.python-course.eu/course.php  \n",
    "https://www.youtube.com/playlist?list=PL-osiE80TeTt2d9bfVyTiXJA-UTHn6WwU  "
   ]
  },
  {
   "cell_type": "code",
   "execution_count": null,
   "metadata": {
    "collapsed": true
   },
   "outputs": [],
   "source": []
  }
 ],
 "metadata": {
  "anaconda-cloud": {},
  "kernelspec": {
   "display_name": "Python [conda root]",
   "language": "python",
   "name": "conda-root-py"
  },
  "language_info": {
   "codemirror_mode": {
    "name": "ipython",
    "version": 2
   },
   "file_extension": ".py",
   "mimetype": "text/x-python",
   "name": "python",
   "nbconvert_exporter": "python",
   "pygments_lexer": "ipython2",
   "version": "2.7.12"
  }
 },
 "nbformat": 4,
 "nbformat_minor": 1
}
