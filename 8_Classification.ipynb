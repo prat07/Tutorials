{
 "cells": [
  {
   "cell_type": "code",
   "execution_count": 1,
   "metadata": {
    "collapsed": true
   },
   "outputs": [],
   "source": [
    "import pandas as pd\n",
    "import numpy as np\n",
    "import matplotlib.pyplot as plt\n",
    "import seaborn as sns\n",
    "%matplotlib inline\n",
    "from IPython.display import display  #To display multiple outputs from a cell\n",
    "pd.set_option('display.max_rows', 100) #Limit max number of rows to display"
   ]
  },
  {
   "cell_type": "markdown",
   "metadata": {},
   "source": [
    "#### Task is to predict conversion rate\n",
    "\n",
    "Dataset description:\n",
    "\n",
    "country : user country based on the IP address  \n",
    "age : user age. Self-reported at sign-in step  \n",
    "new_user : whether the user created the account during this session or had already an account and simply came back to the site  \n",
    "source : marketing channel source  \n",
    "         * Ads: came to the site by clicking on an advertisement  \n",
    "         * Seo: came to the site by clicking on search results  \n",
    "         * Direct: came to the site by directly typing the URL on the browser  \n",
    "total_pages_visited: number of total pages visited during the session  \n",
    "converted: this is our label. 1 means they converted within the session, 0 means they left without buying anything.  "
   ]
  },
  {
   "cell_type": "markdown",
   "metadata": {},
   "source": [
    "### Load Data"
   ]
  },
  {
   "cell_type": "code",
   "execution_count": 2,
   "metadata": {
    "collapsed": false
   },
   "outputs": [
    {
     "data": {
      "text/html": [
       "<div>\n",
       "<style>\n",
       "    .dataframe thead tr:only-child th {\n",
       "        text-align: right;\n",
       "    }\n",
       "\n",
       "    .dataframe thead th {\n",
       "        text-align: left;\n",
       "    }\n",
       "\n",
       "    .dataframe tbody tr th {\n",
       "        vertical-align: top;\n",
       "    }\n",
       "</style>\n",
       "<table border=\"1\" class=\"dataframe\">\n",
       "  <thead>\n",
       "    <tr style=\"text-align: right;\">\n",
       "      <th></th>\n",
       "      <th>country</th>\n",
       "      <th>age</th>\n",
       "      <th>new_user</th>\n",
       "      <th>source</th>\n",
       "      <th>total_pages_visited</th>\n",
       "      <th>converted</th>\n",
       "    </tr>\n",
       "  </thead>\n",
       "  <tbody>\n",
       "    <tr>\n",
       "      <th>0</th>\n",
       "      <td>UK</td>\n",
       "      <td>25</td>\n",
       "      <td>1</td>\n",
       "      <td>Ads</td>\n",
       "      <td>1</td>\n",
       "      <td>0</td>\n",
       "    </tr>\n",
       "    <tr>\n",
       "      <th>1</th>\n",
       "      <td>US</td>\n",
       "      <td>23</td>\n",
       "      <td>1</td>\n",
       "      <td>Seo</td>\n",
       "      <td>5</td>\n",
       "      <td>0</td>\n",
       "    </tr>\n",
       "    <tr>\n",
       "      <th>2</th>\n",
       "      <td>US</td>\n",
       "      <td>28</td>\n",
       "      <td>1</td>\n",
       "      <td>Seo</td>\n",
       "      <td>4</td>\n",
       "      <td>0</td>\n",
       "    </tr>\n",
       "    <tr>\n",
       "      <th>3</th>\n",
       "      <td>China</td>\n",
       "      <td>39</td>\n",
       "      <td>1</td>\n",
       "      <td>Seo</td>\n",
       "      <td>5</td>\n",
       "      <td>0</td>\n",
       "    </tr>\n",
       "    <tr>\n",
       "      <th>4</th>\n",
       "      <td>US</td>\n",
       "      <td>30</td>\n",
       "      <td>1</td>\n",
       "      <td>Seo</td>\n",
       "      <td>6</td>\n",
       "      <td>0</td>\n",
       "    </tr>\n",
       "  </tbody>\n",
       "</table>\n",
       "</div>"
      ],
      "text/plain": [
       "  country  age  new_user source  total_pages_visited  converted\n",
       "0      UK   25         1    Ads                    1          0\n",
       "1      US   23         1    Seo                    5          0\n",
       "2      US   28         1    Seo                    4          0\n",
       "3   China   39         1    Seo                    5          0\n",
       "4      US   30         1    Seo                    6          0"
      ]
     },
     "execution_count": 2,
     "metadata": {},
     "output_type": "execute_result"
    }
   ],
   "source": [
    "df = pd.read_csv('conversion_data.csv')\n",
    "df.head()"
   ]
  },
  {
   "cell_type": "markdown",
   "metadata": {},
   "source": [
    "### Preliminary Exploration"
   ]
  },
  {
   "cell_type": "code",
   "execution_count": 3,
   "metadata": {
    "collapsed": false
   },
   "outputs": [
    {
     "name": "stdout",
     "output_type": "stream",
     "text": [
      "<class 'pandas.core.frame.DataFrame'>\n",
      "RangeIndex: 316200 entries, 0 to 316199\n",
      "Data columns (total 6 columns):\n",
      "country                316200 non-null object\n",
      "age                    316200 non-null int64\n",
      "new_user               316200 non-null int64\n",
      "source                 316200 non-null object\n",
      "total_pages_visited    316200 non-null int64\n",
      "converted              316200 non-null int64\n",
      "dtypes: int64(4), object(2)\n",
      "memory usage: 14.5+ MB\n"
     ]
    }
   ],
   "source": [
    "df.info()"
   ]
  },
  {
   "cell_type": "code",
   "execution_count": 4,
   "metadata": {
    "collapsed": false
   },
   "outputs": [
    {
     "data": {
      "text/html": [
       "<div>\n",
       "<style>\n",
       "    .dataframe thead tr:only-child th {\n",
       "        text-align: right;\n",
       "    }\n",
       "\n",
       "    .dataframe thead th {\n",
       "        text-align: left;\n",
       "    }\n",
       "\n",
       "    .dataframe tbody tr th {\n",
       "        vertical-align: top;\n",
       "    }\n",
       "</style>\n",
       "<table border=\"1\" class=\"dataframe\">\n",
       "  <thead>\n",
       "    <tr style=\"text-align: right;\">\n",
       "      <th></th>\n",
       "      <th>age</th>\n",
       "      <th>new_user</th>\n",
       "      <th>total_pages_visited</th>\n",
       "      <th>converted</th>\n",
       "    </tr>\n",
       "  </thead>\n",
       "  <tbody>\n",
       "    <tr>\n",
       "      <th>count</th>\n",
       "      <td>316200.000000</td>\n",
       "      <td>316200.000000</td>\n",
       "      <td>316200.000000</td>\n",
       "      <td>316200.000000</td>\n",
       "    </tr>\n",
       "    <tr>\n",
       "      <th>mean</th>\n",
       "      <td>30.569858</td>\n",
       "      <td>0.685465</td>\n",
       "      <td>4.872966</td>\n",
       "      <td>0.032258</td>\n",
       "    </tr>\n",
       "    <tr>\n",
       "      <th>std</th>\n",
       "      <td>8.271802</td>\n",
       "      <td>0.464331</td>\n",
       "      <td>3.341104</td>\n",
       "      <td>0.176685</td>\n",
       "    </tr>\n",
       "    <tr>\n",
       "      <th>min</th>\n",
       "      <td>17.000000</td>\n",
       "      <td>0.000000</td>\n",
       "      <td>1.000000</td>\n",
       "      <td>0.000000</td>\n",
       "    </tr>\n",
       "    <tr>\n",
       "      <th>25%</th>\n",
       "      <td>24.000000</td>\n",
       "      <td>0.000000</td>\n",
       "      <td>2.000000</td>\n",
       "      <td>0.000000</td>\n",
       "    </tr>\n",
       "    <tr>\n",
       "      <th>50%</th>\n",
       "      <td>30.000000</td>\n",
       "      <td>1.000000</td>\n",
       "      <td>4.000000</td>\n",
       "      <td>0.000000</td>\n",
       "    </tr>\n",
       "    <tr>\n",
       "      <th>75%</th>\n",
       "      <td>36.000000</td>\n",
       "      <td>1.000000</td>\n",
       "      <td>7.000000</td>\n",
       "      <td>0.000000</td>\n",
       "    </tr>\n",
       "    <tr>\n",
       "      <th>max</th>\n",
       "      <td>123.000000</td>\n",
       "      <td>1.000000</td>\n",
       "      <td>29.000000</td>\n",
       "      <td>1.000000</td>\n",
       "    </tr>\n",
       "  </tbody>\n",
       "</table>\n",
       "</div>"
      ],
      "text/plain": [
       "                 age       new_user  total_pages_visited      converted\n",
       "count  316200.000000  316200.000000        316200.000000  316200.000000\n",
       "mean       30.569858       0.685465             4.872966       0.032258\n",
       "std         8.271802       0.464331             3.341104       0.176685\n",
       "min        17.000000       0.000000             1.000000       0.000000\n",
       "25%        24.000000       0.000000             2.000000       0.000000\n",
       "50%        30.000000       1.000000             4.000000       0.000000\n",
       "75%        36.000000       1.000000             7.000000       0.000000\n",
       "max       123.000000       1.000000            29.000000       1.000000"
      ]
     },
     "execution_count": 4,
     "metadata": {},
     "output_type": "execute_result"
    }
   ],
   "source": [
    "# Summary of quantitative variables\n",
    "df.describe()"
   ]
  },
  {
   "cell_type": "code",
   "execution_count": 5,
   "metadata": {
    "collapsed": false
   },
   "outputs": [
    {
     "data": {
      "text/html": [
       "<div>\n",
       "<style>\n",
       "    .dataframe thead tr:only-child th {\n",
       "        text-align: right;\n",
       "    }\n",
       "\n",
       "    .dataframe thead th {\n",
       "        text-align: left;\n",
       "    }\n",
       "\n",
       "    .dataframe tbody tr th {\n",
       "        vertical-align: top;\n",
       "    }\n",
       "</style>\n",
       "<table border=\"1\" class=\"dataframe\">\n",
       "  <thead>\n",
       "    <tr style=\"text-align: right;\">\n",
       "      <th></th>\n",
       "      <th>country</th>\n",
       "      <th>source</th>\n",
       "    </tr>\n",
       "  </thead>\n",
       "  <tbody>\n",
       "    <tr>\n",
       "      <th>count</th>\n",
       "      <td>316200</td>\n",
       "      <td>316200</td>\n",
       "    </tr>\n",
       "    <tr>\n",
       "      <th>unique</th>\n",
       "      <td>4</td>\n",
       "      <td>3</td>\n",
       "    </tr>\n",
       "    <tr>\n",
       "      <th>top</th>\n",
       "      <td>US</td>\n",
       "      <td>Seo</td>\n",
       "    </tr>\n",
       "    <tr>\n",
       "      <th>freq</th>\n",
       "      <td>178092</td>\n",
       "      <td>155040</td>\n",
       "    </tr>\n",
       "  </tbody>\n",
       "</table>\n",
       "</div>"
      ],
      "text/plain": [
       "       country  source\n",
       "count   316200  316200\n",
       "unique       4       3\n",
       "top         US     Seo\n",
       "freq    178092  155040"
      ]
     },
     "execution_count": 5,
     "metadata": {},
     "output_type": "execute_result"
    }
   ],
   "source": [
    "# Summary of qualitative variables\n",
    "df.describe(exclude = [np.number])"
   ]
  },
  {
   "cell_type": "code",
   "execution_count": 6,
   "metadata": {
    "collapsed": false
   },
   "outputs": [
    {
     "name": "stdout",
     "output_type": "stream",
     "text": [
      "Feature 'country' has 4 unique categories\n",
      "US         178092\n",
      "China       76602\n",
      "UK          48450\n",
      "Germany     13056\n",
      "Name: country, dtype: int64\n",
      "\n",
      "Feature 'source' has 3 unique categories\n",
      "Seo       155040\n",
      "Ads        88740\n",
      "Direct     72420\n",
      "Name: source, dtype: int64\n",
      "\n"
     ]
    }
   ],
   "source": [
    "# Qualitative variable categories and their counts - Before imputing missing values NAN is taken as another category\n",
    "\n",
    "for col_name in df.columns:\n",
    "    if df[col_name].dtypes == 'object':\n",
    "        unique_cat = len(df[col_name].unique())\n",
    "        cat = df[col_name].value_counts().sort_values(ascending=False)\n",
    "        print(\"Feature '{col_name}' has {unique_cat} unique categories\".format(col_name=col_name, unique_cat=unique_cat))\n",
    "        print cat\n",
    "        print "
   ]
  },
  {
   "cell_type": "markdown",
   "metadata": {},
   "source": [
    "### Data Cleaning - Duplicates, Missing Values and Outliers"
   ]
  },
  {
   "cell_type": "code",
   "execution_count": 7,
   "metadata": {
    "collapsed": false
   },
   "outputs": [
    {
     "data": {
      "text/html": [
       "<div>\n",
       "<style>\n",
       "    .dataframe thead tr:only-child th {\n",
       "        text-align: right;\n",
       "    }\n",
       "\n",
       "    .dataframe thead th {\n",
       "        text-align: left;\n",
       "    }\n",
       "\n",
       "    .dataframe tbody tr th {\n",
       "        vertical-align: top;\n",
       "    }\n",
       "</style>\n",
       "<table border=\"1\" class=\"dataframe\">\n",
       "  <thead>\n",
       "    <tr style=\"text-align: right;\">\n",
       "      <th></th>\n",
       "      <th>country</th>\n",
       "      <th>age</th>\n",
       "      <th>new_user</th>\n",
       "      <th>source</th>\n",
       "      <th>total_pages_visited</th>\n",
       "      <th>converted</th>\n",
       "    </tr>\n",
       "  </thead>\n",
       "  <tbody>\n",
       "    <tr>\n",
       "      <th>88</th>\n",
       "      <td>US</td>\n",
       "      <td>28</td>\n",
       "      <td>1</td>\n",
       "      <td>Seo</td>\n",
       "      <td>4</td>\n",
       "      <td>0</td>\n",
       "    </tr>\n",
       "    <tr>\n",
       "      <th>89</th>\n",
       "      <td>US</td>\n",
       "      <td>25</td>\n",
       "      <td>1</td>\n",
       "      <td>Ads</td>\n",
       "      <td>5</td>\n",
       "      <td>0</td>\n",
       "    </tr>\n",
       "    <tr>\n",
       "      <th>110</th>\n",
       "      <td>US</td>\n",
       "      <td>29</td>\n",
       "      <td>0</td>\n",
       "      <td>Ads</td>\n",
       "      <td>5</td>\n",
       "      <td>0</td>\n",
       "    </tr>\n",
       "    <tr>\n",
       "      <th>144</th>\n",
       "      <td>US</td>\n",
       "      <td>37</td>\n",
       "      <td>1</td>\n",
       "      <td>Direct</td>\n",
       "      <td>7</td>\n",
       "      <td>0</td>\n",
       "    </tr>\n",
       "    <tr>\n",
       "      <th>148</th>\n",
       "      <td>US</td>\n",
       "      <td>19</td>\n",
       "      <td>1</td>\n",
       "      <td>Ads</td>\n",
       "      <td>3</td>\n",
       "      <td>0</td>\n",
       "    </tr>\n",
       "    <tr>\n",
       "      <th>150</th>\n",
       "      <td>US</td>\n",
       "      <td>26</td>\n",
       "      <td>0</td>\n",
       "      <td>Seo</td>\n",
       "      <td>3</td>\n",
       "      <td>0</td>\n",
       "    </tr>\n",
       "    <tr>\n",
       "      <th>190</th>\n",
       "      <td>US</td>\n",
       "      <td>26</td>\n",
       "      <td>1</td>\n",
       "      <td>Seo</td>\n",
       "      <td>3</td>\n",
       "      <td>0</td>\n",
       "    </tr>\n",
       "    <tr>\n",
       "      <th>191</th>\n",
       "      <td>US</td>\n",
       "      <td>31</td>\n",
       "      <td>1</td>\n",
       "      <td>Seo</td>\n",
       "      <td>7</td>\n",
       "      <td>0</td>\n",
       "    </tr>\n",
       "    <tr>\n",
       "      <th>194</th>\n",
       "      <td>US</td>\n",
       "      <td>27</td>\n",
       "      <td>1</td>\n",
       "      <td>Seo</td>\n",
       "      <td>2</td>\n",
       "      <td>0</td>\n",
       "    </tr>\n",
       "    <tr>\n",
       "      <th>215</th>\n",
       "      <td>US</td>\n",
       "      <td>40</td>\n",
       "      <td>1</td>\n",
       "      <td>Seo</td>\n",
       "      <td>2</td>\n",
       "      <td>0</td>\n",
       "    </tr>\n",
       "    <tr>\n",
       "      <th>235</th>\n",
       "      <td>US</td>\n",
       "      <td>27</td>\n",
       "      <td>0</td>\n",
       "      <td>Ads</td>\n",
       "      <td>7</td>\n",
       "      <td>0</td>\n",
       "    </tr>\n",
       "    <tr>\n",
       "      <th>254</th>\n",
       "      <td>US</td>\n",
       "      <td>32</td>\n",
       "      <td>0</td>\n",
       "      <td>Seo</td>\n",
       "      <td>4</td>\n",
       "      <td>0</td>\n",
       "    </tr>\n",
       "    <tr>\n",
       "      <th>255</th>\n",
       "      <td>China</td>\n",
       "      <td>39</td>\n",
       "      <td>1</td>\n",
       "      <td>Seo</td>\n",
       "      <td>6</td>\n",
       "      <td>0</td>\n",
       "    </tr>\n",
       "    <tr>\n",
       "      <th>269</th>\n",
       "      <td>US</td>\n",
       "      <td>22</td>\n",
       "      <td>1</td>\n",
       "      <td>Ads</td>\n",
       "      <td>3</td>\n",
       "      <td>0</td>\n",
       "    </tr>\n",
       "    <tr>\n",
       "      <th>277</th>\n",
       "      <td>US</td>\n",
       "      <td>27</td>\n",
       "      <td>1</td>\n",
       "      <td>Seo</td>\n",
       "      <td>2</td>\n",
       "      <td>0</td>\n",
       "    </tr>\n",
       "    <tr>\n",
       "      <th>279</th>\n",
       "      <td>US</td>\n",
       "      <td>33</td>\n",
       "      <td>1</td>\n",
       "      <td>Direct</td>\n",
       "      <td>3</td>\n",
       "      <td>0</td>\n",
       "    </tr>\n",
       "    <tr>\n",
       "      <th>318</th>\n",
       "      <td>US</td>\n",
       "      <td>24</td>\n",
       "      <td>1</td>\n",
       "      <td>Seo</td>\n",
       "      <td>4</td>\n",
       "      <td>0</td>\n",
       "    </tr>\n",
       "    <tr>\n",
       "      <th>319</th>\n",
       "      <td>US</td>\n",
       "      <td>27</td>\n",
       "      <td>1</td>\n",
       "      <td>Seo</td>\n",
       "      <td>7</td>\n",
       "      <td>0</td>\n",
       "    </tr>\n",
       "    <tr>\n",
       "      <th>320</th>\n",
       "      <td>US</td>\n",
       "      <td>33</td>\n",
       "      <td>1</td>\n",
       "      <td>Seo</td>\n",
       "      <td>4</td>\n",
       "      <td>0</td>\n",
       "    </tr>\n",
       "    <tr>\n",
       "      <th>330</th>\n",
       "      <td>US</td>\n",
       "      <td>30</td>\n",
       "      <td>0</td>\n",
       "      <td>Seo</td>\n",
       "      <td>6</td>\n",
       "      <td>0</td>\n",
       "    </tr>\n",
       "    <tr>\n",
       "      <th>333</th>\n",
       "      <td>US</td>\n",
       "      <td>26</td>\n",
       "      <td>1</td>\n",
       "      <td>Seo</td>\n",
       "      <td>3</td>\n",
       "      <td>0</td>\n",
       "    </tr>\n",
       "    <tr>\n",
       "      <th>334</th>\n",
       "      <td>US</td>\n",
       "      <td>26</td>\n",
       "      <td>0</td>\n",
       "      <td>Seo</td>\n",
       "      <td>3</td>\n",
       "      <td>0</td>\n",
       "    </tr>\n",
       "    <tr>\n",
       "      <th>342</th>\n",
       "      <td>US</td>\n",
       "      <td>24</td>\n",
       "      <td>1</td>\n",
       "      <td>Seo</td>\n",
       "      <td>4</td>\n",
       "      <td>0</td>\n",
       "    </tr>\n",
       "    <tr>\n",
       "      <th>352</th>\n",
       "      <td>China</td>\n",
       "      <td>39</td>\n",
       "      <td>0</td>\n",
       "      <td>Seo</td>\n",
       "      <td>4</td>\n",
       "      <td>0</td>\n",
       "    </tr>\n",
       "    <tr>\n",
       "      <th>355</th>\n",
       "      <td>US</td>\n",
       "      <td>31</td>\n",
       "      <td>1</td>\n",
       "      <td>Seo</td>\n",
       "      <td>7</td>\n",
       "      <td>0</td>\n",
       "    </tr>\n",
       "    <tr>\n",
       "      <th>357</th>\n",
       "      <td>US</td>\n",
       "      <td>41</td>\n",
       "      <td>1</td>\n",
       "      <td>Seo</td>\n",
       "      <td>10</td>\n",
       "      <td>0</td>\n",
       "    </tr>\n",
       "    <tr>\n",
       "      <th>359</th>\n",
       "      <td>US</td>\n",
       "      <td>30</td>\n",
       "      <td>1</td>\n",
       "      <td>Ads</td>\n",
       "      <td>1</td>\n",
       "      <td>0</td>\n",
       "    </tr>\n",
       "    <tr>\n",
       "      <th>369</th>\n",
       "      <td>China</td>\n",
       "      <td>22</td>\n",
       "      <td>0</td>\n",
       "      <td>Seo</td>\n",
       "      <td>4</td>\n",
       "      <td>0</td>\n",
       "    </tr>\n",
       "    <tr>\n",
       "      <th>379</th>\n",
       "      <td>US</td>\n",
       "      <td>34</td>\n",
       "      <td>1</td>\n",
       "      <td>Seo</td>\n",
       "      <td>6</td>\n",
       "      <td>0</td>\n",
       "    </tr>\n",
       "    <tr>\n",
       "      <th>382</th>\n",
       "      <td>Germany</td>\n",
       "      <td>37</td>\n",
       "      <td>1</td>\n",
       "      <td>Seo</td>\n",
       "      <td>5</td>\n",
       "      <td>0</td>\n",
       "    </tr>\n",
       "    <tr>\n",
       "      <th>397</th>\n",
       "      <td>US</td>\n",
       "      <td>31</td>\n",
       "      <td>1</td>\n",
       "      <td>Seo</td>\n",
       "      <td>11</td>\n",
       "      <td>0</td>\n",
       "    </tr>\n",
       "    <tr>\n",
       "      <th>400</th>\n",
       "      <td>US</td>\n",
       "      <td>24</td>\n",
       "      <td>0</td>\n",
       "      <td>Seo</td>\n",
       "      <td>6</td>\n",
       "      <td>0</td>\n",
       "    </tr>\n",
       "    <tr>\n",
       "      <th>424</th>\n",
       "      <td>US</td>\n",
       "      <td>36</td>\n",
       "      <td>0</td>\n",
       "      <td>Direct</td>\n",
       "      <td>6</td>\n",
       "      <td>0</td>\n",
       "    </tr>\n",
       "    <tr>\n",
       "      <th>441</th>\n",
       "      <td>China</td>\n",
       "      <td>44</td>\n",
       "      <td>1</td>\n",
       "      <td>Seo</td>\n",
       "      <td>3</td>\n",
       "      <td>0</td>\n",
       "    </tr>\n",
       "    <tr>\n",
       "      <th>450</th>\n",
       "      <td>China</td>\n",
       "      <td>30</td>\n",
       "      <td>1</td>\n",
       "      <td>Seo</td>\n",
       "      <td>7</td>\n",
       "      <td>0</td>\n",
       "    </tr>\n",
       "    <tr>\n",
       "      <th>456</th>\n",
       "      <td>China</td>\n",
       "      <td>39</td>\n",
       "      <td>1</td>\n",
       "      <td>Seo</td>\n",
       "      <td>5</td>\n",
       "      <td>0</td>\n",
       "    </tr>\n",
       "    <tr>\n",
       "      <th>460</th>\n",
       "      <td>US</td>\n",
       "      <td>43</td>\n",
       "      <td>1</td>\n",
       "      <td>Seo</td>\n",
       "      <td>6</td>\n",
       "      <td>0</td>\n",
       "    </tr>\n",
       "    <tr>\n",
       "      <th>464</th>\n",
       "      <td>US</td>\n",
       "      <td>24</td>\n",
       "      <td>0</td>\n",
       "      <td>Seo</td>\n",
       "      <td>1</td>\n",
       "      <td>0</td>\n",
       "    </tr>\n",
       "    <tr>\n",
       "      <th>492</th>\n",
       "      <td>US</td>\n",
       "      <td>32</td>\n",
       "      <td>1</td>\n",
       "      <td>Ads</td>\n",
       "      <td>3</td>\n",
       "      <td>0</td>\n",
       "    </tr>\n",
       "    <tr>\n",
       "      <th>493</th>\n",
       "      <td>US</td>\n",
       "      <td>25</td>\n",
       "      <td>1</td>\n",
       "      <td>Direct</td>\n",
       "      <td>4</td>\n",
       "      <td>0</td>\n",
       "    </tr>\n",
       "    <tr>\n",
       "      <th>498</th>\n",
       "      <td>US</td>\n",
       "      <td>19</td>\n",
       "      <td>1</td>\n",
       "      <td>Ads</td>\n",
       "      <td>7</td>\n",
       "      <td>0</td>\n",
       "    </tr>\n",
       "    <tr>\n",
       "      <th>500</th>\n",
       "      <td>US</td>\n",
       "      <td>27</td>\n",
       "      <td>0</td>\n",
       "      <td>Seo</td>\n",
       "      <td>7</td>\n",
       "      <td>0</td>\n",
       "    </tr>\n",
       "    <tr>\n",
       "      <th>522</th>\n",
       "      <td>US</td>\n",
       "      <td>31</td>\n",
       "      <td>1</td>\n",
       "      <td>Seo</td>\n",
       "      <td>7</td>\n",
       "      <td>0</td>\n",
       "    </tr>\n",
       "    <tr>\n",
       "      <th>525</th>\n",
       "      <td>US</td>\n",
       "      <td>27</td>\n",
       "      <td>1</td>\n",
       "      <td>Seo</td>\n",
       "      <td>1</td>\n",
       "      <td>0</td>\n",
       "    </tr>\n",
       "    <tr>\n",
       "      <th>532</th>\n",
       "      <td>US</td>\n",
       "      <td>29</td>\n",
       "      <td>1</td>\n",
       "      <td>Seo</td>\n",
       "      <td>1</td>\n",
       "      <td>0</td>\n",
       "    </tr>\n",
       "    <tr>\n",
       "      <th>539</th>\n",
       "      <td>US</td>\n",
       "      <td>30</td>\n",
       "      <td>1</td>\n",
       "      <td>Seo</td>\n",
       "      <td>6</td>\n",
       "      <td>0</td>\n",
       "    </tr>\n",
       "    <tr>\n",
       "      <th>540</th>\n",
       "      <td>US</td>\n",
       "      <td>37</td>\n",
       "      <td>1</td>\n",
       "      <td>Seo</td>\n",
       "      <td>5</td>\n",
       "      <td>0</td>\n",
       "    </tr>\n",
       "    <tr>\n",
       "      <th>549</th>\n",
       "      <td>US</td>\n",
       "      <td>41</td>\n",
       "      <td>0</td>\n",
       "      <td>Seo</td>\n",
       "      <td>3</td>\n",
       "      <td>0</td>\n",
       "    </tr>\n",
       "    <tr>\n",
       "      <th>568</th>\n",
       "      <td>US</td>\n",
       "      <td>26</td>\n",
       "      <td>1</td>\n",
       "      <td>Seo</td>\n",
       "      <td>4</td>\n",
       "      <td>0</td>\n",
       "    </tr>\n",
       "    <tr>\n",
       "      <th>569</th>\n",
       "      <td>US</td>\n",
       "      <td>39</td>\n",
       "      <td>1</td>\n",
       "      <td>Seo</td>\n",
       "      <td>5</td>\n",
       "      <td>0</td>\n",
       "    </tr>\n",
       "    <tr>\n",
       "      <th>...</th>\n",
       "      <td>...</td>\n",
       "      <td>...</td>\n",
       "      <td>...</td>\n",
       "      <td>...</td>\n",
       "      <td>...</td>\n",
       "      <td>...</td>\n",
       "    </tr>\n",
       "    <tr>\n",
       "      <th>316150</th>\n",
       "      <td>US</td>\n",
       "      <td>41</td>\n",
       "      <td>0</td>\n",
       "      <td>Seo</td>\n",
       "      <td>1</td>\n",
       "      <td>0</td>\n",
       "    </tr>\n",
       "    <tr>\n",
       "      <th>316151</th>\n",
       "      <td>US</td>\n",
       "      <td>17</td>\n",
       "      <td>1</td>\n",
       "      <td>Seo</td>\n",
       "      <td>4</td>\n",
       "      <td>0</td>\n",
       "    </tr>\n",
       "    <tr>\n",
       "      <th>316152</th>\n",
       "      <td>US</td>\n",
       "      <td>26</td>\n",
       "      <td>1</td>\n",
       "      <td>Seo</td>\n",
       "      <td>3</td>\n",
       "      <td>0</td>\n",
       "    </tr>\n",
       "    <tr>\n",
       "      <th>316153</th>\n",
       "      <td>China</td>\n",
       "      <td>28</td>\n",
       "      <td>1</td>\n",
       "      <td>Direct</td>\n",
       "      <td>4</td>\n",
       "      <td>0</td>\n",
       "    </tr>\n",
       "    <tr>\n",
       "      <th>316154</th>\n",
       "      <td>US</td>\n",
       "      <td>28</td>\n",
       "      <td>0</td>\n",
       "      <td>Ads</td>\n",
       "      <td>7</td>\n",
       "      <td>0</td>\n",
       "    </tr>\n",
       "    <tr>\n",
       "      <th>316155</th>\n",
       "      <td>China</td>\n",
       "      <td>24</td>\n",
       "      <td>1</td>\n",
       "      <td>Seo</td>\n",
       "      <td>10</td>\n",
       "      <td>0</td>\n",
       "    </tr>\n",
       "    <tr>\n",
       "      <th>316156</th>\n",
       "      <td>US</td>\n",
       "      <td>33</td>\n",
       "      <td>1</td>\n",
       "      <td>Ads</td>\n",
       "      <td>7</td>\n",
       "      <td>0</td>\n",
       "    </tr>\n",
       "    <tr>\n",
       "      <th>316157</th>\n",
       "      <td>China</td>\n",
       "      <td>35</td>\n",
       "      <td>1</td>\n",
       "      <td>Ads</td>\n",
       "      <td>10</td>\n",
       "      <td>0</td>\n",
       "    </tr>\n",
       "    <tr>\n",
       "      <th>316158</th>\n",
       "      <td>China</td>\n",
       "      <td>39</td>\n",
       "      <td>1</td>\n",
       "      <td>Seo</td>\n",
       "      <td>8</td>\n",
       "      <td>0</td>\n",
       "    </tr>\n",
       "    <tr>\n",
       "      <th>316159</th>\n",
       "      <td>US</td>\n",
       "      <td>29</td>\n",
       "      <td>0</td>\n",
       "      <td>Seo</td>\n",
       "      <td>2</td>\n",
       "      <td>0</td>\n",
       "    </tr>\n",
       "    <tr>\n",
       "      <th>316160</th>\n",
       "      <td>Germany</td>\n",
       "      <td>17</td>\n",
       "      <td>1</td>\n",
       "      <td>Ads</td>\n",
       "      <td>5</td>\n",
       "      <td>0</td>\n",
       "    </tr>\n",
       "    <tr>\n",
       "      <th>316161</th>\n",
       "      <td>US</td>\n",
       "      <td>23</td>\n",
       "      <td>0</td>\n",
       "      <td>Seo</td>\n",
       "      <td>10</td>\n",
       "      <td>0</td>\n",
       "    </tr>\n",
       "    <tr>\n",
       "      <th>316162</th>\n",
       "      <td>US</td>\n",
       "      <td>34</td>\n",
       "      <td>1</td>\n",
       "      <td>Ads</td>\n",
       "      <td>2</td>\n",
       "      <td>0</td>\n",
       "    </tr>\n",
       "    <tr>\n",
       "      <th>316163</th>\n",
       "      <td>UK</td>\n",
       "      <td>18</td>\n",
       "      <td>0</td>\n",
       "      <td>Seo</td>\n",
       "      <td>2</td>\n",
       "      <td>0</td>\n",
       "    </tr>\n",
       "    <tr>\n",
       "      <th>316164</th>\n",
       "      <td>UK</td>\n",
       "      <td>37</td>\n",
       "      <td>1</td>\n",
       "      <td>Direct</td>\n",
       "      <td>6</td>\n",
       "      <td>0</td>\n",
       "    </tr>\n",
       "    <tr>\n",
       "      <th>316165</th>\n",
       "      <td>US</td>\n",
       "      <td>27</td>\n",
       "      <td>1</td>\n",
       "      <td>Seo</td>\n",
       "      <td>7</td>\n",
       "      <td>0</td>\n",
       "    </tr>\n",
       "    <tr>\n",
       "      <th>316166</th>\n",
       "      <td>China</td>\n",
       "      <td>43</td>\n",
       "      <td>1</td>\n",
       "      <td>Seo</td>\n",
       "      <td>8</td>\n",
       "      <td>0</td>\n",
       "    </tr>\n",
       "    <tr>\n",
       "      <th>316167</th>\n",
       "      <td>UK</td>\n",
       "      <td>23</td>\n",
       "      <td>1</td>\n",
       "      <td>Seo</td>\n",
       "      <td>4</td>\n",
       "      <td>0</td>\n",
       "    </tr>\n",
       "    <tr>\n",
       "      <th>316168</th>\n",
       "      <td>China</td>\n",
       "      <td>32</td>\n",
       "      <td>0</td>\n",
       "      <td>Ads</td>\n",
       "      <td>2</td>\n",
       "      <td>0</td>\n",
       "    </tr>\n",
       "    <tr>\n",
       "      <th>316169</th>\n",
       "      <td>US</td>\n",
       "      <td>23</td>\n",
       "      <td>1</td>\n",
       "      <td>Seo</td>\n",
       "      <td>8</td>\n",
       "      <td>0</td>\n",
       "    </tr>\n",
       "    <tr>\n",
       "      <th>316170</th>\n",
       "      <td>US</td>\n",
       "      <td>33</td>\n",
       "      <td>1</td>\n",
       "      <td>Seo</td>\n",
       "      <td>5</td>\n",
       "      <td>0</td>\n",
       "    </tr>\n",
       "    <tr>\n",
       "      <th>316171</th>\n",
       "      <td>US</td>\n",
       "      <td>36</td>\n",
       "      <td>0</td>\n",
       "      <td>Seo</td>\n",
       "      <td>1</td>\n",
       "      <td>0</td>\n",
       "    </tr>\n",
       "    <tr>\n",
       "      <th>316172</th>\n",
       "      <td>US</td>\n",
       "      <td>28</td>\n",
       "      <td>1</td>\n",
       "      <td>Ads</td>\n",
       "      <td>1</td>\n",
       "      <td>0</td>\n",
       "    </tr>\n",
       "    <tr>\n",
       "      <th>316173</th>\n",
       "      <td>UK</td>\n",
       "      <td>24</td>\n",
       "      <td>1</td>\n",
       "      <td>Ads</td>\n",
       "      <td>2</td>\n",
       "      <td>0</td>\n",
       "    </tr>\n",
       "    <tr>\n",
       "      <th>316174</th>\n",
       "      <td>China</td>\n",
       "      <td>41</td>\n",
       "      <td>0</td>\n",
       "      <td>Seo</td>\n",
       "      <td>5</td>\n",
       "      <td>0</td>\n",
       "    </tr>\n",
       "    <tr>\n",
       "      <th>316175</th>\n",
       "      <td>UK</td>\n",
       "      <td>21</td>\n",
       "      <td>0</td>\n",
       "      <td>Ads</td>\n",
       "      <td>2</td>\n",
       "      <td>0</td>\n",
       "    </tr>\n",
       "    <tr>\n",
       "      <th>316176</th>\n",
       "      <td>US</td>\n",
       "      <td>22</td>\n",
       "      <td>1</td>\n",
       "      <td>Seo</td>\n",
       "      <td>5</td>\n",
       "      <td>0</td>\n",
       "    </tr>\n",
       "    <tr>\n",
       "      <th>316177</th>\n",
       "      <td>UK</td>\n",
       "      <td>24</td>\n",
       "      <td>1</td>\n",
       "      <td>Seo</td>\n",
       "      <td>1</td>\n",
       "      <td>0</td>\n",
       "    </tr>\n",
       "    <tr>\n",
       "      <th>316178</th>\n",
       "      <td>UK</td>\n",
       "      <td>25</td>\n",
       "      <td>1</td>\n",
       "      <td>Seo</td>\n",
       "      <td>11</td>\n",
       "      <td>0</td>\n",
       "    </tr>\n",
       "    <tr>\n",
       "      <th>316179</th>\n",
       "      <td>UK</td>\n",
       "      <td>20</td>\n",
       "      <td>1</td>\n",
       "      <td>Seo</td>\n",
       "      <td>4</td>\n",
       "      <td>0</td>\n",
       "    </tr>\n",
       "    <tr>\n",
       "      <th>316180</th>\n",
       "      <td>US</td>\n",
       "      <td>23</td>\n",
       "      <td>1</td>\n",
       "      <td>Seo</td>\n",
       "      <td>3</td>\n",
       "      <td>0</td>\n",
       "    </tr>\n",
       "    <tr>\n",
       "      <th>316181</th>\n",
       "      <td>US</td>\n",
       "      <td>28</td>\n",
       "      <td>0</td>\n",
       "      <td>Seo</td>\n",
       "      <td>8</td>\n",
       "      <td>0</td>\n",
       "    </tr>\n",
       "    <tr>\n",
       "      <th>316182</th>\n",
       "      <td>US</td>\n",
       "      <td>24</td>\n",
       "      <td>1</td>\n",
       "      <td>Ads</td>\n",
       "      <td>3</td>\n",
       "      <td>0</td>\n",
       "    </tr>\n",
       "    <tr>\n",
       "      <th>316183</th>\n",
       "      <td>US</td>\n",
       "      <td>39</td>\n",
       "      <td>1</td>\n",
       "      <td>Seo</td>\n",
       "      <td>6</td>\n",
       "      <td>0</td>\n",
       "    </tr>\n",
       "    <tr>\n",
       "      <th>316184</th>\n",
       "      <td>UK</td>\n",
       "      <td>26</td>\n",
       "      <td>1</td>\n",
       "      <td>Seo</td>\n",
       "      <td>16</td>\n",
       "      <td>1</td>\n",
       "    </tr>\n",
       "    <tr>\n",
       "      <th>316185</th>\n",
       "      <td>China</td>\n",
       "      <td>27</td>\n",
       "      <td>1</td>\n",
       "      <td>Direct</td>\n",
       "      <td>7</td>\n",
       "      <td>0</td>\n",
       "    </tr>\n",
       "    <tr>\n",
       "      <th>316186</th>\n",
       "      <td>China</td>\n",
       "      <td>23</td>\n",
       "      <td>1</td>\n",
       "      <td>Direct</td>\n",
       "      <td>7</td>\n",
       "      <td>0</td>\n",
       "    </tr>\n",
       "    <tr>\n",
       "      <th>316187</th>\n",
       "      <td>China</td>\n",
       "      <td>30</td>\n",
       "      <td>1</td>\n",
       "      <td>Seo</td>\n",
       "      <td>2</td>\n",
       "      <td>0</td>\n",
       "    </tr>\n",
       "    <tr>\n",
       "      <th>316188</th>\n",
       "      <td>US</td>\n",
       "      <td>44</td>\n",
       "      <td>0</td>\n",
       "      <td>Seo</td>\n",
       "      <td>4</td>\n",
       "      <td>0</td>\n",
       "    </tr>\n",
       "    <tr>\n",
       "      <th>316189</th>\n",
       "      <td>China</td>\n",
       "      <td>17</td>\n",
       "      <td>0</td>\n",
       "      <td>Ads</td>\n",
       "      <td>6</td>\n",
       "      <td>0</td>\n",
       "    </tr>\n",
       "    <tr>\n",
       "      <th>316190</th>\n",
       "      <td>US</td>\n",
       "      <td>23</td>\n",
       "      <td>0</td>\n",
       "      <td>Ads</td>\n",
       "      <td>4</td>\n",
       "      <td>0</td>\n",
       "    </tr>\n",
       "    <tr>\n",
       "      <th>316191</th>\n",
       "      <td>US</td>\n",
       "      <td>40</td>\n",
       "      <td>0</td>\n",
       "      <td>Seo</td>\n",
       "      <td>4</td>\n",
       "      <td>0</td>\n",
       "    </tr>\n",
       "    <tr>\n",
       "      <th>316192</th>\n",
       "      <td>China</td>\n",
       "      <td>35</td>\n",
       "      <td>1</td>\n",
       "      <td>Seo</td>\n",
       "      <td>7</td>\n",
       "      <td>0</td>\n",
       "    </tr>\n",
       "    <tr>\n",
       "      <th>316193</th>\n",
       "      <td>UK</td>\n",
       "      <td>32</td>\n",
       "      <td>1</td>\n",
       "      <td>Direct</td>\n",
       "      <td>5</td>\n",
       "      <td>0</td>\n",
       "    </tr>\n",
       "    <tr>\n",
       "      <th>316194</th>\n",
       "      <td>UK</td>\n",
       "      <td>28</td>\n",
       "      <td>0</td>\n",
       "      <td>Seo</td>\n",
       "      <td>8</td>\n",
       "      <td>0</td>\n",
       "    </tr>\n",
       "    <tr>\n",
       "      <th>316195</th>\n",
       "      <td>US</td>\n",
       "      <td>26</td>\n",
       "      <td>1</td>\n",
       "      <td>Ads</td>\n",
       "      <td>9</td>\n",
       "      <td>0</td>\n",
       "    </tr>\n",
       "    <tr>\n",
       "      <th>316196</th>\n",
       "      <td>US</td>\n",
       "      <td>27</td>\n",
       "      <td>1</td>\n",
       "      <td>Direct</td>\n",
       "      <td>6</td>\n",
       "      <td>0</td>\n",
       "    </tr>\n",
       "    <tr>\n",
       "      <th>316197</th>\n",
       "      <td>China</td>\n",
       "      <td>25</td>\n",
       "      <td>0</td>\n",
       "      <td>Ads</td>\n",
       "      <td>4</td>\n",
       "      <td>0</td>\n",
       "    </tr>\n",
       "    <tr>\n",
       "      <th>316198</th>\n",
       "      <td>US</td>\n",
       "      <td>22</td>\n",
       "      <td>0</td>\n",
       "      <td>Seo</td>\n",
       "      <td>4</td>\n",
       "      <td>0</td>\n",
       "    </tr>\n",
       "    <tr>\n",
       "      <th>316199</th>\n",
       "      <td>UK</td>\n",
       "      <td>24</td>\n",
       "      <td>0</td>\n",
       "      <td>Ads</td>\n",
       "      <td>4</td>\n",
       "      <td>0</td>\n",
       "    </tr>\n",
       "  </tbody>\n",
       "</table>\n",
       "<p>299903 rows × 6 columns</p>\n",
       "</div>"
      ],
      "text/plain": [
       "        country  age  new_user  source  total_pages_visited  converted\n",
       "88           US   28         1     Seo                    4          0\n",
       "89           US   25         1     Ads                    5          0\n",
       "110          US   29         0     Ads                    5          0\n",
       "144          US   37         1  Direct                    7          0\n",
       "148          US   19         1     Ads                    3          0\n",
       "150          US   26         0     Seo                    3          0\n",
       "190          US   26         1     Seo                    3          0\n",
       "191          US   31         1     Seo                    7          0\n",
       "194          US   27         1     Seo                    2          0\n",
       "215          US   40         1     Seo                    2          0\n",
       "235          US   27         0     Ads                    7          0\n",
       "254          US   32         0     Seo                    4          0\n",
       "255       China   39         1     Seo                    6          0\n",
       "269          US   22         1     Ads                    3          0\n",
       "277          US   27         1     Seo                    2          0\n",
       "279          US   33         1  Direct                    3          0\n",
       "318          US   24         1     Seo                    4          0\n",
       "319          US   27         1     Seo                    7          0\n",
       "320          US   33         1     Seo                    4          0\n",
       "330          US   30         0     Seo                    6          0\n",
       "333          US   26         1     Seo                    3          0\n",
       "334          US   26         0     Seo                    3          0\n",
       "342          US   24         1     Seo                    4          0\n",
       "352       China   39         0     Seo                    4          0\n",
       "355          US   31         1     Seo                    7          0\n",
       "357          US   41         1     Seo                   10          0\n",
       "359          US   30         1     Ads                    1          0\n",
       "369       China   22         0     Seo                    4          0\n",
       "379          US   34         1     Seo                    6          0\n",
       "382     Germany   37         1     Seo                    5          0\n",
       "397          US   31         1     Seo                   11          0\n",
       "400          US   24         0     Seo                    6          0\n",
       "424          US   36         0  Direct                    6          0\n",
       "441       China   44         1     Seo                    3          0\n",
       "450       China   30         1     Seo                    7          0\n",
       "456       China   39         1     Seo                    5          0\n",
       "460          US   43         1     Seo                    6          0\n",
       "464          US   24         0     Seo                    1          0\n",
       "492          US   32         1     Ads                    3          0\n",
       "493          US   25         1  Direct                    4          0\n",
       "498          US   19         1     Ads                    7          0\n",
       "500          US   27         0     Seo                    7          0\n",
       "522          US   31         1     Seo                    7          0\n",
       "525          US   27         1     Seo                    1          0\n",
       "532          US   29         1     Seo                    1          0\n",
       "539          US   30         1     Seo                    6          0\n",
       "540          US   37         1     Seo                    5          0\n",
       "549          US   41         0     Seo                    3          0\n",
       "568          US   26         1     Seo                    4          0\n",
       "569          US   39         1     Seo                    5          0\n",
       "...         ...  ...       ...     ...                  ...        ...\n",
       "316150       US   41         0     Seo                    1          0\n",
       "316151       US   17         1     Seo                    4          0\n",
       "316152       US   26         1     Seo                    3          0\n",
       "316153    China   28         1  Direct                    4          0\n",
       "316154       US   28         0     Ads                    7          0\n",
       "316155    China   24         1     Seo                   10          0\n",
       "316156       US   33         1     Ads                    7          0\n",
       "316157    China   35         1     Ads                   10          0\n",
       "316158    China   39         1     Seo                    8          0\n",
       "316159       US   29         0     Seo                    2          0\n",
       "316160  Germany   17         1     Ads                    5          0\n",
       "316161       US   23         0     Seo                   10          0\n",
       "316162       US   34         1     Ads                    2          0\n",
       "316163       UK   18         0     Seo                    2          0\n",
       "316164       UK   37         1  Direct                    6          0\n",
       "316165       US   27         1     Seo                    7          0\n",
       "316166    China   43         1     Seo                    8          0\n",
       "316167       UK   23         1     Seo                    4          0\n",
       "316168    China   32         0     Ads                    2          0\n",
       "316169       US   23         1     Seo                    8          0\n",
       "316170       US   33         1     Seo                    5          0\n",
       "316171       US   36         0     Seo                    1          0\n",
       "316172       US   28         1     Ads                    1          0\n",
       "316173       UK   24         1     Ads                    2          0\n",
       "316174    China   41         0     Seo                    5          0\n",
       "316175       UK   21         0     Ads                    2          0\n",
       "316176       US   22         1     Seo                    5          0\n",
       "316177       UK   24         1     Seo                    1          0\n",
       "316178       UK   25         1     Seo                   11          0\n",
       "316179       UK   20         1     Seo                    4          0\n",
       "316180       US   23         1     Seo                    3          0\n",
       "316181       US   28         0     Seo                    8          0\n",
       "316182       US   24         1     Ads                    3          0\n",
       "316183       US   39         1     Seo                    6          0\n",
       "316184       UK   26         1     Seo                   16          1\n",
       "316185    China   27         1  Direct                    7          0\n",
       "316186    China   23         1  Direct                    7          0\n",
       "316187    China   30         1     Seo                    2          0\n",
       "316188       US   44         0     Seo                    4          0\n",
       "316189    China   17         0     Ads                    6          0\n",
       "316190       US   23         0     Ads                    4          0\n",
       "316191       US   40         0     Seo                    4          0\n",
       "316192    China   35         1     Seo                    7          0\n",
       "316193       UK   32         1  Direct                    5          0\n",
       "316194       UK   28         0     Seo                    8          0\n",
       "316195       US   26         1     Ads                    9          0\n",
       "316196       US   27         1  Direct                    6          0\n",
       "316197    China   25         0     Ads                    4          0\n",
       "316198       US   22         0     Seo                    4          0\n",
       "316199       UK   24         0     Ads                    4          0\n",
       "\n",
       "[299903 rows x 6 columns]"
      ]
     },
     "execution_count": 7,
     "metadata": {},
     "output_type": "execute_result"
    }
   ],
   "source": [
    "# Display duplicate records\n",
    "df[df.duplicated() == True]"
   ]
  },
  {
   "cell_type": "code",
   "execution_count": 8,
   "metadata": {
    "collapsed": false
   },
   "outputs": [],
   "source": [
    "# Drop duplicate records\n",
    "df = df.drop_duplicates()"
   ]
  },
  {
   "cell_type": "code",
   "execution_count": 9,
   "metadata": {
    "collapsed": false
   },
   "outputs": [
    {
     "data": {
      "text/plain": [
       "Int64Index([     0,      1,      2,      3,      4,      5,      6,      7,\n",
       "                 8,      9,\n",
       "            ...\n",
       "            315084, 315234, 315257, 315398, 315521, 315659, 315777, 315892,\n",
       "            316076, 316098],\n",
       "           dtype='int64', length=16297)"
      ]
     },
     "execution_count": 9,
     "metadata": {},
     "output_type": "execute_result"
    }
   ],
   "source": [
    "# Check how many records are remaining\n",
    "df.index"
   ]
  },
  {
   "cell_type": "code",
   "execution_count": 10,
   "metadata": {
    "collapsed": false
   },
   "outputs": [
    {
     "data": {
      "text/html": [
       "<div>\n",
       "<style>\n",
       "    .dataframe thead tr:only-child th {\n",
       "        text-align: right;\n",
       "    }\n",
       "\n",
       "    .dataframe thead th {\n",
       "        text-align: left;\n",
       "    }\n",
       "\n",
       "    .dataframe tbody tr th {\n",
       "        vertical-align: top;\n",
       "    }\n",
       "</style>\n",
       "<table border=\"1\" class=\"dataframe\">\n",
       "  <thead>\n",
       "    <tr style=\"text-align: right;\">\n",
       "      <th></th>\n",
       "      <th>country</th>\n",
       "      <th>age</th>\n",
       "      <th>new_user</th>\n",
       "      <th>source</th>\n",
       "      <th>total_pages_visited</th>\n",
       "      <th>converted</th>\n",
       "    </tr>\n",
       "  </thead>\n",
       "  <tbody>\n",
       "  </tbody>\n",
       "</table>\n",
       "</div>"
      ],
      "text/plain": [
       "Empty DataFrame\n",
       "Columns: [country, age, new_user, source, total_pages_visited, converted]\n",
       "Index: []"
      ]
     },
     "execution_count": 10,
     "metadata": {},
     "output_type": "execute_result"
    }
   ],
   "source": [
    "# Display all records containing missing data\n",
    "df[df.isnull().any(axis=1)]"
   ]
  },
  {
   "cell_type": "code",
   "execution_count": 11,
   "metadata": {
    "collapsed": false
   },
   "outputs": [
    {
     "data": {
      "text/plain": [
       "country                0\n",
       "age                    0\n",
       "new_user               0\n",
       "source                 0\n",
       "total_pages_visited    0\n",
       "converted              0\n",
       "dtype: int64"
      ]
     },
     "execution_count": 11,
     "metadata": {},
     "output_type": "execute_result"
    }
   ],
   "source": [
    "# Count of Missing values per column\n",
    "df.isnull().sum()"
   ]
  },
  {
   "cell_type": "code",
   "execution_count": 12,
   "metadata": {
    "collapsed": false
   },
   "outputs": [
    {
     "data": {
      "text/plain": [
       "0    11969\n",
       "1     4328\n",
       "Name: converted, dtype: int64"
      ]
     },
     "execution_count": 12,
     "metadata": {},
     "output_type": "execute_result"
    }
   ],
   "source": [
    "# Check imbalance in data set\n",
    "df['converted'].value_counts()"
   ]
  },
  {
   "cell_type": "code",
   "execution_count": 13,
   "metadata": {
    "collapsed": false
   },
   "outputs": [
    {
     "data": {
      "text/html": [
       "<div>\n",
       "<style>\n",
       "    .dataframe thead tr:only-child th {\n",
       "        text-align: right;\n",
       "    }\n",
       "\n",
       "    .dataframe thead th {\n",
       "        text-align: left;\n",
       "    }\n",
       "\n",
       "    .dataframe tbody tr th {\n",
       "        vertical-align: top;\n",
       "    }\n",
       "</style>\n",
       "<table border=\"1\" class=\"dataframe\">\n",
       "  <thead>\n",
       "    <tr style=\"text-align: right;\">\n",
       "      <th></th>\n",
       "      <th>age</th>\n",
       "      <th>new_user</th>\n",
       "      <th>total_pages_visited</th>\n",
       "      <th>converted</th>\n",
       "    </tr>\n",
       "  </thead>\n",
       "  <tbody>\n",
       "    <tr>\n",
       "      <th>count</th>\n",
       "      <td>16297.000000</td>\n",
       "      <td>16297.000000</td>\n",
       "      <td>16297.000000</td>\n",
       "      <td>16297.00000</td>\n",
       "    </tr>\n",
       "    <tr>\n",
       "      <th>mean</th>\n",
       "      <td>33.847702</td>\n",
       "      <td>0.500153</td>\n",
       "      <td>9.004541</td>\n",
       "      <td>0.26557</td>\n",
       "    </tr>\n",
       "    <tr>\n",
       "      <th>std</th>\n",
       "      <td>11.460386</td>\n",
       "      <td>0.500015</td>\n",
       "      <td>5.423338</td>\n",
       "      <td>0.44165</td>\n",
       "    </tr>\n",
       "    <tr>\n",
       "      <th>min</th>\n",
       "      <td>17.000000</td>\n",
       "      <td>0.000000</td>\n",
       "      <td>1.000000</td>\n",
       "      <td>0.00000</td>\n",
       "    </tr>\n",
       "    <tr>\n",
       "      <th>25%</th>\n",
       "      <td>24.000000</td>\n",
       "      <td>0.000000</td>\n",
       "      <td>5.000000</td>\n",
       "      <td>0.00000</td>\n",
       "    </tr>\n",
       "    <tr>\n",
       "      <th>50%</th>\n",
       "      <td>32.000000</td>\n",
       "      <td>1.000000</td>\n",
       "      <td>9.000000</td>\n",
       "      <td>0.00000</td>\n",
       "    </tr>\n",
       "    <tr>\n",
       "      <th>75%</th>\n",
       "      <td>42.000000</td>\n",
       "      <td>1.000000</td>\n",
       "      <td>13.000000</td>\n",
       "      <td>1.00000</td>\n",
       "    </tr>\n",
       "    <tr>\n",
       "      <th>max</th>\n",
       "      <td>123.000000</td>\n",
       "      <td>1.000000</td>\n",
       "      <td>29.000000</td>\n",
       "      <td>1.00000</td>\n",
       "    </tr>\n",
       "  </tbody>\n",
       "</table>\n",
       "</div>"
      ],
      "text/plain": [
       "                age      new_user  total_pages_visited    converted\n",
       "count  16297.000000  16297.000000         16297.000000  16297.00000\n",
       "mean      33.847702      0.500153             9.004541      0.26557\n",
       "std       11.460386      0.500015             5.423338      0.44165\n",
       "min       17.000000      0.000000             1.000000      0.00000\n",
       "25%       24.000000      0.000000             5.000000      0.00000\n",
       "50%       32.000000      1.000000             9.000000      0.00000\n",
       "75%       42.000000      1.000000            13.000000      1.00000\n",
       "max      123.000000      1.000000            29.000000      1.00000"
      ]
     },
     "execution_count": 13,
     "metadata": {},
     "output_type": "execute_result"
    }
   ],
   "source": [
    "# Check Outliers\n",
    "df.describe()"
   ]
  },
  {
   "cell_type": "code",
   "execution_count": 14,
   "metadata": {
    "collapsed": false
   },
   "outputs": [],
   "source": [
    "# Remove outliers i.e. age > 100\n",
    "df = df.loc[df.age < 100]"
   ]
  },
  {
   "cell_type": "markdown",
   "metadata": {},
   "source": [
    "### Datatype Conversion of Columns"
   ]
  },
  {
   "cell_type": "code",
   "execution_count": 15,
   "metadata": {
    "collapsed": false
   },
   "outputs": [
    {
     "data": {
      "text/plain": [
       "country                object\n",
       "age                     int64\n",
       "new_user                int64\n",
       "source                 object\n",
       "total_pages_visited     int64\n",
       "converted               int64\n",
       "dtype: object"
      ]
     },
     "execution_count": 15,
     "metadata": {},
     "output_type": "execute_result"
    }
   ],
   "source": [
    "df.dtypes"
   ]
  },
  {
   "cell_type": "code",
   "execution_count": 16,
   "metadata": {
    "collapsed": true
   },
   "outputs": [],
   "source": [
    "# Can be done only after imputation\n",
    "# new_user is effectively a categorical variable - 1 and 0\n",
    "# target - converted is also effectively a categorical variable\n",
    "df['new_user'] = df['new_user'].astype('object') \n",
    "df['converted'] = df['converted'].astype('object')"
   ]
  },
  {
   "cell_type": "code",
   "execution_count": 17,
   "metadata": {
    "collapsed": false
   },
   "outputs": [
    {
     "data": {
      "text/plain": [
       "country                object\n",
       "age                     int64\n",
       "new_user               object\n",
       "source                 object\n",
       "total_pages_visited     int64\n",
       "converted              object\n",
       "dtype: object"
      ]
     },
     "execution_count": 17,
     "metadata": {},
     "output_type": "execute_result"
    }
   ],
   "source": [
    "df.dtypes"
   ]
  },
  {
   "cell_type": "markdown",
   "metadata": {},
   "source": [
    "### Exploratory Data Analysis"
   ]
  },
  {
   "cell_type": "code",
   "execution_count": 18,
   "metadata": {
    "collapsed": false
   },
   "outputs": [
    {
     "name": "stdout",
     "output_type": "stream",
     "text": [
      "Feature 'country' has 4 unique categories\n",
      "US         5814\n",
      "UK         4312\n",
      "China      3312\n",
      "Germany    2857\n",
      "Name: country, dtype: int64\n",
      "\n",
      "Feature 'new_user' has 2 unique categories\n",
      "1    8151\n",
      "0    8144\n",
      "Name: new_user, dtype: int64\n",
      "\n",
      "Feature 'source' has 3 unique categories\n",
      "Seo       6091\n",
      "Ads       5300\n",
      "Direct    4904\n",
      "Name: source, dtype: int64\n",
      "\n",
      "Feature 'converted' has 2 unique categories\n",
      "0    11969\n",
      "1     4326\n",
      "Name: converted, dtype: int64\n",
      "\n"
     ]
    }
   ],
   "source": [
    "# Qualitative variable categories and their counts - After imputing missing values else it will take NAN as another category\n",
    "\n",
    "for col_name in df.columns:\n",
    "    if df[col_name].dtypes == 'object':\n",
    "        unique_cat = len(df[col_name].unique())\n",
    "        cat = df[col_name].value_counts().sort_values(ascending=False)\n",
    "        print(\"Feature '{col_name}' has {unique_cat} unique categories\".format(col_name=col_name, unique_cat=unique_cat))\n",
    "        print cat\n",
    "        print      "
   ]
  },
  {
   "cell_type": "code",
   "execution_count": 19,
   "metadata": {
    "collapsed": false
   },
   "outputs": [
    {
     "name": "stdout",
     "output_type": "stream",
     "text": [
      "['age', 'total_pages_visited']\n"
     ]
    }
   ],
   "source": [
    "# List of numeric columns\n",
    "num_cols = []\n",
    "\n",
    "for col_name in df.columns:\n",
    "    if df[col_name].dtypes != 'object':\n",
    "        num_cols.append(col_name)   \n",
    "        \n",
    "print num_cols"
   ]
  },
  {
   "cell_type": "code",
   "execution_count": 20,
   "metadata": {
    "collapsed": false
   },
   "outputs": [
    {
     "name": "stdout",
     "output_type": "stream",
     "text": [
      "['country', 'new_user', 'source', 'converted']\n"
     ]
    }
   ],
   "source": [
    "# List of categorical columns\n",
    "cat_cols = []\n",
    "\n",
    "for col_name in df.columns:\n",
    "    if df[col_name].dtypes == 'object':\n",
    "        cat_cols.append(col_name)  \n",
    "        \n",
    "print cat_cols"
   ]
  },
  {
   "cell_type": "markdown",
   "metadata": {},
   "source": [
    "#### Univariate Analysis"
   ]
  },
  {
   "cell_type": "code",
   "execution_count": 21,
   "metadata": {
    "collapsed": false
   },
   "outputs": [
    {
     "data": {
      "image/png": "[encoded data removed]",
      "text/plain": [
       "<matplotlib.figure.Figure at 0xc2203c8>"
      ]
     },
     "metadata": {},
     "output_type": "display_data"
    },
    {
     "data": {
      "image/png": "[encoded data removed]",
      "text/plain": [
       "<matplotlib.figure.Figure at 0x49f22e8>"
      ]
     },
     "metadata": {},
     "output_type": "display_data"
    }
   ],
   "source": [
    "# Histogram + KDE of numeric variables \n",
    "for i,col_name in enumerate(num_cols):\n",
    "    plt.figure(i)\n",
    "    sns.distplot(df[col_name])"
   ]
  },
  {
   "cell_type": "code",
   "execution_count": 22,
   "metadata": {
    "collapsed": false
   },
   "outputs": [
    {
     "data": {
      "image/png": "[encoded data removed]",
      "text/plain": [
       "<matplotlib.figure.Figure at 0xc2588d0>"
      ]
     },
     "metadata": {},
     "output_type": "display_data"
    },
    {
     "data": {
      "image/png": "[encoded data removed]",
      "text/plain": [
       "<matplotlib.figure.Figure at 0xca536d8>"
      ]
     },
     "metadata": {},
     "output_type": "display_data"
    }
   ],
   "source": [
    "# Boxplot of numeric variables\n",
    "for i,col_name in enumerate(num_cols):\n",
    "    plt.figure(i)\n",
    "    sns.boxplot(df[col_name])\n",
    "    \n",
    "# Note: Outliers cannot be defined here just by IQR in individual columns"
   ]
  },
  {
   "cell_type": "code",
   "execution_count": 23,
   "metadata": {
    "collapsed": false
   },
   "outputs": [
    {
     "data": {
      "image/png": "[encoded data removed]",
      "text/plain": [
       "<matplotlib.figure.Figure at 0xcdf5b38>"
      ]
     },
     "metadata": {},
     "output_type": "display_data"
    },
    {
     "data": {
      "image/png": "[encoded data removed]",
      "text/plain": [
       "<matplotlib.figure.Figure at 0xce040b8>"
      ]
     },
     "metadata": {},
     "output_type": "display_data"
    },
    {
     "data": {
      "image/png": "[encoded data removed]",
      "text/plain": [
       "<matplotlib.figure.Figure at 0xe670cf8>"
      ]
     },
     "metadata": {},
     "output_type": "display_data"
    },
    {
     "data": {
      "image/png": "[encoded data removed]",
      "text/plain": [
       "<matplotlib.figure.Figure at 0xe7d83c8>"
      ]
     },
     "metadata": {},
     "output_type": "display_data"
    }
   ],
   "source": [
    "# Bar plot for frequency of categories in categorical variables\n",
    "for i,col_name in enumerate(cat_cols):\n",
    "    plt.figure(i)\n",
    "    df[col_name].value_counts().plot(kind='bar')\n",
    "    plt.xlabel(col_name)"
   ]
  },
  {
   "cell_type": "markdown",
   "metadata": {},
   "source": [
    "#### Bivariate Analysis"
   ]
  },
  {
   "cell_type": "markdown",
   "metadata": {},
   "source": [
    "Understand that an observed association between two variables can be misleading or even reverse direction when there is another\n",
    "variable that interacts strongly with both variables (Simpson's Paradox)"
   ]
  },
  {
   "cell_type": "code",
   "execution_count": 24,
   "metadata": {
    "collapsed": false
   },
   "outputs": [],
   "source": [
    "# For better readability in plots \n",
    "df['converted'] = df['converted'].replace([0, 1], ['No', 'Yes'])"
   ]
  },
  {
   "cell_type": "code",
   "execution_count": 25,
   "metadata": {
    "collapsed": false
   },
   "outputs": [
    {
     "data": {
      "image/png": "[encoded data removed]",
      "text/plain": [
       "<matplotlib.figure.Figure at 0xcdf5eb8>"
      ]
     },
     "metadata": {},
     "output_type": "display_data"
    },
    {
     "data": {
      "image/png": "[encoded data removed]",
      "text/plain": [
       "<matplotlib.figure.Figure at 0xe973dd8>"
      ]
     },
     "metadata": {},
     "output_type": "display_data"
    }
   ],
   "source": [
    "# Boxplot of target variable w.r.t. continuous variables\n",
    "target = 'converted'\n",
    "for i,col_name in enumerate(num_cols):\n",
    "    plt.figure(i, figsize = (10,6))\n",
    "    sns.boxplot(df[target], df[col_name])"
   ]
  },
  {
   "cell_type": "code",
   "execution_count": 26,
   "metadata": {
    "collapsed": false
   },
   "outputs": [
    {
     "data": {
      "image/png": "[encoded data removed]",
      "text/plain": [
       "<matplotlib.figure.Figure at 0xe9e5208>"
      ]
     },
     "metadata": {},
     "output_type": "display_data"
    },
    {
     "data": {
      "image/png": "[encoded data removed]",
      "text/plain": [
       "<matplotlib.figure.Figure at 0xea995c0>"
      ]
     },
     "metadata": {},
     "output_type": "display_data"
    },
    {
     "data": {
      "image/png": "[encoded data removed]",
      "text/plain": [
       "<matplotlib.figure.Figure at 0xe4a5f60>"
      ]
     },
     "metadata": {},
     "output_type": "display_data"
    }
   ],
   "source": [
    "# Stacked Barplot of target variable w.r.t. categorical variable\n",
    "target = 'converted'\n",
    "\n",
    "cat_cols.remove(target)\n",
    "\n",
    "for col_name in cat_cols:\n",
    "    table = pd.crosstab(df[col_name], df[target])\n",
    "    table.plot(kind='bar', stacked=True) "
   ]
  },
  {
   "cell_type": "markdown",
   "metadata": {},
   "source": [
    "#### Multivariate Analysis"
   ]
  },
  {
   "cell_type": "code",
   "execution_count": 27,
   "metadata": {
    "collapsed": false
   },
   "outputs": [
    {
     "data": {
      "image/png": "[encoded data removed]",
      "text/plain": [
       "<matplotlib.figure.Figure at 0xe9e5e48>"
      ]
     },
     "metadata": {},
     "output_type": "display_data"
    }
   ],
   "source": [
    "# Scatter plot matrix of numeric variables w.r.t. target (To check shape of decision boundary)\n",
    "target = 'converted'\n",
    "\n",
    "cols = cat_cols\n",
    "df_num = df.drop(cols, axis=1)\n",
    "\n",
    "sns.set(style='whitegrid', context='notebook')\n",
    "sns.pairplot(df_num, hue=target, size=5)\n",
    "plt.tight_layout()\n",
    "plt.show()"
   ]
  },
  {
   "cell_type": "markdown",
   "metadata": {},
   "source": [
    "### Data Preprocessing"
   ]
  },
  {
   "cell_type": "code",
   "execution_count": 28,
   "metadata": {
    "collapsed": false
   },
   "outputs": [
    {
     "data": {
      "text/html": [
       "<div>\n",
       "<style>\n",
       "    .dataframe thead tr:only-child th {\n",
       "        text-align: right;\n",
       "    }\n",
       "\n",
       "    .dataframe thead th {\n",
       "        text-align: left;\n",
       "    }\n",
       "\n",
       "    .dataframe tbody tr th {\n",
       "        vertical-align: top;\n",
       "    }\n",
       "</style>\n",
       "<table border=\"1\" class=\"dataframe\">\n",
       "  <thead>\n",
       "    <tr style=\"text-align: right;\">\n",
       "      <th></th>\n",
       "      <th>age</th>\n",
       "      <th>new_user</th>\n",
       "      <th>total_pages_visited</th>\n",
       "      <th>converted</th>\n",
       "      <th>country_China</th>\n",
       "      <th>country_Germany</th>\n",
       "      <th>country_UK</th>\n",
       "      <th>country_US</th>\n",
       "      <th>source_Ads</th>\n",
       "      <th>source_Direct</th>\n",
       "      <th>source_Seo</th>\n",
       "    </tr>\n",
       "  </thead>\n",
       "  <tbody>\n",
       "    <tr>\n",
       "      <th>0</th>\n",
       "      <td>25</td>\n",
       "      <td>1</td>\n",
       "      <td>1</td>\n",
       "      <td>No</td>\n",
       "      <td>0</td>\n",
       "      <td>0</td>\n",
       "      <td>1</td>\n",
       "      <td>0</td>\n",
       "      <td>1</td>\n",
       "      <td>0</td>\n",
       "      <td>0</td>\n",
       "    </tr>\n",
       "    <tr>\n",
       "      <th>1</th>\n",
       "      <td>23</td>\n",
       "      <td>1</td>\n",
       "      <td>5</td>\n",
       "      <td>No</td>\n",
       "      <td>0</td>\n",
       "      <td>0</td>\n",
       "      <td>0</td>\n",
       "      <td>1</td>\n",
       "      <td>0</td>\n",
       "      <td>0</td>\n",
       "      <td>1</td>\n",
       "    </tr>\n",
       "    <tr>\n",
       "      <th>2</th>\n",
       "      <td>28</td>\n",
       "      <td>1</td>\n",
       "      <td>4</td>\n",
       "      <td>No</td>\n",
       "      <td>0</td>\n",
       "      <td>0</td>\n",
       "      <td>0</td>\n",
       "      <td>1</td>\n",
       "      <td>0</td>\n",
       "      <td>0</td>\n",
       "      <td>1</td>\n",
       "    </tr>\n",
       "    <tr>\n",
       "      <th>3</th>\n",
       "      <td>39</td>\n",
       "      <td>1</td>\n",
       "      <td>5</td>\n",
       "      <td>No</td>\n",
       "      <td>1</td>\n",
       "      <td>0</td>\n",
       "      <td>0</td>\n",
       "      <td>0</td>\n",
       "      <td>0</td>\n",
       "      <td>0</td>\n",
       "      <td>1</td>\n",
       "    </tr>\n",
       "    <tr>\n",
       "      <th>4</th>\n",
       "      <td>30</td>\n",
       "      <td>1</td>\n",
       "      <td>6</td>\n",
       "      <td>No</td>\n",
       "      <td>0</td>\n",
       "      <td>0</td>\n",
       "      <td>0</td>\n",
       "      <td>1</td>\n",
       "      <td>0</td>\n",
       "      <td>0</td>\n",
       "      <td>1</td>\n",
       "    </tr>\n",
       "  </tbody>\n",
       "</table>\n",
       "</div>"
      ],
      "text/plain": [
       "   age new_user  total_pages_visited converted  country_China  \\\n",
       "0   25        1                    1        No              0   \n",
       "1   23        1                    5        No              0   \n",
       "2   28        1                    4        No              0   \n",
       "3   39        1                    5        No              1   \n",
       "4   30        1                    6        No              0   \n",
       "\n",
       "   country_Germany  country_UK  country_US  source_Ads  source_Direct  \\\n",
       "0                0           1           0           1              0   \n",
       "1                0           0           1           0              0   \n",
       "2                0           0           1           0              0   \n",
       "3                0           0           0           0              0   \n",
       "4                0           0           1           0              0   \n",
       "\n",
       "   source_Seo  \n",
       "0           0  \n",
       "1           1  \n",
       "2           1  \n",
       "3           1  \n",
       "4           1  "
      ]
     },
     "execution_count": 28,
     "metadata": {},
     "output_type": "execute_result"
    }
   ],
   "source": [
    "# Preprocessing - Nominal Categorical variables\n",
    "\n",
    "# Create a list of features to dummy\n",
    "todummy_list = ['country', 'source']\n",
    "\n",
    "# Function to dummy all the categorical variables used for modeling\n",
    "def dummy_df(df, todummy_list):\n",
    "    for x in todummy_list:\n",
    "        dummies = pd.get_dummies(df[x], prefix=x, dummy_na=False)\n",
    "        df = df.drop(x, 1)\n",
    "        df = pd.concat([df, dummies], axis=1)\n",
    "    return df\n",
    "\n",
    "\n",
    "df = dummy_df(df, todummy_list)\n",
    "df.head()"
   ]
  },
  {
   "cell_type": "code",
   "execution_count": 29,
   "metadata": {
    "collapsed": false
   },
   "outputs": [
    {
     "data": {
      "text/html": [
       "<div>\n",
       "<style>\n",
       "    .dataframe thead tr:only-child th {\n",
       "        text-align: right;\n",
       "    }\n",
       "\n",
       "    .dataframe thead th {\n",
       "        text-align: left;\n",
       "    }\n",
       "\n",
       "    .dataframe tbody tr th {\n",
       "        vertical-align: top;\n",
       "    }\n",
       "</style>\n",
       "<table border=\"1\" class=\"dataframe\">\n",
       "  <thead>\n",
       "    <tr style=\"text-align: right;\">\n",
       "      <th></th>\n",
       "      <th>age</th>\n",
       "      <th>new_user</th>\n",
       "      <th>total_pages_visited</th>\n",
       "      <th>converted</th>\n",
       "      <th>country_China</th>\n",
       "      <th>country_Germany</th>\n",
       "      <th>country_UK</th>\n",
       "      <th>country_US</th>\n",
       "      <th>source_Ads</th>\n",
       "      <th>source_Direct</th>\n",
       "      <th>source_Seo</th>\n",
       "    </tr>\n",
       "  </thead>\n",
       "  <tbody>\n",
       "    <tr>\n",
       "      <th>0</th>\n",
       "      <td>25</td>\n",
       "      <td>1</td>\n",
       "      <td>1</td>\n",
       "      <td>0</td>\n",
       "      <td>0</td>\n",
       "      <td>0</td>\n",
       "      <td>1</td>\n",
       "      <td>0</td>\n",
       "      <td>1</td>\n",
       "      <td>0</td>\n",
       "      <td>0</td>\n",
       "    </tr>\n",
       "    <tr>\n",
       "      <th>1</th>\n",
       "      <td>23</td>\n",
       "      <td>1</td>\n",
       "      <td>5</td>\n",
       "      <td>0</td>\n",
       "      <td>0</td>\n",
       "      <td>0</td>\n",
       "      <td>0</td>\n",
       "      <td>1</td>\n",
       "      <td>0</td>\n",
       "      <td>0</td>\n",
       "      <td>1</td>\n",
       "    </tr>\n",
       "    <tr>\n",
       "      <th>2</th>\n",
       "      <td>28</td>\n",
       "      <td>1</td>\n",
       "      <td>4</td>\n",
       "      <td>0</td>\n",
       "      <td>0</td>\n",
       "      <td>0</td>\n",
       "      <td>0</td>\n",
       "      <td>1</td>\n",
       "      <td>0</td>\n",
       "      <td>0</td>\n",
       "      <td>1</td>\n",
       "    </tr>\n",
       "    <tr>\n",
       "      <th>3</th>\n",
       "      <td>39</td>\n",
       "      <td>1</td>\n",
       "      <td>5</td>\n",
       "      <td>0</td>\n",
       "      <td>1</td>\n",
       "      <td>0</td>\n",
       "      <td>0</td>\n",
       "      <td>0</td>\n",
       "      <td>0</td>\n",
       "      <td>0</td>\n",
       "      <td>1</td>\n",
       "    </tr>\n",
       "    <tr>\n",
       "      <th>4</th>\n",
       "      <td>30</td>\n",
       "      <td>1</td>\n",
       "      <td>6</td>\n",
       "      <td>0</td>\n",
       "      <td>0</td>\n",
       "      <td>0</td>\n",
       "      <td>0</td>\n",
       "      <td>1</td>\n",
       "      <td>0</td>\n",
       "      <td>0</td>\n",
       "      <td>1</td>\n",
       "    </tr>\n",
       "  </tbody>\n",
       "</table>\n",
       "</div>"
      ],
      "text/plain": [
       "   age new_user  total_pages_visited  converted  country_China  \\\n",
       "0   25        1                    1          0              0   \n",
       "1   23        1                    5          0              0   \n",
       "2   28        1                    4          0              0   \n",
       "3   39        1                    5          0              1   \n",
       "4   30        1                    6          0              0   \n",
       "\n",
       "   country_Germany  country_UK  country_US  source_Ads  source_Direct  \\\n",
       "0                0           1           0           1              0   \n",
       "1                0           0           1           0              0   \n",
       "2                0           0           1           0              0   \n",
       "3                0           0           0           0              0   \n",
       "4                0           0           1           0              0   \n",
       "\n",
       "   source_Seo  \n",
       "0           0  \n",
       "1           1  \n",
       "2           1  \n",
       "3           1  \n",
       "4           1  "
      ]
     },
     "execution_count": 29,
     "metadata": {},
     "output_type": "execute_result"
    }
   ],
   "source": [
    "# Code target variable\n",
    "df['converted'] = df['converted'].replace(['No', 'Yes'], [0, 1])\n",
    "df.head()"
   ]
  },
  {
   "cell_type": "markdown",
   "metadata": {},
   "source": [
    "### Partitioning into Train/Test Split"
   ]
  },
  {
   "cell_type": "code",
   "execution_count": 30,
   "metadata": {
    "collapsed": true
   },
   "outputs": [],
   "source": [
    "# In reality, this step should be done just after preliminary data exploration\n",
    "\n",
    "y = df['converted']\n",
    "X = df.drop('converted', axis = 1)\n",
    "\n",
    "# Partition into train-test split\n",
    "from sklearn.model_selection import train_test_split\n",
    "\n",
    "X_train, X_test, y_train, y_test = train_test_split(X, y, test_size=0.2, random_state=0) # 80/20 split"
   ]
  },
  {
   "cell_type": "markdown",
   "metadata": {},
   "source": [
    "#### Check imbalance and fix it in training data"
   ]
  },
  {
   "cell_type": "code",
   "execution_count": 31,
   "metadata": {
    "collapsed": false
   },
   "outputs": [
    {
     "data": {
      "text/plain": [
       "0    9560\n",
       "1    3476\n",
       "Name: converted, dtype: int64"
      ]
     },
     "execution_count": 31,
     "metadata": {},
     "output_type": "execute_result"
    }
   ],
   "source": [
    "y_train.value_counts()"
   ]
  },
  {
   "cell_type": "code",
   "execution_count": 32,
   "metadata": {
    "collapsed": false
   },
   "outputs": [
    {
     "name": "stderr",
     "output_type": "stream",
     "text": [
      "C:\\Users\\prati\\Anaconda2\\lib\\site-packages\\sklearn\\utils\\deprecation.py:75: DeprecationWarning: Function _ratio_float is deprecated; Use a float for 'ratio' is deprecated from version 0.2. The support will be removed in 0.4. Use a dict, str, or a callable instead.\n",
      "  warnings.warn(msg, category=DeprecationWarning)\n"
     ]
    }
   ],
   "source": [
    "from imblearn.over_sampling import SMOTE\n",
    "sm = SMOTE(random_state=12, ratio = 1.0)\n",
    "X_train_sm, y_train_sm = sm.fit_sample(X_train, y_train)"
   ]
  },
  {
   "cell_type": "code",
   "execution_count": 33,
   "metadata": {
    "collapsed": false
   },
   "outputs": [
    {
     "data": {
      "text/plain": [
       "(array([0, 1], dtype=int64), array([9560, 9560], dtype=int64))"
      ]
     },
     "execution_count": 33,
     "metadata": {},
     "output_type": "execute_result"
    }
   ],
   "source": [
    "np.unique(y_train_sm, return_counts=True)"
   ]
  },
  {
   "cell_type": "code",
   "execution_count": 34,
   "metadata": {
    "collapsed": false
   },
   "outputs": [
    {
     "name": "stdout",
     "output_type": "stream",
     "text": [
      "\n",
      "After Standardizing\n",
      "\n"
     ]
    },
    {
     "data": {
      "text/plain": [
       "array([[-0.19226081,  1.11116835, -1.32788142, ...,  1.46269887,\n",
       "        -0.64404236, -0.80473312],\n",
       "       [ 1.01636073,  1.11116835,  0.04237734, ..., -0.69932051,\n",
       "         1.5882186 , -0.80473312],\n",
       "       [-0.19226081,  1.11116835,  0.38494203, ...,  1.46269887,\n",
       "        -0.64404236, -0.80473312],\n",
       "       ..., \n",
       "       [-0.38447578, -0.95393229,  0.38494203, ..., -0.69932051,\n",
       "        -0.64404236,  1.26917597],\n",
       "       [-1.40088236,  1.11116835,  1.58391844, ..., -0.69932051,\n",
       "         1.5882186 , -0.80473312],\n",
       "       [-1.37334455, -0.95393229, -1.10586555, ..., -0.69932051,\n",
       "         1.5882186 , -0.80473312]])"
      ]
     },
     "metadata": {},
     "output_type": "display_data"
    },
    {
     "data": {
      "text/plain": [
       "array([0, 0, 0, ..., 1, 1, 1], dtype=int64)"
      ]
     },
     "metadata": {},
     "output_type": "display_data"
    },
    {
     "data": {
      "text/plain": [
       "array([[ 0.36556452,  1.11116835,  0.72750672, ...,  1.46269887,\n",
       "        -0.64404236, -0.80473312],\n",
       "       [-0.56414436, -0.95393229,  1.24135375, ..., -0.69932051,\n",
       "        -0.64404236,  1.26917597],\n",
       "       [-0.47117347, -0.95393229, -0.128905  , ..., -0.69932051,\n",
       "         1.5882186 , -0.80473312],\n",
       "       ..., \n",
       "       [-0.93602792,  1.11116835, -1.49916376, ..., -0.69932051,\n",
       "         1.5882186 , -0.80473312],\n",
       "       [ 1.38824429,  1.11116835, -0.128905  , ..., -0.69932051,\n",
       "        -0.64404236,  1.26917597],\n",
       "       [-0.56414436, -0.95393229, -1.15659907, ...,  1.46269887,\n",
       "        -0.64404236, -0.80473312]])"
      ]
     },
     "metadata": {},
     "output_type": "display_data"
    },
    {
     "data": {
      "text/plain": [
       "120241    0\n",
       "240456    1\n",
       "102803    0\n",
       "145526    0\n",
       "5876      0\n",
       "4643      0\n",
       "134435    0\n",
       "65381     0\n",
       "43492     0\n",
       "4030      0\n",
       "2485      1\n",
       "4227      0\n",
       "161992    1\n",
       "18861     0\n",
       "232880    1\n",
       "27289     0\n",
       "33215     0\n",
       "2434      0\n",
       "6538      0\n",
       "20002     0\n",
       "134375    1\n",
       "172594    0\n",
       "167148    0\n",
       "255907    0\n",
       "8677      0\n",
       "164430    1\n",
       "237792    0\n",
       "138892    1\n",
       "31807     0\n",
       "89197     0\n",
       "1819      0\n",
       "870       0\n",
       "1097      0\n",
       "299788    1\n",
       "109414    0\n",
       "197896    0\n",
       "73404     0\n",
       "190042    0\n",
       "186583    1\n",
       "9085      0\n",
       "19894     1\n",
       "133800    0\n",
       "112309    0\n",
       "13139     0\n",
       "55813     0\n",
       "21644     1\n",
       "109900    1\n",
       "243775    0\n",
       "892       0\n",
       "284142    0\n",
       "         ..\n",
       "147104    1\n",
       "5621      1\n",
       "45480     1\n",
       "12028     0\n",
       "89553     0\n",
       "63788     0\n",
       "6639      0\n",
       "8570      0\n",
       "75757     0\n",
       "49025     0\n",
       "6382      0\n",
       "6242      0\n",
       "56783     0\n",
       "39124     1\n",
       "286940    1\n",
       "1595      0\n",
       "80406     0\n",
       "15919     0\n",
       "107392    1\n",
       "1301      0\n",
       "106718    0\n",
       "53734     0\n",
       "127469    0\n",
       "7570      0\n",
       "582       0\n",
       "132404    1\n",
       "40551     1\n",
       "4202      0\n",
       "220524    0\n",
       "3907      0\n",
       "20754     0\n",
       "25181     0\n",
       "12055     0\n",
       "203       0\n",
       "267212    1\n",
       "89878     1\n",
       "298746    1\n",
       "3588      0\n",
       "1001      0\n",
       "170994    1\n",
       "170296    1\n",
       "2441      0\n",
       "24855     0\n",
       "48633     1\n",
       "9721      0\n",
       "70139     0\n",
       "22119     0\n",
       "10742     0\n",
       "81769     0\n",
       "11191     0\n",
       "Name: converted, Length: 3259, dtype: int64"
      ]
     },
     "metadata": {},
     "output_type": "display_data"
    }
   ],
   "source": [
    "# Standardize\n",
    "from sklearn.preprocessing import StandardScaler\n",
    "\n",
    "stdsc = StandardScaler()\n",
    "X_train = stdsc.fit_transform(X_train_sm)   # fit + transform\n",
    "X_test = stdsc.transform(X_test)         # only transform\n",
    "y_train = y_train_sm\n",
    "\n",
    "print \"\\nAfter Standardizing\\n\"\n",
    "display(X_train)\n",
    "display(y_train) # indices will also appear\n",
    "display(X_test)\n",
    "display(y_test)\n"
   ]
  },
  {
   "cell_type": "markdown",
   "metadata": {},
   "source": [
    "### Modeling "
   ]
  },
  {
   "cell_type": "markdown",
   "metadata": {},
   "source": [
    "#### Logistic Regression"
   ]
  },
  {
   "cell_type": "code",
   "execution_count": 35,
   "metadata": {
    "collapsed": false
   },
   "outputs": [
    {
     "name": "stderr",
     "output_type": "stream",
     "text": [
      "C:\\Users\\prati\\Anaconda2\\lib\\site-packages\\statsmodels\\compat\\pandas.py:56: FutureWarning: The pandas.core.datetools module is deprecated and will be removed in a future version. Please use the pandas.tseries module instead.\n",
      "  from pandas.core import datetools\n"
     ]
    },
    {
     "name": "stdout",
     "output_type": "stream",
     "text": [
      "Optimization terminated successfully.\n",
      "         Current function value: 0.311695\n",
      "         Iterations 8\n",
      "                           Logit Regression Results                           \n",
      "==============================================================================\n",
      "Dep. Variable:              converted   No. Observations:                16295\n",
      "Model:                          Logit   Df Residuals:                    16287\n",
      "Method:                           MLE   Df Model:                            7\n",
      "Date:                Thu, 23 Nov 2017   Pseudo R-squ.:                  0.4614\n",
      "Time:                        15:02:43   Log-Likelihood:                -5079.1\n",
      "converged:                       True   LL-Null:                       -9430.1\n",
      "                                        LLR p-value:                     0.000\n",
      "=======================================================================================\n",
      "                          coef    std err          z      P>|z|      [0.025      0.975]\n",
      "---------------------------------------------------------------------------------------\n",
      "age                    -0.0981      0.002    -46.107      0.000      -0.102      -0.094\n",
      "new_user               -0.9171      0.050    -18.195      0.000      -1.016      -0.818\n",
      "total_pages_visited     0.3152      0.006     54.738      0.000       0.304       0.327\n",
      "country_China          -3.2197      0.117    -27.480      0.000      -3.449      -2.990\n",
      "country_Germany        -0.8474      0.068    -12.413      0.000      -0.981      -0.714\n",
      "country_UK             -0.4838      0.056     -8.654      0.000      -0.593      -0.374\n",
      "source_Direct          -0.4514      0.062     -7.283      0.000      -0.573      -0.330\n",
      "source_Seo             -0.1221      0.058     -2.123      0.034      -0.235      -0.009\n",
      "=======================================================================================\n",
      "Odds Ratio \n",
      "age                    0.906563\n",
      "new_user               0.399680\n",
      "total_pages_visited    1.370554\n",
      "country_China          0.039966\n",
      "country_Germany        0.428521\n",
      "country_UK             0.616448\n",
      "source_Direct          0.636734\n",
      "source_Seo             0.885082\n",
      "dtype: float64\n"
     ]
    },
    {
     "name": "stderr",
     "output_type": "stream",
     "text": [
      "C:\\Users\\prati\\Anaconda2\\lib\\site-packages\\statsmodels\\discrete\\discrete_model.py:2405: DeprecationWarning: `chisqprob` is deprecated!\n",
      "stats.chisqprob is deprecated in scipy 0.17.0; use stats.distributions.chi2.sf instead.\n",
      "  return stats.chisqprob(self.llr, self.df_model)\n"
     ]
    }
   ],
   "source": [
    "# Running Logistic regression and Checking \n",
    "\n",
    "# Model Summary\n",
    "\n",
    "import statsmodels.api as sm\n",
    "X_df = X.drop(['country_US', 'source_Ads'], axis = 1) # Drop baseline category to avoid dummy variable trap (if more than 2 categories in a variable)\n",
    "logit = sm.Logit(y.astype(float), X_df.astype(float))\n",
    "result = logit.fit()\n",
    "print result.summary()\n",
    "print \"Odds Ratio \\n\", np.exp(result.params)"
   ]
  },
  {
   "cell_type": "code",
   "execution_count": 36,
   "metadata": {
    "collapsed": false
   },
   "outputs": [
    {
     "name": "stdout",
     "output_type": "stream",
     "text": [
      "\n",
      "Best Score = 0.842069778155\n",
      "\n",
      "Best params: {'C': 0.3}\n",
      "\n",
      "Best Estimator: LogisticRegression(C=0.3, class_weight=None, dual=False, fit_intercept=True,\n",
      "          intercept_scaling=1, max_iter=100, multi_class='ovr', n_jobs=1,\n",
      "          penalty='l2', random_state=None, solver='liblinear', tol=0.0001,\n",
      "          verbose=0, warm_start=False)\n",
      "\n",
      "\n",
      " Logistic Regression Model \n",
      "[('age', -0.78429778679521711), ('country_China', -0.89948358647552573), ('country_Germany', 0.005316887932708696), ('country_UK', 0.2051949433657673), ('country_US', 0.4511772249710666), ('new_user', -0.39164337648054742), ('source_Ads', -0.032858559606099902), ('source_Direct', -0.083540827854499705), ('source_Seo', 0.10913407028496842), ('total_pages_visited', 2.1569432510841438)]\n",
      "Training Error\n",
      "Accuracy score =  0.840951882845\n",
      "Precision score =  0.834204860043\n",
      "Recall score =  0.851046025105\n",
      "F1 score =  0.842541293429\n",
      "\n",
      "Test Error\n",
      "Accuracy score =  0.835839214483\n",
      "Precision score =  0.634730538922\n",
      "Recall score =  0.872941176471\n",
      "F1 score =  0.735017335315\n",
      "\n"
     ]
    },
    {
     "data": {
      "image/png": "[encoded data removed]",
      "text/plain": [
       "<matplotlib.figure.Figure at 0xe5c7a58>"
      ]
     },
     "metadata": {},
     "output_type": "display_data"
    }
   ],
   "source": [
    "def classification_logistic(X_train,y_train,X_test,y_test,target,scoring_param='f1'):\n",
    "    from sklearn.linear_model import LogisticRegression\n",
    "    from sklearn.metrics import accuracy_score, precision_score, recall_score, f1_score\n",
    "    from sklearn.model_selection import GridSearchCV\n",
    "    import matplotlib.pyplot as plt\n",
    "    \n",
    "    lreg = LogisticRegression()\n",
    "\n",
    "    reg_param = [0.3, 0.5, 1.0]\n",
    "\n",
    "    param_grid = {'C': reg_param}\n",
    "\n",
    "    gs = GridSearchCV(estimator=lreg, param_grid=param_grid, scoring=scoring_param, cv=5, n_jobs=-1)\n",
    "\n",
    "    gs.fit(X_train, y_train)\n",
    "\n",
    "    print \"\\nBest Score = {}\".format(gs.best_score_)\n",
    "    print \"\\nBest params: {}\".format(gs.best_params_)\n",
    "    print \"\\nBest Estimator: {}\".format(gs.best_estimator_)\n",
    "    print\n",
    "\n",
    "    lreg = gs.best_estimator_\n",
    "\n",
    "    # Coefficients of logistic Regression\n",
    "    print \"\\n Logistic Regression Model \\n\", \n",
    "    print sorted(zip(df.columns[df.columns != target], np.ravel(lreg.coef_)))\n",
    "\n",
    "    print \"Training Error\"\n",
    "    print \"Accuracy score = \", accuracy_score(y_train, lreg.predict(X_train))\n",
    "    print \"Precision score = \", precision_score(y_train, lreg.predict(X_train))\n",
    "    print \"Recall score = \", recall_score(y_train, lreg.predict(X_train))\n",
    "    print \"F1 score = \", f1_score(y_train, lreg.predict(X_train))\n",
    "    print \n",
    "\n",
    "\n",
    "    print \"Test Error\"\n",
    "    print \"Accuracy score = \", accuracy_score(y_test, lreg.predict(X_test))\n",
    "    print \"Precision score = \", precision_score(y_test, lreg.predict(X_test))\n",
    "    print \"Recall score = \", recall_score(y_test, lreg.predict(X_test))\n",
    "    print \"F1 score = \", f1_score(y_test, lreg.predict(X_test))\n",
    "    print \n",
    "\n",
    "    # Plot confusion matrix\n",
    "    from mlxtend.evaluate import confusion_matrix\n",
    "    from mlxtend.plotting import plot_confusion_matrix\n",
    "    import matplotlib.pyplot as plt\n",
    "    y_pred = lreg.predict(X_test)\n",
    "    cm = confusion_matrix(y_target=y_test, \n",
    "                      y_predicted=y_pred, \n",
    "                      binary=True)\n",
    "    fig, ax = plot_confusion_matrix(conf_mat=cm)\n",
    "    plt.show()\n",
    "    return lreg \n",
    "\n",
    "lreg = classification_logistic(X_train,y_train,X_test,y_test,'converted')"
   ]
  },
  {
   "cell_type": "markdown",
   "metadata": {},
   "source": [
    "#### Random Forest Classification"
   ]
  },
  {
   "cell_type": "code",
   "execution_count": 37,
   "metadata": {
    "collapsed": false
   },
   "outputs": [
    {
     "name": "stdout",
     "output_type": "stream",
     "text": [
      "{'warm_start': False, 'oob_score': False, 'n_jobs': 1, 'min_impurity_decrease': 0.0, 'verbose': 0, 'max_leaf_nodes': None, 'bootstrap': True, 'min_samples_leaf': 1, 'n_estimators': 10, 'min_samples_split': 2, 'min_weight_fraction_leaf': 0.0, 'criterion': 'gini', 'random_state': None, 'min_impurity_split': None, 'max_features': 'auto', 'max_depth': None, 'class_weight': None}\n",
      "\n",
      "Best Score = 0.861726911397\n",
      "\n",
      "Best params: {'max_features': 'sqrt', 'n_estimators': 10, 'max_depth': 4}\n",
      "\n",
      "Best Estimator: RandomForestClassifier(bootstrap=True, class_weight=None, criterion='gini',\n",
      "            max_depth=4, max_features='sqrt', max_leaf_nodes=None,\n",
      "            min_impurity_decrease=0.0, min_impurity_split=None,\n",
      "            min_samples_leaf=1, min_samples_split=2,\n",
      "            min_weight_fraction_leaf=0.0, n_estimators=10, n_jobs=1,\n",
      "            oob_score=False, random_state=None, verbose=0,\n",
      "            warm_start=False)\n"
     ]
    },
    {
     "data": {
      "image/png": "[encoded data removed]",
      "text/plain": [
       "<matplotlib.figure.Figure at 0xcc1b748>"
      ]
     },
     "metadata": {},
     "output_type": "display_data"
    },
    {
     "name": "stdout",
     "output_type": "stream",
     "text": [
      "Training Error\n",
      "Accuracy score =  0.857531380753\n",
      "Precision score =  0.837813797193\n",
      "Recall score =  0.886715481172\n",
      "F1 score =  0.861571297896\n",
      "\n",
      "Test Error\n",
      "Accuracy score =  0.822031297944\n",
      "Precision score =  0.618006993007\n",
      "Recall score =  0.831764705882\n",
      "F1 score =  0.709127382146\n",
      "\n"
     ]
    },
    {
     "data": {
      "image/png": "[encoded data removed]",
      "text/plain": [
       "<matplotlib.figure.Figure at 0xc7db630>"
      ]
     },
     "metadata": {},
     "output_type": "display_data"
    }
   ],
   "source": [
    "def classification_randomForest(X_train, y_train, X_test, y_test, target, scoring_param='f1'):\n",
    "    from sklearn.model_selection import GridSearchCV\n",
    "    from sklearn.ensemble import RandomForestClassifier\n",
    "    import matplotlib.pyplot as plt\n",
    "    import numpy as np\n",
    "    \n",
    "    rf = RandomForestClassifier()\n",
    "    print rf.get_params()\n",
    "    \n",
    "    estimator_range = [10, 100, 1000]\n",
    "    feature_range = ['sqrt', 'log2']\n",
    "    depth_range = [3, 4]\n",
    "    #Overall 3*2*2 = 12 combinations with five times CV\n",
    "\n",
    "    param_grid = {'n_estimators': estimator_range, 'max_features': feature_range, 'max_depth' : depth_range}\n",
    "\n",
    "    gs = GridSearchCV(estimator=rf, param_grid=param_grid, scoring=scoring_param, cv=5, n_jobs=-1)\n",
    "\n",
    "    gs.fit(X_train,y_train)\n",
    "\n",
    "    print \"\\nBest Score = {}\".format(gs.best_score_)\n",
    "    print \"\\nBest params: {}\".format(gs.best_params_)\n",
    "    print \"\\nBest Estimator: {}\".format(gs.best_estimator_)\n",
    "    \n",
    "    rf = gs.best_estimator_\n",
    "    \n",
    "    feature_importance = rf.feature_importances_\n",
    "    feature_importance = 100.0 * (feature_importance / feature_importance.max())\n",
    "    sorted_idx = np.argsort(feature_importance)\n",
    "    pos = np.arange(sorted_idx.shape[0]) + .5\n",
    "    plt.figure(figsize=(16, 12))\n",
    "    plt.barh(pos, feature_importance[sorted_idx], align='center', color='#7A68A6')\n",
    "    plt.yticks(pos, np.asanyarray(df.columns[df.columns != target])[sorted_idx])\n",
    "    plt.xlabel('Relative Importance')\n",
    "    plt.title('Variable Importance')\n",
    "    plt.show()\n",
    "    \n",
    "    from sklearn.metrics import accuracy_score, precision_score, recall_score, f1_score\n",
    "    \n",
    "    print \"Training Error\"\n",
    "    print \"Accuracy score = \", accuracy_score(y_train, rf.predict(X_train))\n",
    "    print \"Precision score = \", precision_score(y_train, rf.predict(X_train))\n",
    "    print \"Recall score = \", recall_score(y_train, rf.predict(X_train))\n",
    "    print \"F1 score = \", f1_score(y_train, rf.predict(X_train))\n",
    "    print \n",
    "\n",
    "\n",
    "    print \"Test Error\"\n",
    "    print \"Accuracy score = \", accuracy_score(y_test, rf.predict(X_test))\n",
    "    print \"Precision score = \", precision_score(y_test, rf.predict(X_test))\n",
    "    print \"Recall score = \", recall_score(y_test, rf.predict(X_test))\n",
    "    print \"F1 score = \", f1_score(y_test, rf.predict(X_test))\n",
    "    print \n",
    "\n",
    "    # Plot confusion matrix\n",
    "    from mlxtend.evaluate import confusion_matrix\n",
    "    from mlxtend.plotting import plot_confusion_matrix\n",
    "    import matplotlib.pyplot as plt\n",
    "    y_pred = rf.predict(X_test)\n",
    "    cm = confusion_matrix(y_target=y_test, \n",
    "                      y_predicted=y_pred, \n",
    "                      binary=True)\n",
    "    fig, ax = plot_confusion_matrix(conf_mat=cm)\n",
    "    plt.show()\n",
    "    return rf\n",
    "    \n",
    "rf = classification_randomForest(X_train, y_train, X_test, y_test, 'converted')"
   ]
  },
  {
   "cell_type": "markdown",
   "metadata": {},
   "source": [
    "#### Gradient Boosting Classification"
   ]
  },
  {
   "cell_type": "code",
   "execution_count": 38,
   "metadata": {
    "collapsed": false
   },
   "outputs": [
    {
     "name": "stdout",
     "output_type": "stream",
     "text": [
      "{'presort': 'auto', 'loss': 'deviance', 'min_impurity_decrease': 0.0, 'verbose': 0, 'subsample': 1.0, 'max_leaf_nodes': None, 'learning_rate': 0.1, 'warm_start': False, 'min_samples_leaf': 1, 'n_estimators': 100, 'min_samples_split': 2, 'init': None, 'min_weight_fraction_leaf': 0.0, 'criterion': 'friedman_mse', 'random_state': None, 'min_impurity_split': None, 'max_features': None, 'max_depth': 3}\n",
      "\n",
      "Best Score = 0.870328373507\n",
      "\n",
      "Best params: {'max_features': 'sqrt', 'n_estimators': 10, 'learning_rate': 0.1, 'max_depth': 7}\n",
      "\n",
      "Best Estimator: GradientBoostingClassifier(criterion='friedman_mse', init=None,\n",
      "              learning_rate=0.1, loss='deviance', max_depth=7,\n",
      "              max_features='sqrt', max_leaf_nodes=None,\n",
      "              min_impurity_decrease=0.0, min_impurity_split=None,\n",
      "              min_samples_leaf=1, min_samples_split=2,\n",
      "              min_weight_fraction_leaf=0.0, n_estimators=10,\n",
      "              presort='auto', random_state=None, subsample=1.0, verbose=0,\n",
      "              warm_start=False)\n"
     ]
    },
    {
     "data": {
      "image/png": "[encoded data removed]",
      "text/plain": [
       "<matplotlib.figure.Figure at 0xc4ec358>"
      ]
     },
     "metadata": {},
     "output_type": "display_data"
    },
    {
     "name": "stdout",
     "output_type": "stream",
     "text": [
      "Training Error\n",
      "Accuracy score =  0.881694560669\n",
      "Precision score =  0.851473704489\n",
      "Recall score =  0.924686192469\n",
      "F1 score =  0.886571056063\n",
      "\n",
      "Test Error\n",
      "Accuracy score =  0.828781834919\n",
      "Precision score =  0.628747795414\n",
      "Recall score =  0.838823529412\n",
      "F1 score =  0.71875\n",
      "\n"
     ]
    },
    {
     "data": {
      "image/png": "[encoded data removed]",
      "text/plain": [
       "<matplotlib.figure.Figure at 0xe739588>"
      ]
     },
     "metadata": {},
     "output_type": "display_data"
    }
   ],
   "source": [
    "def classification_gradientBoosting(X_train, y_train, X_test, y_test, target, scoring_param='f1'):\n",
    "    from sklearn.model_selection import GridSearchCV\n",
    "    from sklearn.ensemble import GradientBoostingClassifier\n",
    "    import matplotlib.pyplot as plt\n",
    "    import numpy as np\n",
    "    \n",
    "    gb = GradientBoostingClassifier()\n",
    "    print gb.get_params()\n",
    "    \n",
    "    estimator_range = [10, 100, 1000]\n",
    "    learning_rate_range = [0.1, 0.2]\n",
    "    max_depth_range = [3, 5, 7]\n",
    "    feature_range = ['sqrt', 'log2']\n",
    "\n",
    "    param_grid = {'n_estimators': estimator_range, 'learning_rate': learning_rate_range, 'max_depth': max_depth_range, 'max_features': feature_range}\n",
    "\n",
    "    gs = GridSearchCV(estimator=gb, param_grid=param_grid, scoring=scoring_param, cv=2, n_jobs=-1)\n",
    "    gs.fit(X_train,y_train)\n",
    "    \n",
    "    print \"\\nBest Score = {}\".format(gs.best_score_)\n",
    "    print \"\\nBest params: {}\".format(gs.best_params_)\n",
    "    print \"\\nBest Estimator: {}\".format(gs.best_estimator_)\n",
    "    \n",
    "    gb = gs.best_estimator_\n",
    "    \n",
    "    feature_importance = gb.feature_importances_\n",
    "    feature_importance = 100.0 * (feature_importance / feature_importance.max())\n",
    "    sorted_idx = np.argsort(feature_importance)\n",
    "    pos = np.arange(sorted_idx.shape[0]) + .5\n",
    "    plt.figure(figsize=(16, 12))\n",
    "    plt.barh(pos, feature_importance[sorted_idx], align='center', color='#7A68A6')\n",
    "    plt.yticks(pos, np.asanyarray(df.columns[df.columns != target])[sorted_idx])\n",
    "    plt.xlabel('Relative Importance')\n",
    "    plt.title('Variable Importance')\n",
    "    plt.show()\n",
    "    \n",
    "    from sklearn.metrics import accuracy_score, precision_score, recall_score, f1_score\n",
    "    \n",
    "    print \"Training Error\"\n",
    "    print \"Accuracy score = \", accuracy_score(y_train, gb.predict(X_train))\n",
    "    print \"Precision score = \", precision_score(y_train, gb.predict(X_train))\n",
    "    print \"Recall score = \", recall_score(y_train, gb.predict(X_train))\n",
    "    print \"F1 score = \", f1_score(y_train, gb.predict(X_train))\n",
    "    print \n",
    "\n",
    "\n",
    "    print \"Test Error\"\n",
    "    print \"Accuracy score = \", accuracy_score(y_test, gb.predict(X_test))\n",
    "    print \"Precision score = \", precision_score(y_test, gb.predict(X_test))\n",
    "    print \"Recall score = \", recall_score(y_test, gb.predict(X_test))\n",
    "    print \"F1 score = \", f1_score(y_test, gb.predict(X_test))\n",
    "    print \n",
    "\n",
    "    # Plot confusion matrix\n",
    "    from mlxtend.evaluate import confusion_matrix\n",
    "    from mlxtend.plotting import plot_confusion_matrix\n",
    "    import matplotlib.pyplot as plt\n",
    "    y_pred = gb.predict(X_test)\n",
    "    cm = confusion_matrix(y_target=y_test, \n",
    "                      y_predicted=y_pred, \n",
    "                      binary=True)\n",
    "    fig, ax = plot_confusion_matrix(conf_mat=cm)\n",
    "    plt.show()\n",
    "    \n",
    "    return gb\n",
    "    \n",
    "gb = classification_gradientBoosting(X_train, y_train, X_test, y_test, 'converted')"
   ]
  },
  {
   "cell_type": "code",
   "execution_count": 39,
   "metadata": {
    "collapsed": false
   },
   "outputs": [
    {
     "data": {
      "text/plain": [
       "Index([u'age', u'new_user', u'total_pages_visited', u'country_China',\n",
       "       u'country_Germany', u'country_UK', u'country_US', u'source_Ads',\n",
       "       u'source_Direct', u'source_Seo'],\n",
       "      dtype='object')"
      ]
     },
     "execution_count": 39,
     "metadata": {},
     "output_type": "execute_result"
    }
   ],
   "source": [
    "X.columns"
   ]
  },
  {
   "cell_type": "code",
   "execution_count": 40,
   "metadata": {
    "collapsed": false
   },
   "outputs": [
    {
     "data": {
      "image/png": "[encoded data removed]",
      "text/plain": [
       "<matplotlib.figure.Figure at 0xe5fc6d8>"
      ]
     },
     "metadata": {},
     "output_type": "display_data"
    }
   ],
   "source": [
    "# Partial dependence plot for interpretation of the model (defined only on training data)\n",
    "\n",
    "from sklearn.ensemble.partial_dependence import plot_partial_dependence\n",
    "\n",
    "fig, axs = plot_partial_dependence(gb, X_train, features = [2,3]) # The features are the column numbers from the X array \n",
    "\n",
    "# One-way PDPs tell us about the interaction between the target response and the target feature (e.g. linear, non-linear)\n",
    "# Also it can tell direction ( +ve or -ve relationship)"
   ]
  },
  {
   "cell_type": "markdown",
   "metadata": {},
   "source": [
    "### Threshold/Cut-off Analysis - ROC or PR curve"
   ]
  },
  {
   "cell_type": "markdown",
   "metadata": {},
   "source": [
    "#### ROC "
   ]
  },
  {
   "cell_type": "code",
   "execution_count": 41,
   "metadata": {
    "collapsed": false
   },
   "outputs": [
    {
     "data": {
      "image/png": "[encoded data removed]",
      "text/plain": [
       "<matplotlib.figure.Figure at 0xe873198>"
      ]
     },
     "metadata": {},
     "output_type": "display_data"
    }
   ],
   "source": [
    "# Plot ROC Curve for the best performing classifier e.g. gradient boosting\n",
    "\n",
    "from sklearn.metrics import roc_curve\n",
    "y_pred_prob = gb.predict_proba(X_test) \n",
    "fpr, tpr, thresholds = roc_curve(y_test, y_pred_prob[:,1])\n",
    "\n",
    "plt.plot(fpr, tpr)\n",
    "plt.xlim([0.0, 1.0])\n",
    "plt.ylim([0.0, 1.0])\n",
    "plt.rcParams['font.size'] = 12\n",
    "plt.title('ROC curve')\n",
    "plt.xlabel('False Positive Rate (1 - Specificity)')\n",
    "plt.ylabel('True Positive Rate (Sensitivity)')\n",
    "plt.grid(True)"
   ]
  },
  {
   "cell_type": "code",
   "execution_count": 42,
   "metadata": {
    "collapsed": false
   },
   "outputs": [
    {
     "name": "stdout",
     "output_type": "stream",
     "text": [
      "('Sensitivity:', 0.8294117647058824)\n",
      "('Specificity:', 0.8368617683686177)\n"
     ]
    }
   ],
   "source": [
    "# define a function that accepts a threshold and prints sensitivity and specificity\n",
    "def evaluate_roc_threshold(threshold):\n",
    "    print('Sensitivity:', tpr[thresholds > threshold][-1])\n",
    "    print('Specificity:', 1 - fpr[thresholds > threshold][-1])\n",
    "    \n",
    "# Aim is to maximize both sensitivity and specificity\n",
    "evaluate_roc_threshold(0.5224)"
   ]
  },
  {
   "cell_type": "code",
   "execution_count": 43,
   "metadata": {
    "collapsed": false
   },
   "outputs": [
    {
     "data": {
      "text/html": [
       "<div>\n",
       "<style>\n",
       "    .dataframe thead tr:only-child th {\n",
       "        text-align: right;\n",
       "    }\n",
       "\n",
       "    .dataframe thead th {\n",
       "        text-align: left;\n",
       "    }\n",
       "\n",
       "    .dataframe tbody tr th {\n",
       "        vertical-align: top;\n",
       "    }\n",
       "</style>\n",
       "<table border=\"1\" class=\"dataframe\">\n",
       "  <thead>\n",
       "    <tr style=\"text-align: right;\">\n",
       "      <th></th>\n",
       "      <th>1-fpr</th>\n",
       "      <th>fpr</th>\n",
       "      <th>tf</th>\n",
       "      <th>thresholds</th>\n",
       "      <th>tpr</th>\n",
       "    </tr>\n",
       "  </thead>\n",
       "  <tbody>\n",
       "    <tr>\n",
       "      <th>292</th>\n",
       "      <td>0.831465</td>\n",
       "      <td>0.168535</td>\n",
       "      <td>0.000299</td>\n",
       "      <td>0.510988</td>\n",
       "      <td>0.831765</td>\n",
       "    </tr>\n",
       "  </tbody>\n",
       "</table>\n",
       "</div>"
      ],
      "text/plain": [
       "        1-fpr       fpr        tf  thresholds       tpr\n",
       "292  0.831465  0.168535  0.000299    0.510988  0.831765"
      ]
     },
     "execution_count": 43,
     "metadata": {},
     "output_type": "execute_result"
    }
   ],
   "source": [
    "# Find optimal cut off point \n",
    "# The optimal cut off would be where tpr is high and fpr is low\n",
    "# tpr - (1-fpr) is zero or near to zero is the optimal cut off point\n",
    "\n",
    "i = np.arange(len(tpr)) # index for df\n",
    "roc = pd.DataFrame({'fpr' : pd.Series(fpr, index=i),'tpr' : pd.Series(tpr, index = i), '1-fpr' : pd.Series(1-fpr, index = i), 'tf' : pd.Series(tpr - (1-fpr), index = i), 'thresholds' : pd.Series(thresholds, index = i)})\n",
    "roc.loc[(roc.tf-0).abs().argsort()[:1]]"
   ]
  },
  {
   "cell_type": "code",
   "execution_count": 45,
   "metadata": {
    "collapsed": false
   },
   "outputs": [
    {
     "name": "stdout",
     "output_type": "stream",
     "text": [
      " Confusion Matrix\n"
     ]
    },
    {
     "data": {
      "image/png": "[encoded data removed]",
      "text/plain": [
       "<matplotlib.figure.Figure at 0x1183b908>"
      ]
     },
     "metadata": {},
     "output_type": "display_data"
    },
    {
     "name": "stdout",
     "output_type": "stream",
     "text": [
      "Accuracy score =  0.834918686714\n",
      "Precision score =  0.642076502732\n",
      "Recall score =  0.829411764706\n",
      "F1 score =  0.723819301848\n"
     ]
    }
   ],
   "source": [
    "# Classifier performance on the new threshold\n",
    "\n",
    "# store the predicted probabilities for class 1\n",
    "y_pred_prob = [gb.predict_proba(X_test)[:,1]]\n",
    "from sklearn.preprocessing import binarize\n",
    "# it will return 1 for all values above optimum threshold and 0 otherwise\n",
    "# results are 2D so we slice out the first column\n",
    "y_pred_class = binarize(y_pred_prob, 0.5222)[0]\n",
    "\n",
    "# Print confusion matrix\n",
    "print \"Confusion Matrix\"\n",
    "from mlxtend.evaluate import confusion_matrix\n",
    "from mlxtend.plotting import plot_confusion_matrix\n",
    "import matplotlib.pyplot as plt\n",
    "cm = confusion_matrix(y_target=y_test, \n",
    "                      y_predicted=y_pred_class, \n",
    "                      binary=True)\n",
    "\n",
    "fig, ax = plot_confusion_matrix(conf_mat=cm)\n",
    "plt.show()\n",
    "\n",
    "# Print Classification metrics\n",
    "from sklearn.metrics import accuracy_score, precision_score, recall_score, f1_score\n",
    "print \"Accuracy score = \", accuracy_score(y_test, y_pred_class)\n",
    "print \"Precision score = \", precision_score(y_test, y_pred_class)\n",
    "print \"Recall score = \", recall_score(y_test, y_pred_class)\n",
    "print \"F1 score = \", f1_score(y_test, y_pred_class)"
   ]
  },
  {
   "cell_type": "markdown",
   "metadata": {
    "collapsed": true
   },
   "source": [
    "#### PR"
   ]
  },
  {
   "cell_type": "code",
   "execution_count": 46,
   "metadata": {
    "collapsed": false
   },
   "outputs": [
    {
     "data": {
      "image/png": "[encoded data removed]",
      "text/plain": [
       "<matplotlib.figure.Figure at 0x1185a748>"
      ]
     },
     "metadata": {},
     "output_type": "display_data"
    }
   ],
   "source": [
    "# Plot PR Curve for the best performing classifier e.g. gradient boosting\n",
    "from sklearn.metrics import precision_recall_curve\n",
    "y_pred_prob = gb.predict_proba(X_test)\n",
    "precision, recall, thresholds = precision_recall_curve(y_test, y_pred_prob[:,1])\n",
    "\n",
    "\n",
    "plt.plot(recall, precision)\n",
    "plt.xlim([0.0, 1.0])\n",
    "plt.ylim([0.0, 1.0])\n",
    "plt.rcParams['font.size'] = 12\n",
    "plt.title('PR curve')\n",
    "plt.xlabel('Recall')\n",
    "plt.ylabel('Precision')\n",
    "plt.grid(True)"
   ]
  },
  {
   "cell_type": "code",
   "execution_count": 47,
   "metadata": {
    "collapsed": false
   },
   "outputs": [
    {
     "name": "stdout",
     "output_type": "stream",
     "text": [
      "('Precision:', 0.88172043010752688)\n",
      "('Recall:', 0.4823529411764706)\n"
     ]
    }
   ],
   "source": [
    "# define a function that accepts a threshold and prints precision and recall\n",
    "def evaluate_pr_threshold(threshold):\n",
    "    pt = zip(thresholds,precision)\n",
    "    rt = zip(thresholds,recall)\n",
    "    print('Precision:', [p for p in pt if p[0] > threshold][0][1])\n",
    "    print('Recall:', [r for r in rt if r[0] > threshold][0][1])\n",
    "    \n",
    "# Aim is to maximize both precision and recall\n",
    "evaluate_pr_threshold(0.7)"
   ]
  },
  {
   "cell_type": "code",
   "execution_count": 48,
   "metadata": {
    "collapsed": false
   },
   "outputs": [
    {
     "data": {
      "text/html": [
       "<div>\n",
       "<style>\n",
       "    .dataframe thead tr:only-child th {\n",
       "        text-align: right;\n",
       "    }\n",
       "\n",
       "    .dataframe thead th {\n",
       "        text-align: left;\n",
       "    }\n",
       "\n",
       "    .dataframe tbody tr th {\n",
       "        vertical-align: top;\n",
       "    }\n",
       "</style>\n",
       "<table border=\"1\" class=\"dataframe\">\n",
       "  <thead>\n",
       "    <tr style=\"text-align: right;\">\n",
       "      <th></th>\n",
       "      <th>precision</th>\n",
       "      <th>recall</th>\n",
       "      <th>tf</th>\n",
       "      <th>thresholds</th>\n",
       "    </tr>\n",
       "  </thead>\n",
       "  <tbody>\n",
       "    <tr>\n",
       "      <th>1021</th>\n",
       "      <td>0.722679</td>\n",
       "      <td>0.723529</td>\n",
       "      <td>-0.00085</td>\n",
       "      <td>0.592754</td>\n",
       "    </tr>\n",
       "  </tbody>\n",
       "</table>\n",
       "</div>"
      ],
      "text/plain": [
       "      precision    recall       tf  thresholds\n",
       "1021   0.722679  0.723529 -0.00085    0.592754"
      ]
     },
     "execution_count": 48,
     "metadata": {},
     "output_type": "execute_result"
    }
   ],
   "source": [
    "# Find optimal cut off point \n",
    "# The optimal cut off would be where precision and recall are both high \n",
    "# precision - recall is zero or near to zero is the optimal cut off point\n",
    "\n",
    "i = np.arange(len(thresholds)) # index for df\n",
    "recall = recall[:-1] # recall : array, shape = [n_thresholds + 1]\n",
    "precision = precision[:-1] # precision : array, shape = [n_thresholds + 1]\n",
    "roc = pd.DataFrame({'recall' : pd.Series(recall, index=i),'precision' : pd.Series(precision, index = i), 'tf' : pd.Series(precision - recall, index = i), 'thresholds' : pd.Series(thresholds, index = i)})\n",
    "roc.loc[(roc.tf-0).abs().argsort()[:1]]"
   ]
  },
  {
   "cell_type": "code",
   "execution_count": 50,
   "metadata": {
    "collapsed": false
   },
   "outputs": [
    {
     "name": "stdout",
     "output_type": "stream",
     "text": [
      " Confusion Matrix\n"
     ]
    },
    {
     "data": {
      "image/png": "[encoded data removed]",
      "text/plain": [
       "<matplotlib.figure.Figure at 0xc61a668>"
      ]
     },
     "metadata": {},
     "output_type": "display_data"
    },
    {
     "name": "stdout",
     "output_type": "stream",
     "text": [
      "Accuracy score =  0.856090825407\n",
      "Precision score =  0.725443786982\n",
      "Recall score =  0.721176470588\n",
      "F1 score =  0.723303834808\n"
     ]
    }
   ],
   "source": [
    "# Classifier performance on the new threshold\n",
    "\n",
    "# store the predicted probabilities for class 1\n",
    "y_pred_prob = [gb.predict_proba(X_test)[:,1]]\n",
    "from sklearn.preprocessing import binarize\n",
    "# it will return 1 for all values above optimum threshold and 0 otherwise\n",
    "# results are 2D so we slice out the first column\n",
    "y_pred_class = binarize(y_pred_prob, 0.5971)[0]\n",
    "\n",
    "# Print confusion matrix\n",
    "print \"Confusion Matrix\"\n",
    "from mlxtend.evaluate import confusion_matrix\n",
    "from mlxtend.plotting import plot_confusion_matrix\n",
    "import matplotlib.pyplot as plt\n",
    "cm = confusion_matrix(y_target=y_test, \n",
    "                      y_predicted=y_pred_class, \n",
    "                      binary=True)\n",
    "\n",
    "fig, ax = plot_confusion_matrix(conf_mat=cm)\n",
    "plt.show()\n",
    "\n",
    "# Print Classification metrics\n",
    "from sklearn.metrics import accuracy_score, precision_score, recall_score, f1_score\n",
    "print \"Accuracy score = \", accuracy_score(y_test, y_pred_class)\n",
    "print \"Precision score = \", precision_score(y_test, y_pred_class)\n",
    "print \"Recall score = \", recall_score(y_test, y_pred_class)\n",
    "print \"F1 score = \", f1_score(y_test, y_pred_class)"
   ]
  },
  {
   "cell_type": "markdown",
   "metadata": {},
   "source": [
    "##### Analyzing Error & Re-iterating - Some tips\n",
    "\n",
    "* Feature Engineering\n",
    "* Cluster and then apply different classification model for each cluster\n",
    "* Ensemble Technique\n",
    "* If missing values were large initially, analyze the effect of imputing or apply other imputation techniques"
   ]
  },
  {
   "cell_type": "code",
   "execution_count": null,
   "metadata": {
    "collapsed": true
   },
   "outputs": [],
   "source": []
  }
 ],
 "metadata": {
  "anaconda-cloud": {},
  "kernelspec": {
   "display_name": "Python [conda root]",
   "language": "python",
   "name": "conda-root-py"
  },
  "language_info": {
   "codemirror_mode": {
    "name": "ipython",
    "version": 2
   },
   "file_extension": ".py",
   "mimetype": "text/x-python",
   "name": "python",
   "nbconvert_exporter": "python",
   "pygments_lexer": "ipython2",
   "version": "2.7.12"
  }
 },
 "nbformat": 4,
 "nbformat_minor": 1
}
